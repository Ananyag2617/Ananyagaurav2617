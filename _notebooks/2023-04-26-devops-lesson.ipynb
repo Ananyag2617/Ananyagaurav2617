{
 "cells": [
  {
   "attachments": {},
   "cell_type": "markdown",
   "metadata": {},
   "source": [
    "# DevOps Lesson\n",
    "\n",
    "- toc: true\n",
    "- categories: []\n",
    "- type: pbl"
   ]
  },
  {
   "cell_type": "code",
   "execution_count": 2,
   "metadata": {},
   "outputs": [
    {
     "name": "stdout",
     "output_type": "stream",
     "text": [
      "142.250.188.238\n"
     ]
    }
   ],
   "source": [
    "import socket\n",
    "\n",
    "# Change the following host and see what IP it prints!\n",
    "host = \"google.com\"\n",
    "ip = socket.gethostbyname(host)\n",
    "\n",
    "print(ip)"
   ]
  },
  {
   "cell_type": "code",
   "execution_count": 3,
   "metadata": {},
   "outputs": [
    {
     "name": "stdout",
     "output_type": "stream",
     "text": [
      "Successfully connected!\n"
     ]
    }
   ],
   "source": [
    "# Initiate a TCP connection to port 80\n",
    "with socket.socket(socket.AF_INET, socket.SOCK_STREAM) as s:\n",
    "    s.connect((ip, 80))\n",
    "    print(\"Successfully connected!\")"
   ]
  },
  {
   "attachments": {},
   "cell_type": "markdown",
   "metadata": {},
   "source": [
    "## Check-In\n",
    "\n",
    "1. What is an IP address?\n",
    "- <mark>A unique numerical label assigned to each device on a network.<mark>\n",
    "2. What is a TCP port?\n",
    "- <mark>An endpoint in a computer's operating system that enables processes to connect and exchange data over a network using the Transmission Control Protocol (TCP).<mark>\n"
   ]
  },
  {
   "cell_type": "code",
   "execution_count": 4,
   "metadata": {},
   "outputs": [
    {
     "name": "stdout",
     "output_type": "stream",
     "text": [
      "HTTP/1.1 200 OK\n",
      "Date: Sun, 30 Apr 2023 20:16:56 GMT\n",
      "Expires: -1\n",
      "Cache-Control: private, max-age=0\n",
      "Content-Type: text/html; charset=ISO-8859-1\n",
      "Content-Security-Policy-Report-Only: object-src 'none';base-uri 'self';script-src 'nonce-tuMpg8b9OGQrptQXO1Z0yA' 'strict-dynamic' 'report-sample' 'unsafe-eval' 'unsafe-inline' https: http:;report-uri https://csp.withgoogle.com/csp/gws/other-hp\n",
      "P3P: CP=\"This is not a P3P policy! See g.co/p3phelp for more info.\"\n",
      "Server: gws\n",
      "X-XSS-Protection: 0\n",
      "X-Frame-Options: SAMEORIGIN\n",
      "Set-Cookie: 1P_JAR=2023-04-30-20; expires=Tue, 30-May-2023 20:16:56 GMT; path=/; domain=.google.com; Secure\n",
      "Set-Cookie: AEC=AUEFqZd7_0TmvXqllOsKCX6s34YNg2HlFqkfN2waTQhsIvNBbeZgSwGrd84; expires=Fri, 27-Oct-2023 20:16:56 GMT; path=/; domain=.google.com; Secure; HttpOnly; SameSite=lax\n",
      "Set-Cookie: NID=511=ZJsFCin_6jSqlNZg8l7rryJmA-OcuO_tbVru5yTSrAFxs3kBhZyh9HrUUbz9e_Y9PgEsAgVof9bj4vHzBKz-WxRWk0T7Jhsu7beT1KkhBemv-t3d25VHdQmv-i3BSt9wHOkxUx6-AfhMwuLbxcS1OlbBwO5qQri-4UOp2tvIxjk; expires=Mon, 30-Oct-2023 20:16:56 GMT; path=/; domain=.google.com; HttpOnly\n",
      "Accept-Ranges: none\n",
      "Vary: Accept-Encoding\n",
      "Transfer-Encoding: chunked\n",
      "\n",
      "5607\n",
      "<!doctype html><html itemscope=\"\" itemtype=\"http://schema.org/WebPage\" lang=\"en\"><head><meta content=\"Search the world's information, including webpages, images, videos and more. Google has many special features to help you find exactly what\n"
     ]
    }
   ],
   "source": [
    "with socket.socket(socket.AF_INET, socket.SOCK_STREAM) as s:\n",
    "    s.connect((ip, 80))\n",
    "\n",
    "    # Send a GET request to \"/\"\n",
    "    s.sendall(b\"GET / HTTP/1.1\\r\\n\\r\\n\")\n",
    "\n",
    "    # Recieve & print 2048 bytes of data\n",
    "    data = s.recv(2048)\n",
    "    print(data.decode())"
   ]
  },
  {
   "cell_type": "code",
   "execution_count": 7,
   "metadata": {},
   "outputs": [
    {
     "name": "stdout",
     "output_type": "stream",
     "text": [
      "Status code: 200\n",
      "Headers: {'date': 'Sun, 30 Apr 2023 20:22:40 GMT', 'content-type': 'text/html; charset=utf-8', 'vary': 'Accept-Encoding,Accept-Encoding', 'set-cookie': 'sp_t=29d2fe65bf3c8e941cd23978c5557943; path=/; expires=Mon, 29 Apr 2024 20:22:40 GMT; domain=.spotify.com; samesite=none; secure, sp_landing=https%3A%2F%2Fopen.spotify.com%2F%3Fsp_cid%3D29d2fe65bf3c8e941cd23978c5557943%26device%3Ddesktop; path=/; expires=Mon, 01 May 2023 20:22:40 GMT; domain=.spotify.com; samesite=none; secure; httponly', 'content-security-policy': \"script-src 'self' 'unsafe-eval' blob: open.spotifycdn.com open-review.spotifycdn.com quicksilver.scdn.co www.google-analytics.com www.googletagmanager.com static.ads-twitter.com analytics.twitter.com s.pinimg.com sc-static.net https://www.google.com/recaptcha/ cdn.ravenjs.com connect.facebook.net www.gstatic.com sb.scorecardresearch.com pixel-static.spotify.com optimize.google.com cdn.cookielaw.org geolocation.onetrust.com www.googleoptimize.com www.fastly-insights.com static.hotjar.com script.hotjar.com https://www.googleadservices.com/pagead/conversion_async.js https://www.googleadservices.com/pagead/conversion/ https://analytics.tiktok.com/i18n/pixel/sdk.js https://analytics.tiktok.com/i18n/pixel/identify.js https://analytics.tiktok.com/i18n/pixel/config.js https://www.redditstatic.com/ads/pixel.js cdn.speedcurve.com 'sha256-WfsTi7oVogdF9vq5d14s2birjvCglqWF842fyHhzoNw=' 'sha256-KRzjHxCdT8icNaDOqPBdY0AlKiIh5F8r4bnbe1PQwss=' 'sha256-Z5wh7XXSBR1+mTxLSPFhywCZJt77+uP1GikAgPIsu2s='; frame-ancestors 'self';\", 'content-encoding': 'gzip', 'x-envoy-upstream-service-time': '40', 'sp-trace-id': '71075a8014d39268', 'strict-transport-security': 'max-age=31536000', 'x-content-type-options': 'nosniff', 'server': 'envoy', 'Via': 'HTTP/2 edgeproxy, 1.1 google', 'Alt-Svc': 'h3=\":443\"; ma=2592000,h3-29=\":443\"; ma=2592000', 'Transfer-Encoding': 'chunked'}\n",
      "Response text: <!doctype html><html class=\"mobile-web-player\" lang=\"en\" dir=\"ltr\"><head><meta charSet=\"utf-8\"/><tit\n",
      "Content-Type: text/html; charset=utf-8\n",
      "Status code: 200\n",
      "Headers: {'Date': 'Sun, 30 Apr 2023 20:22:40 GMT', 'Pragma': 'no-cache', 'Expires': 'Fri, 01 Jan 1990 00:00:00 GMT', 'Cache-Control': 'no-cache, must-revalidate', 'Content-Type': 'text/html; charset=ISO-8859-1', 'Content-Security-Policy': \"object-src 'none';base-uri 'self';script-src 'nonce-YRlafFUwSt8r1N6RrxG1xA' 'strict-dynamic' 'report-sample' 'unsafe-eval' 'unsafe-inline' https: http:;report-uri https://csp.withgoogle.com/csp/gws/other\", 'P3P': 'CP=\"This is not a P3P policy! See g.co/p3phelp for more info.\"', 'Content-Encoding': 'gzip', 'Server': 'gws', 'X-XSS-Protection': '0', 'Set-Cookie': 'NID=511=s1naR1fAgU4IO1rewtECXikBxT7UxHGwRNxL99s3y0SOkFdon_I8h3Rz1aLm8ZhaZBLdnpdQHygNKmvO6u6JVj6HFUdnkcNxzKStiClYd5aJV37cqNvcuGbx0I0xMvviszDDfIrDC0lixX69lWX6FAEI-gGOLYWUYTg121yEmk0; expires=Mon, 30-Oct-2023 20:22:40 GMT; path=/; domain=.google.com; HttpOnly', 'Alt-Svc': 'h3=\":443\"; ma=2592000,h3-29=\":443\"; ma=2592000', 'Transfer-Encoding': 'chunked'}\n",
      "Response text: <html lang=\"en\"><head><meta http-equiv=\"Content-Type\" content=\"text/html; charset=ISO-8859-1\"><title\n",
      "Content-Type: text/html; charset=ISO-8859-1\n"
     ]
    }
   ],
   "source": [
    "import requests\n",
    "\n",
    "# Change the URL to whatever you'd like\n",
    "response = requests.get(\"https://open.spotify.com/\")\n",
    "\n",
    "print(\"Status code:\", response.status_code)\n",
    "print(\"Headers:\", response.headers)\n",
    "print(\"Response text:\", response.text[:100])\n",
    "\n",
    "# Add a line to print the \"Content-Type\" header of the response\n",
    "print(\"Content-Type:\", response.headers.get(\"Content-Type\"))\n",
    "# Try an image URL!\n",
    "response = requests.get(\"https://www.google.com/url?sa=i&url=https%3A%2F%2Fwww.itprotoday.com%2Fdevops-and-software-development%2Fprogramming-evolution-how-coding-has-grown-easier-past-decade&psig=AOvVaw2iyeWc34nzEvgBsX2hpdfe&ust=1682972537433000&source=images&cd=vfe&ved=0CBAQjRxqFwoTCKjHl7W30v4CFQAAAAAdAAAAABAD\")\n",
    "print(\"Status code:\", response.status_code)\n",
    "print(\"Headers:\", response.headers)\n",
    "print(\"Response text:\", response.text[:100])\n",
    "print(\"Content-Type:\", response.headers.get(\"Content-Type\"))"
   ]
  },
  {
   "attachments": {},
   "cell_type": "markdown",
   "metadata": {},
   "source": [
    "# NGINX"
   ]
  },
  {
   "cell_type": "code",
   "execution_count": 8,
   "metadata": {},
   "outputs": [
    {
     "name": "stdout",
     "output_type": "stream",
     "text": [
      "<!doctype html>\n",
      "<html>\n",
      "<head>\n",
      "<title>Cool site</title>\n",
      "<meta name=\"description\" content=\"cool site for apcsp\">\n",
      "</head>\n",
      "<body>\n",
      "Hello, this is my cool site. Check out my products:\n",
      "<a href=\"/products\">Products!!</a>\n",
      "</body>\n",
      "</html>\n",
      "\n"
     ]
    }
   ],
   "source": [
    "aws = \"3.130.255.192\"\n",
    "\n",
    "response = requests.get(\"http://\" + aws)\n",
    "print(response.text)\n"
   ]
  },
  {
   "attachments": {},
   "cell_type": "markdown",
   "metadata": {},
   "source": [
    "## Configuration\n",
    "\n",
    "```nginx\n",
    "server {\n",
    "    // Listen on virtual \"port 80\"\n",
    "    listen 80;\n",
    "    listen [::]:80;\n",
    "    server_name 3.130.255.192;\n",
    "\n",
    "    location / {\n",
    "        // Inform server about original client\n",
    "        proxy_set_header        Host $host;\n",
    "        proxy_set_header        X-Real-IP $remote_addr;\n",
    "        proxy_set_header        X-Forwarded-For $proxy_add_x_forwarded_for;\n",
    "        proxy_set_header        X-Forwarded-Proto $scheme;\n",
    "\n",
    "        // Forward all requests transparently to the server running on our computer\n",
    "        proxy_pass              http://localhost:9099;\n",
    "    }\n",
    "}\n",
    "```\n",
    "\n",
    "### Load Balancing\n",
    "\n",
    "```nginx\n",
    "upstream example.com {\n",
    "    server server1.example.com;\n",
    "    server server1.example.com;\n",
    "}\n",
    "```\n",
    "\n",
    "### HTTP Headers\n",
    "\n",
    "```nginx\n",
    "server {\n",
    "    add_header X-Cool-Header \"I love APCSP!\";\n",
    "\n",
    "    location /pages {\n",
    "        add_header X-Cooler-Header \"This is my secret header!\";\n",
    "    }\n",
    "}\n",
    "```\n",
    "\n",
    "## Check In\n",
    "\n",
    "1. Research 1 HTTP header and describe, in detail, its purpose.\n",
    "2. Write a line in a sample NGINX configuration that will add that specific header to the `/information` location\n",
    "3. Explain the purpose of the load balancing performed by NGINX\n",
    "4. Modify the following code block to obtain the value of the secret header on `/products` of the AWS site\n"
   ]
  },
  {
   "attachments": {},
   "cell_type": "markdown",
   "metadata": {},
   "source": [
    "# Answers\n",
    "1. \n",
    "- <mark>One HTTP header is the \"User-Agent\" header, which provides information about the client making the request. This header typically includes the name and version number of the client's operating system and web browser, as well as any other relevant information about the client's environment that the server may use to tailor its response. The User-Agent header allows servers to provide different versions of their website or content optimized for different clients or devices.<mark>\n",
    "\n",
    "2. \n",
    "- <mark>To add the \"User-Agent\" header to the /information location in an NGINX configuration, you can use the following line:\n",
    "\n",
    "b\n",
    "location /information {\n",
    "  add_header User-Agent \"my-custom-user-agent\";\n",
    "  ...\n",
    "}<mark>\n",
    "\n",
    "3. <mark>By distributing traffic across multiple servers, NGINX can handle more traffic than a single server could, and can also provide fault tolerance and high availability by automatically redirecting traffic to healthy servers if one or more servers fail.<mark>\n",
    "\n"
   ]
  },
  {
   "cell_type": "code",
   "execution_count": 11,
   "metadata": {},
   "outputs": [
    {
     "name": "stdout",
     "output_type": "stream",
     "text": [
      "The secret header is: This is my secret header!\n"
     ]
    }
   ],
   "source": [
    "import requests\n",
    "\n",
    "aws = \"3.130.255.192\"\n",
    "\n",
    "response = requests.get(\"http://\" + aws + \"/products\")\n",
    "\n",
    "a = response.headers.get('X-Cooler-Header')\n",
    "\n",
    "print(\"The secret header is:\", a)"
   ]
  },
  {
   "attachments": {},
   "cell_type": "markdown",
   "metadata": {},
   "source": [
    "# Hacks\n",
    "\n",
    "- Complete the above check-in questions and change the hosts (0.1)\n",
    "- Complete the above code-segment to retrieve the secret header (0.1)\n",
    "\n",
    "## Bonus (0.05)\n",
    "\n",
    "Create a diagram showing the layers of abstraction that allow us to use HTTP (IP, TCP, etc.)"
   ]
  },
  {
   "attachments": {},
   "cell_type": "markdown",
   "metadata": {},
   "source": [
    "# CORS Hacks\n",
    "\n",
    "1. Explain what CORS is and what it stands for\n",
    "- <mark>CORS stands for Cross-Origin Resource Sharing, which is a security feature implemented by web browsers to restrict web page access to resources from different origins.<mark>\n",
    "\n",
    "2. Describe how you would be able to implement CORS into your own websites\n",
    "- <mark>To implement CORS on my own website, I would need to configure my web server to include the appropriate response headers that allow or restrict access to resources from other domains. I can also use server-side programming languages or middleware to enforce CORS policies.\n",
    "<mark>\n",
    "\n",
    "3. Describe why you would want to implement CORS into your own websites\n",
    "- <mark>I would want to implement CORS into my own websites to protect my website's resources from unauthorized access or usage by other websites, while still allowing legitimate cross-origin requests from trusted sources.\n",
    "<mark>\n",
    "\n",
    "4. How could use CORS to benefit yourself in the future?\n",
    "- <mark>I can use CORS to benefit myself in the future by ensuring that my website is secure and protected from malicious attacks, and by enabling my website to interact with other domains and services in a controlled and secure manner. This can help me to provide better functionality and services to my users, and can also help to improve the overall user experience of my website.\n",
    "<mark>\n",
    "\n",
    "Total: 0.2 points\n",
    "\n",
    "# KASM Hacks\n",
    "\n",
    "1. What is the purpose of \"sudo\" when running commands in terminal?\n",
    "- <mark>\"sudo\" is used to run commands with elevated privileges, typically as the root user, in order to perform actions that require administrative access.<mark>\n",
    "\n",
    "2. What are some commands which allow us to look at how the storage of a machine is set up as?\n",
    "- <mark>Some commands to look at the storage setup of a machine include \"df\" to show the disk space usage, \"du\" to estimate file space usage, and \"lsblk\" to list block devices.<mark>\n",
    "\n",
    "3. What do you think are some alternatives to running \"curl -O\" to get the zip file for KASM?\n",
    "- <mark>Alternatives to \"curl -O\" to get the zip file for KASM could include using a web browser to download the file or using a different command-line tool such as wget.<mark>\n",
    "\n",
    "4. What kind of commands do you think the \"install.sh\" command has and why is it necessary to call it?\n",
    "- <mark>The \"install.sh\" command likely contains commands to install and configure KASM, such as setting up necessary dependencies, configuring network settings, and starting KASM services. It is necessary to call it to ensure that KASM is installed correctly and configured properly.<mark>\n",
    "\n",
    "5. Explain in at least 3-4 sentences how deploying KASM is related to/requires other topics talked about in the lesson and/or potential ways to add things mentioned in the lesson to this guide.\n",
    "- <mark>Deploying KASM involves concepts such as virtualization, network configuration, and security. It may require knowledge of topics such as Docker, Kubernetes, firewalls, and SSL certificates. Adding things mentioned in the lesson to this guide could include instructions on configuring specific network settings or integrating with other tools like Active Directory or LDAP.<mark>\n",
    "\n",
    "\n",
    "Total: 0.2 points\n",
    "\n",
    "# AWS/RDS Hacks\n",
    "\n",
    "See the [setup post](https://firestorm0986.github.io/SLAAT/posts/sqlite-aws/)\n",
    "\n",
    "- Create your own database in the EC2 I have created (ec2-database-connect)\n",
    "    - name it with your first and last name (example: aditya-nawandhar) (0.1)\n",
    "    - Create a table using the commands on the link provided. (0.1)\n",
    "    - using commands from the link provided make columns and rows with test data (can be anything) (example: “name” and “class” are the columns with rows being something like “Aditya” and “Junior”). At least 4 test rows (0.1)\n",
    "    - additional points if the data matches CPT (Bonus: 0.05)\n",
    "\n",
    "Total: 0.3"
   ]
  }
 ],
 "metadata": {
  "kernelspec": {
   "display_name": "base",
   "language": "python",
   "name": "python3"
  },
  "language_info": {
   "codemirror_mode": {
    "name": "ipython",
    "version": 3
   },
   "file_extension": ".py",
   "mimetype": "text/x-python",
   "name": "python",
   "nbconvert_exporter": "python",
   "pygments_lexer": "ipython3",
   "version": "3.9.12"
  },
  "orig_nbformat": 4
 },
 "nbformat": 4,
 "nbformat_minor": 2
}
