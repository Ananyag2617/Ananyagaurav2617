{
 "cells": [
  {
   "cell_type": "markdown",
   "metadata": {},
   "source": [
    "# Dictionary Methods!\n",
    "- categories: [week2]\n",
    "Lets Explore some methods we can use to edit dictionaries!"
   ]
  },
  {
   "cell_type": "markdown",
   "metadata": {},
   "source": [
    "# Methods...\n",
    "- clear()\t\n",
    "- copy()\t\n",
    "- fromkeys()\t\n",
    "- get()\t\n",
    "- items()\t\n",
    "- keys()\t\n",
    "- pop()\t\n",
    "- popitem()\t\n",
    "- setdefault()\t\n",
    "- update()\t\n",
    "- values()\t"
   ]
  },
  {
   "cell_type": "markdown",
   "metadata": {},
   "source": [
    "# Looping through a dictionary\n",
    "When we loop through a dictionary, we can also decide if we want just the values or the keys printed. \n",
    "Lets say that we want just the keys of the dictionary to be printed, we would have to type \n",
    "\n",
    "for a in dictionaryname.keys():\n",
    "print(a)\n",
    "\n",
    "In the code above we have used a for loop to go through the dictionary and print only the keys."
   ]
  },
  {
   "cell_type": "code",
   "execution_count": 8,
   "metadata": {},
   "outputs": [
    {
     "name": "stdout",
     "output_type": "stream",
     "text": [
      "Name\n",
      "Nickname\n",
      "Age\n",
      "Nationality\n",
      "Born?\n",
      "Eye_Color\n",
      "Favorite_Food\n",
      "Sibling\n"
     ]
    }
   ],
   "source": [
    "Ananya = {\n",
    "\"Name\": \"Ananya\",\n",
    " \"Nickname\": \"Aisha\",\n",
    "\"Age\": \"15\",\n",
    "\"Nationality\": \"Indian\",\n",
    "\"Born?\": \"India\",\n",
    "\"Eye_Color\": \"Brown\",\n",
    "\"Favorite_Food\" : \"Pasta\",\n",
    "\"Sibling\" : \"Rashi\"\n",
    "}\n",
    "\n",
    "for a in Ananya.keys():\n",
    "  print(a)\n"
   ]
  },
  {
   "cell_type": "markdown",
   "metadata": {},
   "source": [
    "Now lets say we want just the values, in order to print just the values, we would type the same line of code we did for keys, expect one word will change, keys to values\n",
    "for a in dictionaryname.values():\n",
    "  print(a)\n"
   ]
  },
  {
   "cell_type": "code",
   "execution_count": 9,
   "metadata": {},
   "outputs": [
    {
     "name": "stdout",
     "output_type": "stream",
     "text": [
      "Ananya\n",
      "Aisha\n",
      "15\n",
      "Indian\n",
      "India\n",
      "Brown\n",
      "Pasta\n",
      "Rashi\n"
     ]
    }
   ],
   "source": [
    "Ananya = {\n",
    "\"Name\": \"Ananya\",\n",
    " \"Nickname\": \"Aisha\",\n",
    "\"Age\": \"15\",\n",
    "\"Nationality\": \"Indian\",\n",
    "\"Born?\": \"India\",\n",
    "\"Eye_Color\": \"Brown\",\n",
    "\"Favorite_Food\" : \"Pasta\",\n",
    "\"Sibling\" : \"Rashi\"\n",
    "}\n",
    "\n",
    "for a in Ananya.values():\n",
    "  print(a)"
   ]
  },
  {
   "cell_type": "markdown",
   "metadata": {},
   "source": [
    "# Adding and Removing items from a Dictionary"
   ]
  },
  {
   "cell_type": "markdown",
   "metadata": {},
   "source": [
    "In order to add another index into a dictionary we say:\n",
    "dictionaryname[\"key\"] = \"value\"\n",
    "print(thidictionaryname)\n"
   ]
  },
  {
   "cell_type": "code",
   "execution_count": 10,
   "metadata": {},
   "outputs": [
    {
     "name": "stdout",
     "output_type": "stream",
     "text": [
      "{'Name': 'Ananya', 'Nickname': 'Aisha', 'Age': '15', 'Nationality': 'Indian', 'Born?': 'India', 'Eye_Color': 'Brown', 'Favorite_Food': 'Pasta', 'Sibling': 'Rashi', 'School': 'Del Norte'}\n"
     ]
    }
   ],
   "source": [
    "Ananya = {\n",
    "\"Name\": \"Ananya\",\n",
    " \"Nickname\": \"Aisha\",\n",
    "\"Age\": \"15\",\n",
    "\"Nationality\": \"Indian\",\n",
    "\"Born?\": \"India\",\n",
    "\"Eye_Color\": \"Brown\",\n",
    "\"Favorite_Food\" : \"Pasta\",\n",
    "\"Sibling\" : \"Rashi\"\n",
    "}\n",
    "\n",
    "Ananya[\"School\"] = \"Del Norte\"\n",
    "print(Ananya)"
   ]
  },
  {
   "cell_type": "markdown",
   "metadata": {},
   "source": [
    "In order to remove an index, we use the pop method"
   ]
  },
  {
   "cell_type": "code",
   "execution_count": 11,
   "metadata": {},
   "outputs": [
    {
     "name": "stdout",
     "output_type": "stream",
     "text": [
      "{'Name': 'Ananya', 'Nickname': 'Aisha', 'Age': '15', 'Nationality': 'Indian', 'Eye_Color': 'Brown', 'Favorite_Food': 'Pasta', 'Sibling': 'Rashi'}\n"
     ]
    }
   ],
   "source": [
    "Ananya = {\n",
    "\"Name\": \"Ananya\",\n",
    " \"Nickname\": \"Aisha\",\n",
    "\"Age\": \"15\",\n",
    "\"Nationality\": \"Indian\",\n",
    "\"Born?\": \"India\",\n",
    "\"Eye_Color\": \"Brown\",\n",
    "\"Favorite_Food\" : \"Pasta\",\n",
    "\"Sibling\" : \"Rashi\"\n",
    "}\n",
    "\n",
    "Ananya.pop(\"Born?\")\n",
    "print(Ananya)"
   ]
  }
 ],
 "metadata": {
  "language_info": {
   "name": "python"
  },
  "orig_nbformat": 4
 },
 "nbformat": 4,
 "nbformat_minor": 2
}
