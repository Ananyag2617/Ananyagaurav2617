{
 "cells": [
  {
   "cell_type": "markdown",
   "metadata": {},
   "source": [
    "# Welcome To Ananya's Super Easy Python Quiz!\n",
    "\n",
    "#Vocab/Basic Python Questions!\n",
    "- categories: [week1]"
   ]
  },
  {
   "cell_type": "code",
   "execution_count": 2,
   "metadata": {},
   "outputs": [
    {
     "name": "stdout",
     "output_type": "stream",
     "text": [
      "Hey There!!!, ananyag2617 running /bin/python3\n",
      "For this test you will be asked 3 questions.\n",
      "Question: Are you ready to take a test?!?!?!?\n",
      "Answer: yes\n",
      "Question: How do you update the changes you made in vscode to your blog?\n",
      " is incorrect!\n",
      "Question: What is the keyword to define a function\n",
      " is incorrect!\n",
      "Question: What is a line of code that does not change?\n",
      " is incorrect!\n",
      "ananyag2617 you scored 0/3\n"
     ]
    }
   ],
   "source": [
    "\n",
    "\n",
    "questions = 3\n",
    "correct = 0\n",
    "\n",
    "print('Hey There!!!, ' + getpass.getuser() + \" running \" + sys.executable)\n",
    "print(\"For this test you will be asked \" + str(questions) + \" questions.\")\n",
    "question_and_answer(\"Are you ready to take a test?!?!?!?\")\n",
    "\n",
    "rsp = question_with_response(\"How do you update the changes you made in vscode to your blog?\")\n",
    "if rsp == \"commit in vscode\":\n",
    "    print(rsp + \" is correct!\")\n",
    "    correct += 1\n",
    "else:\n",
    "    print(rsp + \" is incorrect!\")\n",
    "\n",
    "rsp = question_with_response(\"What is the keyword to define a function\")\n",
    "if rsp == \"def\":\n",
    "    print(rsp + \" is correct!\")\n",
    "    correct += 1\n",
    "else:\n",
    "    print(rsp + \" is incorrect!\")\n",
    "\n",
    "rsp = question_with_response(\"What is a line of code that does not change?\")\n",
    "if rsp == \"static text\":\n",
    "    print(rsp + \" is correct!\")\n",
    "    correct += 1\n",
    "else:\n",
    "    print(rsp + \" is incorrect!\")\n",
    "\n",
    "print(getpass.getuser() + \" you scored \" + str(correct) +\"/\" + str(questions))"
   ]
  }
 ],
 "metadata": {
  "kernelspec": {
   "display_name": "Python 3.8.10 64-bit",
   "language": "python",
   "name": "python3"
  },
  "language_info": {
   "codemirror_mode": {
    "name": "ipython",
    "version": 3
   },
   "file_extension": ".py",
   "mimetype": "text/x-python",
   "name": "python",
   "nbconvert_exporter": "python",
   "pygments_lexer": "ipython3",
   "version": "3.8.10 (default, Jun 22 2022, 20:18:18) \n[GCC 9.4.0]"
  },
  "orig_nbformat": 4,
  "vscode": {
   "interpreter": {
    "hash": "916dbcbb3f70747c44a77c7bcd40155683ae19c65e1c03b4aa3499c5328201f1"
   }
  }
 },
 "nbformat": 4,
 "nbformat_minor": 2
}
