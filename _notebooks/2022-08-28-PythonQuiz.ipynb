{
 "cells": [
  {
   "cell_type": "markdown",
   "metadata": {},
   "source": [
    "# Welcome To Ananya's Quiz!"
   ]
  },
  {
   "cell_type": "code",
   "execution_count": 3,
   "metadata": {},
   "outputs": [
    {
     "name": "stdout",
     "output_type": "stream",
     "text": [
      "Hey There!!!, ANANYA GAURAV running c:\\Users\\ANANYA GAURAV\\AppData\\Local\\Programs\\Python\\Python310\\python.exe\n",
      "For this test you will be asked 3 questions.\n",
      "Question: Are you ready to take a test?!?!?!?\n",
      "Answer: yes\n",
      "Question: How do you update the changes you made in vscode to your blog?\n",
      "commit in vscode is correct!\n",
      "Question: What is the keyword to define a function\n",
      "def is correct!\n",
      "Question: What is a line of code that does not change?\n",
      "static text is correct!\n",
      "ANANYA GAURAV you scored 3/3\n"
     ]
    }
   ],
   "source": [
    "import getpass, sys\n",
    "\n",
    "def question_and_answer(prompt):\n",
    "    print(\"Question: \" + prompt)\n",
    "    msg = input()\n",
    "    print(\"Answer: \" + msg)\n",
    "   \n",
    "def question_with_response(prompt):\n",
    "    print(\"Question: \" + prompt)\n",
    "    msg = input()\n",
    "    return msg\n",
    "\n",
    "questions = 3\n",
    "correct = 0\n",
    "\n",
    "print('Hey There!!!, ' + getpass.getuser() + \" running \" + sys.executable)\n",
    "print(\"For this test you will be asked \" + str(questions) + \" questions.\")\n",
    "question_and_answer(\"Are you ready to take a test?!?!?!?\")\n",
    "\n",
    "rsp = question_with_response(\"How do you update the changes you made in vscode to your blog?\")\n",
    "if rsp == \"commit in vscode\":\n",
    "    print(rsp + \" is correct!\")\n",
    "    correct += 1\n",
    "else:\n",
    "    print(rsp + \" is incorrect!\")\n",
    "\n",
    "rsp = question_with_response(\"What is the keyword to define a function\")\n",
    "if rsp == \"def\":\n",
    "    print(rsp + \" is correct!\")\n",
    "    correct += 1\n",
    "else:\n",
    "    print(rsp + \" is incorrect!\")\n",
    "\n",
    "rsp = question_with_response(\"What is a line of code that does not change?\")\n",
    "if rsp == \"static text\":\n",
    "    print(rsp + \" is correct!\")\n",
    "    correct += 1\n",
    "else:\n",
    "    print(rsp + \" is incorrect!\")\n",
    "\n",
    "print(getpass.getuser() + \" you scored \" + str(correct) +\"/\" + str(questions))"
   ]
  }
 ],
 "metadata": {
  "kernelspec": {
   "display_name": "Python 3.9.12 ('base': conda)",
   "language": "python",
   "name": "python3"
  },
  "language_info": {
   "codemirror_mode": {
    "name": "ipython",
    "version": 3
   },
   "file_extension": ".py",
   "mimetype": "text/x-python",
   "name": "python",
   "nbconvert_exporter": "python",
   "pygments_lexer": "ipython3",
   "version": "3.9.12"
  },
  "orig_nbformat": 4,
  "vscode": {
   "interpreter": {
    "hash": "02e7fa8194d75ca44bbc6fb00c078ce4d7ef7d167c0ebdf8226852b550fbd4e7"
   }
  }
 },
 "nbformat": 4,
 "nbformat_minor": 2
}
