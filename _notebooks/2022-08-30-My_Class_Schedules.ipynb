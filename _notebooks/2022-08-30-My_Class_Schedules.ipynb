{
 "cells": [
  {
   "cell_type": "markdown",
   "metadata": {},
   "source": [
    "# Welcome to My Classes Information Page!\n",
    "#Here you can get an insight of my.....\n",
    "- Class Schedules\n",
    "- To Do\n",
    "- Calender\n",
    "- categories: [week1]"
   ]
  },
  {
   "cell_type": "markdown",
   "metadata": {},
   "source": [
    "# Trimester 1 Class Schedules!"
   ]
  },
  {
   "cell_type": "markdown",
   "metadata": {},
   "source": [
    "\n",
    "Regular\n",
    "- 01:\t001248 PHYSICS OF THE UNI 1 - 001248-1-02\n",
    "    -  Callicott, Andrea M. \n",
    "    -   Room: K104\n",
    "- 02:\t000313 HON HUMANITIES 1 - 000313-2-01\n",
    "    - Philyaw, Jennifer M. \n",
    "    - Room: G117\n",
    "- 03:\t001018 INT MATH IIIA - 701018-3-02\n",
    "    - Grimsley, Megan L. \n",
    "    - Room: R302\n",
    "- 04:\t001244 AP ENVIRON SCI (1) - 001244-4-01\n",
    "    - Moulton, Tyler L. \n",
    "    - Room: E103\n",
    "- 05:\t001078 AP CS PRINCIPLES (1) - 001078-2-01\n",
    "    - Yeung, Sean T. \n",
    "    - Room: A101"
   ]
  },
  {
   "cell_type": "markdown",
   "metadata": {},
   "source": [
    "# My Class Units!"
   ]
  },
  {
   "cell_type": "markdown",
   "metadata": {},
   "source": [
    "# AP Environmental Science!"
   ]
  },
  {
   "cell_type": "markdown",
   "metadata": {},
   "source": [
    "\n",
    "- Unit 1\n",
    "    - Env. Systems\n",
    "    - Energy in Ecosystems\n",
    "    - Geology \n",
    "    - Biogeo Cycles\n",
    "    - Ecosystem Ecology\n",
    "\n",
    "- Unit 2\n",
    "    - Ecosystem Diversity\n",
    "    - Natural Ecosystem Change\n",
    "    - Loss of Biodiversity\n",
    "\n",
    "- Unit 3\n",
    "    - Population Ecology  \n",
    "    - Human Population Dynamics \n",
    "    - Human Population Size\n",
    "    - Human Population Impacts\n",
    "\n",
    "- Unit 4\n",
    "    - Plate Tectonics\n",
    "    - Water Resources \n",
    "    - Natural Eco Change\n",
    "    - Soil & Soil Dynamics\n",
    "\n",
    "- Unit 5\n",
    "    - Agriculture  \n",
    "    - Forestry & Rangelands  \n",
    "    - Land Use\n",
    "    - Mining  \n",
    "    - Fishing\n",
    "\n",
    "- Unit 6\n",
    "    - nv. Economics\n",
    "    - Energy Concepts  \n",
    "    - Energy Cons.\n",
    "    - Fossil Fuel Resources  \n",
    "    - Nuclear Energy\n",
    "    - Hydro Power  \n",
    "    - Energy Reduction    \n",
    "    - Renewable Energy\n",
    "\n",
    "- Unit 7\n",
    "    - Atmosphere\n",
    "    - Stratos Ozone  \n",
    "    - Air Pollution"
   ]
  },
  {
   "cell_type": "markdown",
   "metadata": {},
   "source": [
    "# Honors Humanities!"
   ]
  },
  {
   "cell_type": "markdown",
   "metadata": {},
   "source": [
    "- HH1: Art as Beauty - Aesthetic Appreciation \n",
    "    - This unit will explore how to think about art, especially visual art, with a look at art styles and movements in art history\n",
    "    - Readings:  Excerpt from What is Art? by Leo Tolstoy, Selected chapters from Cultures and Values and other selected readings. \n",
    "    - Writing: Outlining, Research Paper/Argument Synthesis Essay,\n",
    "    - Speaking/Projects: Appreciating Art Presentation\n",
    "\n",
    "- HH1: Art as Interaction - Personal and Political\n",
    "    - This unit will explore how art can help us emotionally as individuals and collectively as a society  with a focus on the performaing arts (esp. tragedy in theatre)   \n",
    "    - Readings: Antigone from Three Theban Plays and other selected readings\n",
    "    - Writing:  Creative Response, On Demand Literary Analysis Essay\n",
    "    - Speaking/Projects:  Experiencing the Arts Seminar Discussion \n",
    "\n",
    "- HH1: Art as Fusion ---  Past and Present \n",
    "    - This unit will explore archetypes and allusions within art, especially in the  literary arts of myths and epics.  We will consider how archetypes and allusions to connect art, artists (particularly storytellers), and audiences past and present. \n",
    "    - Readings:  Excerpts from Homer's The Odyssey  selected myths  and other selected readings, esp. epics\n",
    "    - Writing:  On Demand Essay and/or Myth 4 Square and/or creative response\n",
    "    - Speaking/Project: Myth or Epic Presentation and/or creative response presentation \n",
    "\n",
    "- HH1: Independent Reading: \n",
    "    - Independent reading will run throughout the trimester.  Students will read a least one self-selected book that fits the Art as Fusion: Past and Present unit frmaing ideas.  That is, students will read a book that is a retelling of an classic or classical story or a contemporary book that contains a direct allsuion to a classic or classical story.  \n",
    "    - Reading: Student selected novel\n",
    "    - Writing:  Letter essay(s)\n",
    "    - Speaking/Projects:  Weekly discussions, Book Talk\n",
    "\n",
    "- HH1: Here We Grown Again Writing Portfolio\n",
    "    - Throughout the trimester, students will reflect on their  writing and may even revise part or parts of selected writing assignments.  Additionally, studnets may be asked to complete some independent learning tasks around their writing goals.  These assignments will be collected into a portfolio of sorts. "
   ]
  },
  {
   "cell_type": "markdown",
   "metadata": {},
   "source": [
    "# Integrated Mathematics 3"
   ]
  },
  {
   "cell_type": "markdown",
   "metadata": {},
   "source": [
    "- Chapter 1\n",
    "\n",
    "    - 1.1.1 - 1.1.3 Investigations and Functions\n",
    "\n",
    "    - 1.2.1 Determining Points of Intersection\n",
    "\n",
    "    - 1.2.3 Comparing and Representing Data\n",
    "\n",
    "- Chapter 2\n",
    "\n",
    "    - 2.1.1 - 2.1.2 Transformations of f(x)=x2\n",
    "\n",
    "    - 2.2.1 - 2.2.4 Transforming Parent Graphs\n",
    "\n",
    "    - 2.3.1 Completing the Square\n",
    "\n",
    "- Chapter 3\n",
    "\n",
    "    - 3.1.1 to 3.1.4 Solving Systems of Equations\n",
    "\n",
    "    - 3.2.1 to 3.2.1 Inequalities\n",
    "\n",
    "- Chapter 5\n",
    "\n",
    "    - 5.1.1 to 5.1.3: Inverses\n",
    "\n",
    "    - 5.2.1 to 5.2.4: Logarithms\n",
    "\n",
    "- Chapter 9\n",
    "\n",
    "    - 9.1.1 to 9.1.7: Trigonometric Functions\n",
    "\n",
    "    - 9.2.1 to 9.2.4: Transforming Trigonometric Functions\n",
    "\n",
    "    - SAT Prep"
   ]
  },
  {
   "cell_type": "markdown",
   "metadata": {},
   "source": [
    "# AP Computer Science!"
   ]
  },
  {
   "cell_type": "markdown",
   "metadata": {},
   "source": [
    "# Introduction to Tools and Resources\n",
    "The initial weeks focus on introducing Tools, Pair Programming, and the AP Resources that we plan to use throughout the year. At the end of Weeks 0-3, students will be exposed to blogging with GitHub Pages; developing with Jupyter Notebooks, Python, JavaScript, HTML, and Code.org AppLab; working with AP classroom and becoming familiar with Create Performance Task project requirements."
   ]
  },
  {
   "cell_type": "markdown",
   "metadata": {},
   "source": [
    "# Introduction to Web Development\n",
    "Websites are made up of three key parts: Frontend, Backend, and Deployment. The focus for these weeks is to enable students to perform all the aspects of constructing constructing and deploying a Website. Fastpages got us started on these concepts, but now we will build a Website from the ground up. Once again, there will be a lot of learning focused tools and getting things working. But, in the end, students will be ready to learn all aspects of Website Development."
   ]
  },
  {
   "cell_type": "markdown",
   "metadata": {},
   "source": [
    "# Fundamental of Programming and Algorithms\n",
    "The tough solutions to problems in Computer Science generally require an algorithm. Each algorithm usually involves data, for instance Data Science is a field that focuses on data with algorithms. The next few week focuses on some very detailed algorithms, but we hope to express these details visually with our Web and Blogging capabilities. Data and binary are sometimes considered boring, but we produce data with analytics or learn to alter the internals of images, the data and algorithms can become VERY interesting."
   ]
  }
 ],
 "metadata": {
  "kernelspec": {
   "display_name": "Python 3.8.10 64-bit",
   "language": "python",
   "name": "python3"
  },
  "language_info": {
   "name": "python",
   "version": "3.8.10"
  },
  "orig_nbformat": 4,
  "vscode": {
   "interpreter": {
    "hash": "916dbcbb3f70747c44a77c7bcd40155683ae19c65e1c03b4aa3499c5328201f1"
   }
  }
 },
 "nbformat": 4,
 "nbformat_minor": 2
}
