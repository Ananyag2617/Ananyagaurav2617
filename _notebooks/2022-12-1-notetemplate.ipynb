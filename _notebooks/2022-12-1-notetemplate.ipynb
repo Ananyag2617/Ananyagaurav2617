{
 "cells": [
  {
   "cell_type": "markdown",
   "metadata": {},
   "source": [
    "# Note Template\n",
    "- comments: true"
   ]
  },
  {
   "attachments": {},
   "cell_type": "markdown",
   "metadata": {},
   "source": [
    "# Take some additional notes that you would like here for 3.12 and 3.13. We will be looking for additional notes from the presentation. \n",
    "\n",
    "My Notes:\n",
    "- A procedure call interrupts a series of statements and makes the program execute the statements in the procedure. \n",
    "- After executing, it will return to the original call and finish the statements.\n",
    "- In order to determine what the result of a procedure is, you need to carefully examine the code line by line\n",
    "- A procedure MAY or MAY NOT return a value (a number or boolean (true or false)).\n",
    "- Before we start writing the procedure, we need to know what arguments the procedures require and and what type of data the procedure will return.\n",
    "- We need to be able to call the procedure.\n",
    "- To call a procedure you would write the name of the procedure followed by the parentheses with the parameters of the procedure (there may not be parameters, but parenthesis must be there).\n",
    "- A procedure is a named block of code that performs a specific task, but does not return a value. The procedure can be called by another part of the program. A procedure for a login menu could be written like this: Pseudocode. Python.\n",
    "\n"
   ]
  },
  {
   "cell_type": "markdown",
   "metadata": {},
   "source": [
    "# What are procedures?\n",
    "\n",
    "**Fill in the blanks please:**\n",
    "\n",
    "Procedure: \n",
    "- A Procedure is a named group of programming instructions that may have parameters and return values.\n",
    "\n",
    "Parameters:\n",
    "- Parameters are input values of a procedure.\n",
    "Arguments:\n",
    "- Arguments specify the values of the parameters when a procedure is called\n",
    "Modularity: \n",
    "\n",
    "Procedural Abstraction: \n",
    "\n",
    "What are some other names for procedures?: \n",
    "- Procedures can also be referred as method or function, depending on the language\n",
    "\n",
    "Why are procedures effective?: \n"
   ]
  },
  {
   "attachments": {},
   "cell_type": "markdown",
   "metadata": {},
   "source": [
    "## <mark>Challenge 1</mark> below: Add the command that will **call** the procedure. "
   ]
  },
  {
   "cell_type": "code",
   "execution_count": 9,
   "metadata": {},
   "outputs": [
    {
     "data": {
      "text/plain": [
       "'101101'"
      ]
     },
     "execution_count": 9,
     "metadata": {},
     "output_type": "execute_result"
    }
   ],
   "source": [
    "n = int(input(\"Please input a number\"))\n",
    "def convertToBinary(n):\n",
    "    return (bin(n)[2:])\n",
    "\n",
    "convertToBinary(n)"
   ]
  },
  {
   "attachments": {},
   "cell_type": "markdown",
   "metadata": {},
   "source": [
    "## <mark>Challenge 2</mark> below: Complete the Min and Max procedure in either JavaScript and Python using the instructions from the JavaScript page. (JavaScript will get you a extra 0.1)"
   ]
  },
  {
   "cell_type": "code",
   "execution_count": 8,
   "metadata": {},
   "outputs": [
    {
     "name": "stdout",
     "output_type": "stream",
     "text": [
      "You inputed the numbers 45 and 65 out of these two numbers 45 is less than 65\n"
     ]
    }
   ],
   "source": [
    "numA  = int(input(\"Please inout a number:\"))\n",
    "numB  = int(input(\"Please inout a number:\"))\n",
    "\n",
    "def findmax(numA,numB):\n",
    "    if numA > numB:\n",
    "        print(\"You inputed the numbers \" + str(numA) + \" and \" + str(numB) + \" out of these two numbers\" + str(numA) + \" is greater than \" + str(numB))\n",
    "    elif numA < numB:\n",
    "        print(\"You inputed the numbers \" + str(numA) + \" and \" + str(numB) + \" out of these two numbers \" + str(numA) +  \" is less than \" + str(numB))\n",
    "    else:\n",
    "        print(\"Please input a number\")\n",
    "\n",
    "        \n",
    "findmax(numA,numB)\n",
    "\n",
    "\n",
    " "
   ]
  },
  {
   "attachments": {},
   "cell_type": "markdown",
   "metadata": {},
   "source": [
    "I did the js version in the other link I provided"
   ]
  },
  {
   "attachments": {},
   "cell_type": "markdown",
   "metadata": {},
   "source": [
    "## <mark>Homework/Hacks</mark>: For the hw, you have two options, easy or hard. The easy hack is for a 2.7 + extra work for the full 3. The easy hack is simply creating your own procedure with your own creativity. Since there is a lot of leeway for this one, you must do additional work to get a 3. For the hard hack, below is the start to a character to binary convertor. This is just a template, but the goal is to translate \"APCSP\" into binary. You can delete the existing code if you want. The only contraint is that you must use a procedure. Doing this will get you a 3. "
   ]
  },
  {
   "cell_type": "code",
   "execution_count": 10,
   "metadata": {},
   "outputs": [
    {
     "name": "stdout",
     "output_type": "stream",
     "text": [
      "['1000001', '1010000', '1000011', '1010011', '1010000']\n"
     ]
    }
   ],
   "source": [
    "text = \"APCSP\"\n",
    "\n",
    "def charToBinary(text):\n",
    "    binary = [convertToBinary(ord(c)) for c in list(text)]\n",
    "    return binary\n",
    "\n",
    "print(charToBinary(text))\n"
   ]
  }
 ],
 "metadata": {
  "kernelspec": {
   "display_name": "Python 3.8.2 64-bit",
   "language": "python",
   "name": "python3"
  },
  "language_info": {
   "codemirror_mode": {
    "name": "ipython",
    "version": 3
   },
   "file_extension": ".py",
   "mimetype": "text/x-python",
   "name": "python",
   "nbconvert_exporter": "python",
   "pygments_lexer": "ipython3",
   "version": "3.8.10 (default, Jun 22 2022, 20:18:18) \n[GCC 9.4.0]"
  },
  "orig_nbformat": 4,
  "vscode": {
   "interpreter": {
    "hash": "916dbcbb3f70747c44a77c7bcd40155683ae19c65e1c03b4aa3499c5328201f1"
   }
  }
 },
 "nbformat": 4,
 "nbformat_minor": 2
}
