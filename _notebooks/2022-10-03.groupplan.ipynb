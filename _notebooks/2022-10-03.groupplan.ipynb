{
 "cells": [
  {
   "cell_type": "markdown",
   "metadata": {},
   "source": [
    "# Flask-Group Project Planning/Brainstorming"
   ]
  },
  {
   "cell_type": "markdown",
   "metadata": {},
   "source": [
    "## Group Roles:\n",
    "- Sreeja Gangapuram: Scrum Master\n",
    "- Ananya Gaurav: Dev Operator\n",
    "- Aliya Tang: Frontend Developer \n",
    "- Claire Chen: Backend Developer \n"
   ]
  },
  {
   "cell_type": "markdown",
   "metadata": {},
   "source": [
    "# Our Planning: \n",
    "- Project Plan: Word Nerd\n",
    "- Student need and purpose: entertainment, fun way to increase student vocabulary (Educational Study or Simulation)\n",
    "- Student interest: we all play wordle and find it very fun and sometimes challenging. However, as avid wordle players, we find things that we would want to improve about the game and in our version of wordle we will work to provide features to make the game more enjoyable.\n",
    "    - Hints\n",
    "    - Indicating colors\n",
    "    - Warnings for when you use letters that have already shown themselves to be wrong\n",
    "    - 6 letter words instead of 5 letter words\n",
    "# Purpose and function:\n",
    "- Input: 6 letter words\n",
    "- Output: color code the letters to show:\n",
    "    - Which letters are in the word\n",
    "    - Which letters are in the word and in the right place\n",
    "    - Which letters are not in the word\n",
    "- UI\n",
    "    - Background color: light blue\n",
    "    - Letters that are in the word and are in the right place-: Light green #a8e2b2\n",
    "    - Letters that are in the word but not in the right place: light yellow\n",
    "    - Letters that are wrong:  Light gray\n",
    "    - Data in program: \n",
    "        - list of 6 letter words to generate games\n",
    "# Requirements \n",
    "- Finish by the begining of November \n",
    "    - That gives us the the month of October (4 weeks) \n",
    "- What we are being graded on: Data Abstraction, Managing Complexity, Procedural Abstraction, Algorithm Implementation, Testing\n",
    "\n",
    "\n",
    "\n"
   ]
  }
 ],
 "metadata": {
  "kernelspec": {
   "display_name": "Python 3.8.10 64-bit",
   "language": "python",
   "name": "python3"
  },
  "language_info": {
   "name": "python",
   "version": "3.8.10"
  },
  "orig_nbformat": 4,
  "vscode": {
   "interpreter": {
    "hash": "916dbcbb3f70747c44a77c7bcd40155683ae19c65e1c03b4aa3499c5328201f1"
   }
  }
 },
 "nbformat": 4,
 "nbformat_minor": 2
}
