{
 "cells": [
  {
   "attachments": {},
   "cell_type": "markdown",
   "metadata": {},
   "source": [
    "# Unit 3.14 Libraries Lesson\n",
    "> Here is our lesson about libraries!\n",
    "\n",
    "- toc: true\n",
    "- comments: true\n",
    "- categories: [Week-13,Big-Idea-3]\n",
    "- image: /images/college-board-logo.png"
   ]
  },
  {
   "attachments": {},
   "cell_type": "markdown",
   "metadata": {},
   "source": [
    "Purpose: Help students streamline and make their coding experience easier through built in packages and methods from a library\n",
    "<br>Objective: By the end of the lesson, students should be able to fluently use methods from the turtle and math packages, and be able to look up documentation for any python package and us it."
   ]
  },
  {
   "attachments": {},
   "cell_type": "markdown",
   "metadata": {},
   "source": [
    "fill in the blanks!\n",
    "# Libraries\n",
    "Okay, so we've learned a lot of code, and all of you now can boast that you can code at least some basic programs in python. But, what about more advanced stuff? What if there's a more advanced program you don't know how to make? Do you need to make it yourself? Well, not always.\n",
    "\n",
    "You've already learned about functions that you can write to reuse in your code in previous lessons. But,there are many others who code in python just like you. So why would you do again what someone has already done, and is available for any python user?\n",
    "\n",
    "Packages allow a python user to import methods from a library, and use the methods in their code. Most package come with documentation on the different methods they entail and how to use them, and they can be found with a quick google search. methods are used with the following:\n",
    "\n",
    "#### Note: a method from a package can only be used after the import statement. \n",
    "\n",
    "Some methods are always installed, such as those with the list methods which we have previously discussed. But others require a special python keyword called import. We will learn different ways to import in Challenge 1.\n",
    "\n",
    "Sometimes we only need to import a single method from the package. We can do that with the word \"from\", followed by the package name, then the word \"import\", then the method. This will alllow you to use the method without mentioning the package's name, unlike what we did before, however other methods from that package cannot be used. To get the best of both worlds you can use \"*\".\n",
    "\n",
    "To import a method as an easier name, just do what we did first, add the word \"as\", and write the name you would like to use that package as.\n",
    "\n",
    "# Challenge 1: Basic Libraries\n",
    "1. Find a python package on the internet and import it\n",
    "2. Choose a method from the package and import only the method\n",
    "3. import the package as a more convenient name."
   ]
  },
  {
   "cell_type": "code",
   "execution_count": 8,
   "metadata": {},
   "outputs": [
    {
     "name": "stdout",
     "output_type": "stream",
     "text": [
      "917\n"
     ]
    }
   ],
   "source": [
    "import random as ran\n",
    "random_number = ran.randint(1,1000)\n",
    "print(random_number)"
   ]
  },
  {
   "cell_type": "code",
   "execution_count": 7,
   "metadata": {},
   "outputs": [
    {
     "name": "stdout",
     "output_type": "stream",
     "text": [
      "3.0\n"
     ]
    }
   ],
   "source": [
    "import math as m\n",
    "p = m.sqrt(9)\n",
    "print(p)"
   ]
  },
  {
   "cell_type": "code",
   "execution_count": 15,
   "metadata": {},
   "outputs": [
    {
     "name": "stdout",
     "output_type": "stream",
     "text": [
      "25.0\n",
      "39916800\n"
     ]
    }
   ],
   "source": [
    "from math import sqrt, factorial\n",
    " \n",
    "print(sqrt(625))\n",
    "print(factorial(11))"
   ]
  },
  {
   "cell_type": "code",
   "execution_count": 17,
   "metadata": {},
   "outputs": [
    {
     "name": "stdout",
     "output_type": "stream",
     "text": [
      "['/home/ananyag2617/vscode/ananyagaurav2617/_notebooks', '/usr/lib/python38.zip', '/usr/lib/python3.8', '/usr/lib/python3.8/lib-dynload', '', '/home/ananyag2617/.local/lib/python3.8/site-packages', '/usr/local/lib/python3.8/dist-packages', '/usr/lib/python3/dist-packages']\n"
     ]
    }
   ],
   "source": [
    "import sys as s\n",
    " \n",
    "# importing sys.path\n",
    "print(s.path)"
   ]
  },
  {
   "attachments": {},
   "cell_type": "markdown",
   "metadata": {},
   "source": [
    "# Challenge 2: Turtle\n",
    "Turtle is a python drawing package which allows you to draw all kinds of different shapes. It's ofter used to teach beginning python learners, but is really cool to use anywhere. Turtle employs a graphics package to display what you've done, but unfortunately it's kind of annoying to make work with vscode.\n",
    "<br>\n",
    "Use: repl.it\n",
    "<br>\n",
    "Click \"+ Create\", and for language, select \"Python (with Turtle)\"\n",
    "<br>\n",
    "[Documentation](https://docs.python.org/3/library/turtle.html#turtle.pendown)<br>\n",
    "Task: Have fun with turtle! Create something that uses at least 2 lines of different lengths and 2 turns with different angles, and changes at least one setting about either the pen or canvas. Also use one command that isn't mentioned on the table below(there are a lot). Paste a screenshot of the code and the drawing from repl.it\n",
    "\n",
    "|Commands|\n",
    "|--------|\n",
    "|forward(pixels)|\n",
    "|right(degrees)|\n",
    "|left(degrees)|\n",
    "|setpos(x,y)|\n",
    "|speed(speed)|\n",
    "|pensize(size)|\n",
    "|pencolor(color)|\n",
    "Note: Color should be within quotes, like \"brown\", or \"red\"\n",
    "\n"
   ]
  },
  {
   "attachments": {},
   "cell_type": "markdown",
   "metadata": {},
   "source": [
    "Here is the code I used for my turtle drawing!"
   ]
  },
  {
   "cell_type": "code",
   "execution_count": null,
   "metadata": {},
   "outputs": [],
   "source": [
    "\"\"\"\n",
    "This is the Template Repl for Python with Turtle.\n",
    "\n",
    "Python with Turtle lets you make graphics easily in Python.\n",
    "\n",
    "Check out the official docs here: https://docs.python.org/3/library/turtle.html\n",
    "\"\"\"\n",
    "import turtle\n",
    "\n",
    "t = turtle.Turtle()\n",
    "for i in range(0, 3):\n",
    "  for c in ['cyan','navy','violet']:\n",
    "    t.color(c)\n",
    "    t.forward(100) # draw base\n",
    "    t.left(120)\n",
    "    t.forward(100)\n",
    "    t.left(120)\n",
    "    t.forward(100)\n",
    "    t.forward(50) \n",
    "    t.right(60) \n",
    "    t.forward(50)\n",
    "    t.right(120)\n",
    "t.up()\n",
    "t.right(90)\n",
    "t.forward(95)\n",
    "t.down()\n",
    "for b in range(4):\n",
    "  t.right(90)\n",
    "  t.forward(10)\n",
    "  t.circle(10)"
   ]
  },
  {
   "attachments": {},
   "cell_type": "markdown",
   "metadata": {},
   "source": [
    "# Challenge 3: Math\n",
    "The math package allows for some really cool mathematical methods!<br>\n",
    "\n",
    "|methods|Action|\n",
    "|-------|------|\n",
    "|ceil(x)|returns the next highest integer ex: 5.8 -> 9|\n",
    "|floor(x)|rounds to largest intefer less than or equal to x|\n",
    "|factorial(x)|returns the factorial|\n",
    "|gcd(x,y)|returns the greatest common denominator of x and y|\n",
    "|lcm(x,y)|\treturns greatest least common multipe of x and y|\n",
    "\n",
    "##### Challenge: Create a program which asks for a user input of two numbers, and returns the following:\n",
    "- each number rounded up\n",
    "- each number rounded down\n",
    "- the lcm of the rounded down numbers\n",
    "- the gcf of the rounded up numbers\n",
    "- the factorial of each number\n",
    "- something else using the math package!<br>\n",
    "[Documentation](https://docs.python.org/3/library/math.html)"
   ]
  },
  {
   "cell_type": "code",
   "execution_count": 67,
   "metadata": {},
   "outputs": [
    {
     "name": "stdout",
     "output_type": "stream",
     "text": [
      "The numbers you have entered are: 5.5 and 2.5\n",
      "5.5 rounded up is 6\n",
      "2.5 rounded up is 3\n",
      "5.5 rounded down is 5\n",
      "2.5 rounded down is 2\n",
      "The gcm of the two numbers is 3\n",
      "The factorial of 5.5 is 120\n",
      "The factorial of 2.5 is 2\n",
      "The sqaure of 5.5 is 2.345207879911715\n",
      "The sqaure of 2.5 is 1.5811388300841898\n",
      "The remainder of the two numbers is 0.5\n"
     ]
    }
   ],
   "source": [
    "from math import *\n",
    "import math as m\n",
    "a = float(input(\"Please enter a number:\"))\n",
    "b = float(input(\"Please enter a number:\"))\n",
    "print(\"The numbers you have entered are: \" + str(a) + \" and \"  + str(b))\n",
    "\n",
    "\n",
    "print( str(a) + \" rounded up is \" + str(ceil(a)))\n",
    "print(str(b) + \" rounded up is \"  + str(ceil(b)))\n",
    "\n",
    "print( str(a) + \" rounded down is \" + str(floor(a)))\n",
    "print(str(b) + \" rounded down is \"  + str(floor(b)))\n",
    "print(\"The gcm of the two numbers is \" + str(gcd(ceil(a), ceil(b))))\n",
    "print(\"The factorial of \" + str(a) + \" is \" + str(factorial(floor(a))))\n",
    "print(\"The factorial of \" + str(b) + \" is \" + str(factorial(floor(b))))\n",
    "\n",
    "print(\"The sqaure of \" + str(a) + \" is \" +  str(sqrt(a)))\n",
    "print(\"The sqaure of \" + str(b) + \" is \" +  str(sqrt(b)))\n",
    "\n",
    "print(\"The remainder of the two numbers is \" + str(fmod(a,b)))\n",
    "\n",
    "\n",
    "\n",
    "\n",
    "\n"
   ]
  },
  {
   "attachments": {},
   "cell_type": "markdown",
   "metadata": {},
   "source": [
    "# Homework: Putting it all together(complete only after the random values lesson)\n",
    "Option 1: Create a python program which generates a random number between 1 and 10, and use turtle to draw a regular polygon with that many sides. As a hint, remember that the total sum of all the angles in a polygon is (the number of sides - 2) * 180. Note: a regular polygon has all sides and angles the same size. Paste a screenshot of the code and the drawing from repl.it\n",
    "\n",
    "Option 2: use the \"datetime\" package, and looking up documentation, create a program to generate 2 random dates and find the number of days between\n",
    "\n",
    "\n",
    "Extra ideas: customize the settings, draw a picture, or something else!"
   ]
  },
  {
   "attachments": {},
   "cell_type": "markdown",
   "metadata": {},
   "source": [
    "For this hack I did the first option, instead of finding the difference between two random dates"
   ]
  },
  {
   "cell_type": "code",
   "execution_count": null,
   "metadata": {},
   "outputs": [],
   "source": [
    "\"\"\"\n",
    "This is the Template Repl for Python with Turtle.\n",
    "\n",
    "Python with Turtle lets you make graphics easily in Python.\n",
    "\n",
    "Check out the official docs here: https://docs.python.org/3/library/turtle.html\n",
    "\"\"\"\n",
    "import turtle\n",
    "import random as r\n",
    "\n",
    "t=turtle.Turtle()\n",
    "num_sides = r.randint(1,10)\n",
    "print(num_sides)\n",
    "length = r.randint(25,75)\n",
    "print(length)\n",
    "for c in ['cyan','navy','violet']:\n",
    "  t.color(c)\n",
    "  for x in range(num_sides):\n",
    "    t.forward(length)\n",
    "    t.right(360/num_sides)"
   ]
  }
 ],
 "metadata": {
  "kernelspec": {
   "display_name": "Python 3",
   "language": "python",
   "name": "python3"
  },
  "language_info": {
   "codemirror_mode": {
    "name": "ipython",
    "version": 3
   },
   "file_extension": ".py",
   "mimetype": "text/x-python",
   "name": "python",
   "nbconvert_exporter": "python",
   "pygments_lexer": "ipython3",
   "version": "3.8.10"
  },
  "orig_nbformat": 4,
  "vscode": {
   "interpreter": {
    "hash": "916dbcbb3f70747c44a77c7bcd40155683ae19c65e1c03b4aa3499c5328201f1"
   }
  }
 },
 "nbformat": 4,
 "nbformat_minor": 2
}
