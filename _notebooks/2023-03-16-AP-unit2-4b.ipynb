{
 "cells": [
  {
   "attachments": {},
   "cell_type": "markdown",
   "metadata": {},
   "source": [
    "#  Unit 2.4b Using Programs with Data, SQL\n",
    "> Using Programs with Data is focused on SQL and database actions.  Part B focuses on learning SQL commands, connections, and curses using an Imperative programming style,\n",
    "- toc: true\n",
    "- image: /images/python.png\n",
    "- categories: []\n",
    "- type: ap\n",
    "- week: 26"
   ]
  },
  {
   "attachments": {},
   "cell_type": "markdown",
   "metadata": {},
   "source": [
    "# Database Programming is Program with Data\n",
    "> Each Tri 2 Final Project should be an example of a Program with Data. \n",
    "\n",
    ">  Prepare to use SQLite in common Imperative Technique\n",
    "- Explore [SQLite Connect object](https://www.tutorialspoint.com/python_data_access/python_sqlite_establishing_connection.htm) to establish database connection\n",
    "- Explore [SQLite Cursor Object](https://www.tutorialspoint.com/python_data_access/python_sqlite_cursor_object.htm) to fetch data from a table within a database\n"
   ]
  },
  {
   "attachments": {},
   "cell_type": "markdown",
   "metadata": {},
   "source": [
    "## Schema of Users table in Sqlite.db\n",
    "> Uses PRAGMA statement to read schema.\n",
    "\n",
    "Describe Schema, here is resource [Resource](https://www.sqlite.org/index.html)\n",
    "- What is a database schema?\n",
    "\n",
    " A database schema defines how data is organized within a relational database; this is inclusive of logical constraints such as, table names, fields, data types, and the relationships between these entities.\n",
    "\n",
    "- What is the purpose of identity Column in SQL database?\n",
    "\n",
    "Identity columns can be used for generating key values. The identity property on a column guarantees the following: Each new value is generated based on the current seed & increment. Each new value for a particular transaction is different from other concurrent transactions on the table.\n",
    "\n",
    "- What is the purpose of a primary key in SQL database?\n",
    "\n",
    "The primary key in SQL is a single, or a group of fields or columns that can uniquely identify a row in a table. Putting it simply, it is a column that accepts unique values for each row\n",
    "\n",
    "- What are the Data Types in SQL table?\n",
    "\n",
    "    - strings\n",
    "    - booleans\n",
    "    - dictionaries\n",
    "    - integers\n",
    "    "
   ]
  },
  {
   "cell_type": "code",
   "execution_count": 7,
   "metadata": {},
   "outputs": [
    {
     "name": "stdout",
     "output_type": "stream",
     "text": [
      "(0, 'id', 'INTEGER', 1, None, 1)\n",
      "(1, '_name', 'VARCHAR(255)', 1, None, 0)\n",
      "(2, '_uid', 'VARCHAR(255)', 1, None, 0)\n",
      "(3, '_password', 'VARCHAR(255)', 1, None, 0)\n",
      "(4, '_dob', 'DATE', 0, None, 0)\n"
     ]
    }
   ],
   "source": [
    "import sqlite3\n",
    "\n",
    "database = 'instance/sqlite.db' # this is location of database\n",
    "\n",
    "def schema():\n",
    "    \n",
    "    # Connect to the database file\n",
    "    conn = sqlite3.connect(database)\n",
    "\n",
    "    # Create a cursor object to execute SQL queries\n",
    "    cursor = conn.cursor()\n",
    "    \n",
    "    # Fetch results of Schema\n",
    "    results = cursor.execute(\"PRAGMA table_info('users')\").fetchall()\n",
    "\n",
    "    # Print the results\n",
    "    for row in results:\n",
    "        print(row)\n",
    "\n",
    "    # Close the database connection\n",
    "    conn.close()\n",
    "    \n",
    "schema()\n"
   ]
  },
  {
   "attachments": {},
   "cell_type": "markdown",
   "metadata": {},
   "source": [
    "## Reading Users table in Sqlite.db\n",
    "> Uses SQL SELECT statement to read data\n",
    "\n",
    "- What is a connection object?  After you google it, what do you think it does?\n",
    "\n",
    "A connection object is an object that represents a connection to a database. It allows you to connect to a database and execute SQL queries against it.\n",
    "\n",
    "- Same for cursor object?\n",
    "\n",
    "A cursor object is an object that represents a database cursor. It allows you to execute SQL queries against a database and retrieve the results.\n",
    "\n",
    "- Look at conn object and cursor object in VSCode debugger.  What attributes are in the object?\n",
    "\n",
    "The conn object and cursor object in VSCode debugger have various attributes that depend on the database management system being used. Some common attributes for the conn object include database name, host, port, and user information. Some common attributes for the cursor object include the current query being executed and the number of rows returned by the query.\n",
    "\n",
    "- Is \"results\" an object?  How do you know?\n",
    "\n",
    "\"Results\" is likely not an object, but rather a variable or attribute that stores the results of a query executed using the cursor object. Without more context it is impossible to know for certain."
   ]
  },
  {
   "cell_type": "code",
   "execution_count": 20,
   "metadata": {},
   "outputs": [
    {
     "name": "stdout",
     "output_type": "stream",
     "text": [
      "(1, 'Thomas Edison', 'toby', 'sha256$Zmng1QDRIrsOcHsc$9e33a0caa879cda2c915cc62726987c97e5962b51ef43d72d1351123277b318c', '1847-02-11')\n",
      "(2, 'Nikola Tesla', 'niko', 'sha256$oUFAVyiptZYZMiwN$d22c03511a68dc0c2bab757e74f019a7e03e5f78889d6c94d7e5d8644900c08e', '2023-03-20')\n",
      "(3, 'Alexander Graham Bell', 'lex', 'sha256$cl7TFticqloTcwi6$5f310d67d75e783b100df5dad106cc2b9e0d8a384b53e57823f4576c54e79610', '2023-03-20')\n",
      "(4, 'Eli Whitney', 'whit', 'sha256$xE7rKl9lavEX8H8B$4993bb24ca3e64b08a4d5550bdaf89e2b687941d5d7badd298b51974dc5d218b', '2023-03-20')\n",
      "(5, 'Indiana Jones', 'indi', 'sha256$tt6LBrjNFgh7Zf2Y$fdbed8cd78d63c87d3064a755f11609532f0174258cd15bee6a2baa95b17eb87', '1920-10-21')\n",
      "(6, 'Marion Ravenwood', 'raven', 'sha256$JB4UYLHK8qAG2ZTS$e00456e3f298e794b5cb00940b3860f48787639b3296fa8e1534a577cbd81f5e', '1921-10-21')\n",
      "(7, 'Ananya Gaurav', 'aisha', 'sha256$mbqJ2pZ1uKKBJwOA$81106a1dfad1a963cbe30c9eb04efe5a5d26d0f4ad6612466c61d19b25ad9674', '2007-01-26')\n",
      "(8, 'Ananya Gaurav', 'Ananya', 'sha256$Hoh22HEEmGNv0kVr$b284e981707635ba3d572ab04917b3475a59b6630fdc8646ce1956a544ce0ba6', '2007-01-26')\n"
     ]
    }
   ],
   "source": [
    "import sqlite3\n",
    "\n",
    "def read():\n",
    "    # Connect to the database file\n",
    "    conn = sqlite3.connect(database)\n",
    "\n",
    "    # Create a cursor object to execute SQL queries\n",
    "    cursor = conn.cursor()\n",
    "    \n",
    "    # Execute a SELECT statement to retrieve data from a table\n",
    "    results = cursor.execute('SELECT * FROM users').fetchall()\n",
    "\n",
    "    # Print the results\n",
    "    if len(results) == 0:\n",
    "        print(\"Table is empty\")\n",
    "    else:\n",
    "        for row in results:\n",
    "            print(row)\n",
    "\n",
    "    # Close the cursor and connection objects\n",
    "    cursor.close()\n",
    "    conn.close()\n",
    "    \n",
    "read()\n"
   ]
  },
  {
   "attachments": {},
   "cell_type": "markdown",
   "metadata": {},
   "source": [
    "## Create a new User in table in Sqlite.db\n",
    "> Uses SQL INSERT to add row\n",
    "-  Compore create() in both SQL lessons.  What is better or worse in the two implementations?\n",
    "\n",
    "I personally like the one from the other lesson as I understand it better.\n",
    "\n",
    "-  Explain purpose of SQL INSERT.   Is this the same as User __init__?\n",
    "\n",
    "The SQL INSERT statement is used to add new data to a database table. It allows you to specify the columns and their values for the new record that you want to insert into the table."
   ]
  },
  {
   "cell_type": "code",
   "execution_count": 4,
   "metadata": {},
   "outputs": [
    {
     "name": "stdout",
     "output_type": "stream",
     "text": [
      "A new user record 11 has been created\n"
     ]
    }
   ],
   "source": [
    "import sqlite3\n",
    "\n",
    "def create():\n",
    "    name = input(\"Enter your name:\")\n",
    "    uid = input(\"Enter your user id:\")\n",
    "    password = input(\"Enter your password\")\n",
    "    dob = input(\"Enter your date of birth 'YYYY-MM-DD'\")\n",
    "    \n",
    "    # Connect to the database file\n",
    "    conn = sqlite3.connect(database)\n",
    "\n",
    "    # Create a cursor object to execute SQL commands\n",
    "    cursor = conn.cursor()\n",
    "\n",
    "    try:\n",
    "        # Execute an SQL command to insert data into a table\n",
    "        cursor.execute(\"INSERT INTO users (_name, _uid, _password, _dob) VALUES (?, ?, ?, ?)\", (name, uid, password, dob, ))\n",
    "        \n",
    "        # Commit the changes to the database\n",
    "        conn.commit()\n",
    "        print(f\"A new user record {uid} has been created\")\n",
    "                \n",
    "    except sqlite3.Error as error:\n",
    "        print(\"Error while executing the INSERT:\", error)\n",
    "\n",
    "\n",
    "    # Close the cursor and connection objects\n",
    "    cursor.close()\n",
    "    conn.close()\n",
    "    \n",
    "create()"
   ]
  },
  {
   "attachments": {},
   "cell_type": "markdown",
   "metadata": {},
   "source": [
    "## Updating a User in table in Sqlite.db\n",
    "> Uses SQL UPDATE to modify password\n",
    "- What does the hacked part do?\n",
    "\n",
    "The message hacked lets the user know that their password is invalid\n",
    "\n",
    "- Explain try/except, when would except occur?\n",
    "\n",
    "The try/except statement is used for error handling. The try block contains the code that might raise an exception, and the except block is where you can handle the exception if it occurs.\n",
    "\n",
    "- What code seems to be repeated in each of these examples to point, why is it repeated?\n",
    "\n",
    "I see that the conn and cursor methods are repeated"
   ]
  },
  {
   "cell_type": "code",
   "execution_count": 5,
   "metadata": {},
   "outputs": [
    {
     "name": "stdout",
     "output_type": "stream",
     "text": [
      "The row with user id 11 the password has been successfully updated\n"
     ]
    }
   ],
   "source": [
    "import sqlite3\n",
    "\n",
    "def update():\n",
    "    uid = input(\"Enter user id to update\")\n",
    "    password = input(\"Enter updated password\")\n",
    "    if len(password) < 2:\n",
    "        message = \"hacked\"\n",
    "        password = 'gothackednewpassword123'\n",
    "    else:\n",
    "        message = \"successfully updated\"\n",
    "\n",
    "    # Connect to the database file\n",
    "    conn = sqlite3.connect(database)\n",
    "\n",
    "    # Create a cursor object to execute SQL commands\n",
    "    cursor = conn.cursor()\n",
    "\n",
    "    try:\n",
    "        # Execute an SQL command to update data in a table\n",
    "        cursor.execute(\"UPDATE users SET _password = ? WHERE _uid = ?\", (password, uid))\n",
    "        if cursor.rowcount == 0:\n",
    "            # The uid was not found in the table\n",
    "            print(f\"No uid {uid} was not found in the table\")\n",
    "        else:\n",
    "            print(f\"The row with user id {uid} the password has been {message}\")\n",
    "            conn.commit()\n",
    "    except sqlite3.Error as error:\n",
    "        print(\"Error while executing the UPDATE:\", error)\n",
    "        \n",
    "    \n",
    "    # Close the cursor and connection objects\n",
    "    cursor.close()\n",
    "    conn.close()\n",
    "    \n",
    "update()\n"
   ]
  },
  {
   "attachments": {},
   "cell_type": "markdown",
   "metadata": {},
   "source": [
    "## Delete a User in table in Sqlite.db\n",
    "> Uses a delete function to remove a user based on a user input of the id.\n",
    "- Is DELETE a dangerous operation?  Why?\n",
    "\n",
    "Yes, DELETE is generally considered a dangerous operation because it permanently removes data from a database.\n",
    "\n",
    "- In the print statemements, what is the \"f\" and what does {uid} do?\n",
    "\n",
    "The \"f\" is used to indicate a formatted string. It allows you to embed expressions inside string literals, using curly braces {} as placeholders for the expressions. When you prefix a string with the letter \"f\", you can then include variables, function calls, or other expressions within curly braces to be evaluated and inserted into the final string."
   ]
  },
  {
   "cell_type": "code",
   "execution_count": 6,
   "metadata": {},
   "outputs": [
    {
     "name": "stdout",
     "output_type": "stream",
     "text": [
      "The row with uid 11 was successfully deleted\n"
     ]
    }
   ],
   "source": [
    "import sqlite3\n",
    "\n",
    "def delete():\n",
    "    uid = input(\"Enter user id to delete\")\n",
    "\n",
    "    # Connect to the database file\n",
    "    conn = sqlite3.connect(database)\n",
    "\n",
    "    # Create a cursor object to execute SQL commands\n",
    "    cursor = conn.cursor()\n",
    "    \n",
    "    try:\n",
    "        cursor.execute(\"DELETE FROM users WHERE _uid = ?\", (uid,))\n",
    "        if cursor.rowcount == 0:\n",
    "            # The uid was not found in the table\n",
    "            print(f\"No uid {uid} was not found in the table\")\n",
    "        else:\n",
    "            # The uid was found in the table and the row was deleted\n",
    "            print(f\"The row with uid {uid} was successfully deleted\")\n",
    "        conn.commit()\n",
    "    except sqlite3.Error as error:\n",
    "        print(\"Error while executing the DELETE:\", error)\n",
    "        \n",
    "    # Close the cursor and connection objects\n",
    "    cursor.close()\n",
    "    conn.close()\n",
    "    \n",
    "delete()"
   ]
  },
  {
   "attachments": {},
   "cell_type": "markdown",
   "metadata": {},
   "source": [
    "# Menu Interface to CRUD operations\n",
    "> CRUD and Schema interactions from one location by running menu. Observe input at the top of VSCode, observe output underneath code cell.\n",
    "- Why does the menu repeat?\n",
    "\n",
    "The menu repeats because it is inside a while loop that runs indefinitely until the user selects the option to exit the program.\n",
    "\n",
    "- Could you refactor this menu?  Make it work with a List?\n",
    "\n",
    "Yes, the menu can be refactored to work with a list. Instead of using multiple if statements to check the user's input, the program can use a list of functions and index numbers to map the user's input to the corresponding function. This approach would make the code more readable and easier to maintain."
   ]
  },
  {
   "cell_type": "code",
   "execution_count": 7,
   "metadata": {},
   "outputs": [
    {
     "name": "stdout",
     "output_type": "stream",
     "text": [
      "A new user record 26 has been created\n"
     ]
    }
   ],
   "source": [
    "# Menu, to run other cells from one control point\n",
    "def menu():\n",
    "    operation = input(\"Enter: (C)reate (R)ead (U)pdate or (D)elete or (S)chema\")\n",
    "    if operation.lower() == 'c':\n",
    "        create()\n",
    "    elif operation.lower() == 'r':\n",
    "        read()\n",
    "    elif operation.lower() == 'u':\n",
    "        update()\n",
    "    elif operation.lower() == 'd':\n",
    "        delete()\n",
    "    elif operation.lower() == 's':\n",
    "        schema()\n",
    "    elif len(operation)==0: # Escape Key\n",
    "        return\n",
    "    else:\n",
    "        print(\"Please enter c, r, u, or d\") \n",
    "    menu() # recursion, repeat menu\n",
    "        \n",
    "try:\n",
    "    menu() # start menu\n",
    "except:\n",
    "    print(\"Perform Jupyter 'Run All' prior to starting menu\")\n"
   ]
  },
  {
   "attachments": {},
   "cell_type": "markdown",
   "metadata": {},
   "source": [
    "# Hacks\n",
    "- Add this Blog to you own Blogging site.  In the Blog add notes and observations on each code cell.\n",
    "- In this implementation, do you see procedural abstraction?\n",
    "- In 2.4a or 2.4b lecture\n",
    "    - Do you see data abstraction?  Complement this with Debugging example.\n",
    "    - Use Imperative or OOP style to Create a new Table or do something that applies to your CPT project.\n",
    "    \n",
    "\n",
    "Reference... [sqlite documentation](https://www.sqlitetutorial.net/sqlite-python/creating-tables/)\n"
   ]
  },
  {
   "attachments": {},
   "cell_type": "markdown",
   "metadata": {},
   "source": [
    "### What is procedural abstraction?\n",
    "\n",
    "Procedural abstraction is a fundamental concept in computer programming, which involves breaking down a complex process into smaller, more manageable parts, and abstracting away the details of how those parts work in order to simplify the overall process. It is the process of creating a higher-level view of a program or algorithm that focuses on the key steps and ignores the details of how they are implemented. This allows programmers to focus on the task at hand, without getting bogged down in the details of how the underlying code works. Procedural abstraction is a key component of many programming paradigms, including structured programming and object-oriented programming.\n",
    "\n",
    "\n",
    "\n",
    "\n",
    "\n",
    "### In this implementation, do you see procedural abstraction?\n",
    "Yes! Throughout the lessson I see lots of procedural abstraction, with separate functions created for create, read, update, and delete operations. By doing so, the code can perform specific procedures on particular rows of the database using a single, overarching function. The use of procedural abstraction also enables each function to be modified or reused individually, promoting modular code and simplified maintenance. Additionally, the menu function abstracts away implementation details by offering an easy-to-use interface for accessing each of these functions.\n",
    "\n",
    "\n",
    "\n",
    "\n",
    "\n",
    "\n"
   ]
  },
  {
   "cell_type": "code",
   "execution_count": 1,
   "metadata": {},
   "outputs": [],
   "source": [
    "import sqlite3 \n",
    "from sqlite3 import Error\n",
    "\n",
    "\n",
    "def create_connection(db): \n",
    "    connection = None\n",
    "    try: \n",
    "        connection = sqlite3.connect(db)\n",
    "        return connection \n",
    "    except Error as e: \n",
    "        print(e)\n",
    "    return connection \n",
    "\n",
    "def create_table(connection, createNutrition): \n",
    "    try: \n",
    "        cursor = connection.cursor()\n",
    "        cursor.execute(createNutrition)\n",
    "    except Error as e: \n",
    "        print(e)\n",
    "\n",
    "def main(): \n",
    "    database = 'instance/nutritions.db'\n",
    "\n",
    "    createTblSql = \"\"\" CREATE TABLE IF NOT EXISTS nutritions (\n",
    "                                        _id integer PRIMARY KEY,\n",
    "                                         _username NOT NULL,\n",
    "                                        _foodname NOT NULL,\n",
    "                                        _calories NOT NULL,\n",
    "                                        _fats NOT NULL,\n",
    "                                        _carbs NOT NULL\n",
    "                                    ); \"\"\"\n",
    "    connection = create_connection(database)\n",
    "\n",
    "    # create nutrition table\n",
    "    if connection is not None:\n",
    "        create_table(connection, createTblSql)\n",
    "    else:\n",
    "        print('Connection Error')\n",
    "\n",
    "\n",
    "if __name__ == '__main__':\n",
    "    main()"
   ]
  },
  {
   "cell_type": "code",
   "execution_count": 2,
   "metadata": {},
   "outputs": [],
   "source": [
    "import sqlite3\n",
    "from sqlite3 import Error\n",
    "\n",
    "\n",
    "def create_connection(db_file):\n",
    "    \"\"\" create a database connection to the SQLite database\n",
    "        specified by db_file\n",
    "    :param db_file: database file\n",
    "    :return: Connection object or None\n",
    "    \"\"\"\n",
    "    conn = None\n",
    "    try:\n",
    "        conn = sqlite3.connect(db_file)\n",
    "    except Error as e:\n",
    "        print(e)\n",
    "\n",
    "    return conn\n",
    "\n",
    "\n",
    "def create_nutritions(conn, nutritions):\n",
    "    \"\"\"\n",
    "    :param conn:\n",
    "    :param nutritions:\n",
    "    :return: nutritions id\n",
    "    \"\"\"\n",
    "    sql = ''' INSERT INTO nutritions(username, foodname,calories, fats, carbs)\n",
    "              VALUES(?,?,?,?,?) '''\n",
    "    cur = conn.cursor()\n",
    "    cur.execute(sql, nutritions)\n",
    "    conn.commit()\n",
    "    return cur.lastrowid\n",
    "\n",
    "\n",
    "def create_task(conn, task):\n",
    "    \"\"\"\n",
    "    Create a new task\n",
    "    :param conn:\n",
    "    :param task:\n",
    "    :return:\n",
    "    \"\"\"\n",
    "\n",
    "    sql = ''' INSERT INTO nutritions(_username, _foodname, _calories, _fats, _carbs)\n",
    "              VALUES(?,?,?,?,?) '''\n",
    "    cur = conn.cursor()\n",
    "    cur.execute(sql, task)\n",
    "    conn.commit()\n",
    "    return cur.lastrowid\n",
    "\n",
    "\n",
    "def main():\n",
    "    database = 'instance/nutritions.db'\n",
    "\n",
    "    # create a database connection\n",
    "    conn = create_connection(database)\n",
    "    with conn:\n",
    "        # create a new project\n",
    "       \n",
    "        # tasks\n",
    "        task_1 = (\"Ananya\",'Apple', '94 cal','0.31g', '20.77 g')\n",
    "        task_2 = ( \"Ethan\",'Flour', '455.00 kcal', ' 1.23 g', '92.01 g')\n",
    "        task_3 = (  \"Ava\", 'Orange', ' 61.57 kcal', '0.16 g', '12.25 g')\n",
    "        task_4 = (  \"Alexa\", 'Milk', '148.84 kcal', '7.93 g', ' 11.71 g')\n",
    "        task_5 = (  \"Haseeb\", 'Egg', '61.49 kcal', '4.09 g', ' 0.31 g')\n",
    "        task_6= (  \"Rashi\", 'grapes', '85 kcal', '5.09 g', '0.23 g')\n",
    "        task_7 = (  \"Aiza\", 'bread', '100 kcal', '6.08 g', ' 0.78 g')\n",
    "        task_8 = (  \"Anshi\", 'banana', '76 kcal', '6.98 g', ' 2.34 g')\n",
    "        task_9 = (  \"Mortensen\", 'ramen', '115 kcal', '3.89 g', ' 0.23 g')\n",
    "        task_10 = (\"Yeung\", 'butter', '86.9 kcal', '2.35 g',' 24.7 g')\n",
    "\n",
    "        # create tasks\n",
    "        create_task(conn, task_1)\n",
    "        create_task(conn, task_2)\n",
    "        create_task(conn, task_3)\n",
    "        create_task(conn, task_4)\n",
    "        create_task(conn, task_5)\n",
    "        create_task(conn, task_6)\n",
    "        create_task(conn, task_7)\n",
    "        create_task(conn, task_8)\n",
    "        create_task(conn, task_9)\n",
    "        create_task(conn, task_10)\n",
    "\n",
    "\n",
    "\n",
    "if __name__ == '__main__':\n",
    "    main()"
   ]
  },
  {
   "attachments": {},
   "cell_type": "markdown",
   "metadata": {},
   "source": [
    "# Create"
   ]
  },
  {
   "cell_type": "code",
   "execution_count": 4,
   "metadata": {},
   "outputs": [
    {
     "name": "stdout",
     "output_type": "stream",
     "text": [
      "The username, h has been created.\n"
     ]
    }
   ],
   "source": [
    "def create():\n",
    "    database = 'instance/nutritions.db'\n",
    "    username = input(\"Enter a username:\")\n",
    "    foodname = input(\"Enter the food name\")\n",
    "    calories = input(\"Enter the number calories\")\n",
    "    fats = input(\"Enter the amount of fat in grams\")\n",
    "    carbs = input(\"Enter the amount of carbs in grams\")\n",
    "\n",
    "    # Connecting to the database, create cursor to execute the SQL command\n",
    "    connection = sqlite3.connect(database)\n",
    "    cursor = connection.cursor()\n",
    "\n",
    "    try:\n",
    "        # Execute SQL to insert record in to db\n",
    "        cursor.execute(\"INSERT INTO nutritions (_username, _foodname, _calories, _fats, _carbs) VALUES (?, ?, ?, ?, ?)\", (username, foodname, calories, fats, carbs))\n",
    "        # Commit the changes\n",
    "        connection.commit()\n",
    "        print(f\"The username, {username} has been created.\")\n",
    "                \n",
    "    except sqlite3.Error as error:\n",
    "        print(\"Error while inserting record\", error)\n",
    "\n",
    "    # Closing cursor and connection\n",
    "    cursor.close()\n",
    "    connection.close()\n",
    "    \n",
    "create()"
   ]
  },
  {
   "attachments": {},
   "cell_type": "markdown",
   "metadata": {},
   "source": [
    "# Update"
   ]
  },
  {
   "cell_type": "code",
   "execution_count": 5,
   "metadata": {},
   "outputs": [],
   "source": [
    "import sqlite3\n",
    "from sqlite3 import Error\n",
    "\n",
    "\n",
    "def create_connection(db_file):\n",
    "    \"\"\" create a database connection to the SQLite database\n",
    "        specified by the db_file\n",
    "    :param db_file: database file\n",
    "    :return: Connection object or None\n",
    "    \"\"\"\n",
    "    conn = None\n",
    "    try:\n",
    "        conn = sqlite3.connect(db_file)\n",
    "    except Error as e:\n",
    "        print(e)\n",
    "\n",
    "    return conn\n",
    "\n",
    "\n",
    "def update_task(conn, task):\n",
    "    \"\"\"\n",
    "    update priority, username,foodname,calories,fats,carbs\n",
    "    :param conn:\n",
    "    :param task:\n",
    "\n",
    "    \"\"\"\n",
    "    sql = ''' UPDATE nutritions\n",
    "              SET _username = ? ,\n",
    "                  _foodname = ? ,\n",
    "                  _calories = ?,\n",
    "                  _fats = ?,\n",
    "                  _carbs = ?'''\n",
    "    cur = conn.cursor()\n",
    "    cur.execute(sql, task)\n",
    "    conn.commit()\n",
    "\n",
    "\n",
    "def main():\n",
    "    database = 'instance/nutritions.db'\n",
    "\n",
    "    # create a database connection\n",
    "    conn = create_connection(database)\n",
    "    with conn:\n",
    "        update_task(conn, (\"update\",\"update\",\"update\",\"update\",\"update\" ))\n",
    "\n",
    "\n",
    "if __name__ == '__main__':\n",
    "    main()\n"
   ]
  },
  {
   "attachments": {},
   "cell_type": "markdown",
   "metadata": {},
   "source": [
    "# Read"
   ]
  },
  {
   "cell_type": "code",
   "execution_count": 6,
   "metadata": {},
   "outputs": [
    {
     "name": "stdout",
     "output_type": "stream",
     "text": [
      "(1, 'update', 'update', 'update', 'update', 'update')\n",
      "(2, 'update', 'update', 'update', 'update', 'update')\n",
      "(3, 'update', 'update', 'update', 'update', 'update')\n",
      "(4, 'update', 'update', 'update', 'update', 'update')\n",
      "(5, 'update', 'update', 'update', 'update', 'update')\n",
      "(6, 'update', 'update', 'update', 'update', 'update')\n",
      "(7, 'update', 'update', 'update', 'update', 'update')\n",
      "(8, 'update', 'update', 'update', 'update', 'update')\n",
      "(9, 'update', 'update', 'update', 'update', 'update')\n",
      "(10, 'update', 'update', 'update', 'update', 'update')\n",
      "(11, 'update', 'update', 'update', 'update', 'update')\n",
      "(12, 'update', 'update', 'update', 'update', 'update')\n"
     ]
    }
   ],
   "source": [
    "def read():\n",
    "\n",
    "    database = 'instance/nutritions.db'\n",
    "    # Connecting to the database, create cursor to execute the SQL command\n",
    "    connection = sqlite3.connect(database)\n",
    "    cursor = connection.cursor()\n",
    "    \n",
    "    results = cursor.execute('SELECT * FROM nutritions').fetchall()\n",
    "\n",
    "\n",
    "    for row in results:\n",
    "            print(row)\n",
    "   \n",
    "\n",
    "    # Closing cursor and connection\n",
    "    cursor.close()\n",
    "    connection.close()\n",
    "\n",
    "read()"
   ]
  },
  {
   "cell_type": "code",
   "execution_count": 8,
   "metadata": {},
   "outputs": [
    {
     "name": "stdout",
     "output_type": "stream",
     "text": [
      "Deleted username update\n"
     ]
    }
   ],
   "source": [
    "import sqlite3\n",
    "\n",
    "def delete():\n",
    "    \n",
    "    database = 'instance/nutritions.db'\n",
    "    username = input(\"Enter the username\")\n",
    "\n",
    "    # Connecting to the database, create cursor to execute the SQL command\n",
    "    connection = sqlite3.connect(database)\n",
    "    cursor = connection.cursor()\n",
    "    \n",
    "    try:\n",
    "        cursor.execute(\"DELETE FROM nutritions WHERE _username = ?\", (username,))\n",
    "        if cursor.rowcount == 0:\n",
    "            print(f\"{username} does not exist\")\n",
    "        else:\n",
    "            print(f\"Deleted username {username}\")\n",
    "        connection.commit()\n",
    "    except sqlite3.Error as error:\n",
    "        print(\"Error occurred: \", error)\n",
    "        \n",
    "    # Closing cursor and connection\n",
    "    cursor.close()\n",
    "    connection.close()\n",
    "\n",
    "delete()"
   ]
  }
 ],
 "metadata": {
  "kernelspec": {
   "display_name": "base",
   "language": "python",
   "name": "python3"
  },
  "language_info": {
   "codemirror_mode": {
    "name": "ipython",
    "version": 3
   },
   "file_extension": ".py",
   "mimetype": "text/x-python",
   "name": "python",
   "nbconvert_exporter": "python",
   "pygments_lexer": "ipython3",
   "version": "3.9.12"
  },
  "orig_nbformat": 4,
  "vscode": {
   "interpreter": {
    "hash": "8b82d5009c68ba5675978267e2b13a671f2a7143d61273c5a3813c97e0b2493d"
   }
  }
 },
 "nbformat": 4,
 "nbformat_minor": 2
}
