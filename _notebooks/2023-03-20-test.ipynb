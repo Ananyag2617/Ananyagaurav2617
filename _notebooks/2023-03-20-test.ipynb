{
 "cells": [
  {
   "attachments": {},
   "cell_type": "markdown",
   "metadata": {},
   "source": [
    "# My Own Database"
   ]
  },
  {
   "attachments": {},
   "cell_type": "markdown",
   "metadata": {},
   "source": [
    "## Imports and Flask Objects\n"
   ]
  },
  {
   "cell_type": "code",
   "execution_count": 1,
   "metadata": {},
   "outputs": [],
   "source": [
    "from flask import Flask\n",
    "from flask_sqlalchemy import SQLAlchemy\n",
    "\n",
    "\n",
    "\"\"\"\n",
    "These object and definitions are used throughout the Jupyter Notebook.\n",
    "\"\"\"\n",
    "\n",
    "\n",
    "# Setup of key Flask object (app)\n",
    "app = Flask(__name__)\n",
    "# Setup SQLAlchemy object and properties for the database (db)\n",
    "database = 'sqlite:///sqlite.db' # path and filename of database\n",
    "app.config['SQLALCHEMY_TRACK_MODIFICATIONS'] = False\n",
    "app.config['SQLALCHEMY_DATABASE_URI'] = database\n",
    "app.config['SECRET_KEY'] = 'SECRET_KEY'\n",
    "db = SQLAlchemy()\n",
    "\n",
    "\n",
    "\n",
    "\n",
    "# This belongs in place where it runs once per project\n",
    "db.init_app(app)\n"
   ]
  },
  {
   "attachments": {},
   "cell_type": "markdown",
   "metadata": {},
   "source": [
    "## Defining the Class"
   ]
  },
  {
   "cell_type": "code",
   "execution_count": 2,
   "metadata": {},
   "outputs": [],
   "source": [
    "import datetime\n",
    "from datetime import datetime\n",
    "import json\n",
    "\n",
    "\n",
    "from sqlalchemy.exc import IntegrityError\n",
    "from werkzeug.security import generate_password_hash, check_password_hash\n",
    "\n",
    "\n",
    "\n",
    "\n",
    "class Nutrition(db.Model):\n",
    "    __tablename__ = ' nutritions'  # table name is plural, class name is singular\n",
    "\n",
    "    # Define the User schema with \"vars\" from object\n",
    "    id = db.Column(db.Integer, unique=True, primary_key=True)\n",
    "    _username = db.Column(db.String(255), unique=False, nullable=False)\n",
    "    _foodname = db.Column(db.String(255), unique=False, nullable=False)\n",
    "    _calories = db.Column(db.String(255), unique=False, nullable=False)\n",
    "    _fats = db.Column(db.String(255), unique=False, nullable=False)\n",
    "    _carbs = db.Column(db.String(255), unique=False, nullable=False)\n",
    "\n",
    "\n",
    "    # constructor of a User object, initializes the instance variables within object (self)\n",
    "    def __init__(self, username, foodname, calories,fats, carbs):\n",
    "        self._username = username\n",
    "        self._foodname = foodname    # variables with self prefix become part of the object, \n",
    "        self._calories = calories\n",
    "        self._fats = fats\n",
    "        self._carbs = carbs\n",
    "\n",
    "    # a name getter method, extracts name from object\n",
    "    @property\n",
    "    def username(self):\n",
    "        return self._username\n",
    "    # a setter function, allows name to be updated after initial object creation\n",
    "    @username.setter\n",
    "    def username(self, username):\n",
    "        self._username = username\n",
    "        \n",
    "        \n",
    "    @property\n",
    "    def foodname(self):\n",
    "        return self._foodname\n",
    "    # a setter function, allows name to be updated after initial object creation\n",
    "    @foodname.setter\n",
    "    def foodname(self, foodname):\n",
    "        self._foodname = foodname\n",
    "        \n",
    "    # a getter method, extracts link from object\n",
    "    @property\n",
    "    def calories(self):\n",
    "        return self._calories\n",
    "    # a setter function, allows link to be updated after initial object creation\n",
    "    @calories.setter\n",
    "    def recipelink(self, calories):\n",
    "        self._calories = calories\n",
    "        \n",
    "    # a getter method, extracts link from object\n",
    "    @property\n",
    "    def fats(self):\n",
    "        return self._fats\n",
    "    # a setter function, allows link to be updated after initial object creation\n",
    "    @fats.setter\n",
    "    def recipetype(self, fats):\n",
    "        self._fats = fats\n",
    "\n",
    "    # a getter method, extracts link from object\n",
    "    @property\n",
    "    def carbs(self):\n",
    "        return self._carbs\n",
    "    # a setter function, allows link to be updated after initial object creation\n",
    "    @carbs.setter\n",
    "    def recipecuisine(self, carbs):\n",
    "        self._carbs = carbs\n",
    "        \n",
    "    \n",
    "    @property\n",
    "    # output content using str(object) in human readable form, uses getter\n",
    "    # output content using json dumps, this is ready for API response\n",
    "    def __str__(self):\n",
    "        return json.dumps(self.read())\n",
    "\n",
    "    # CRUD create/add a new record to the table\n",
    "    # returns self or None on error\n",
    "    def create(self):\n",
    "        try:\n",
    "            # creates a person object from User(db.Model) class, passes initializers\n",
    "            db.session.add(self)  # add prepares to persist person object to Users table\n",
    "            db.session.commit()  # SqlAlchemy \"unit of work pattern\" requires a manual commit\n",
    "            return self\n",
    "        except IntegrityError:\n",
    "            db.session.remove()\n",
    "            return None\n",
    "\n",
    "    # CRUD read converts self to dictionary\n",
    "    # returns dictionary\n",
    "    def read(self):\n",
    "        return {\n",
    "            \"id\": self.id,\n",
    "            \"username\" : self.username,\n",
    "            \"foodname\" : self.foodname,\n",
    "            \"calories\" : self.calories,\n",
    "            \"fats\" : self.fats,\n",
    "            \"carbs\" : self.carbs,\n",
    "        }\n",
    "    # CRUD update: updates user name, password, phone\n",
    "    # returns self\n",
    "    def update(self, username=\"\", foodname=\"\", calories=\"\", fats=\"\", carbs=\"\"):\n",
    "        \"\"\"only updates values with length\"\"\"\n",
    "        if len(username) > 0:\n",
    "            self.username = username\n",
    "        if len(foodname) > 0:\n",
    "            self.foodname = foodname\n",
    "        if len(calories) > 0:\n",
    "            self.calories = calories\n",
    "        if len(fats) > 0:\n",
    "            self.fats = fats\n",
    "        if len(carbs) > 0:\n",
    "            self.carbs = carbs\n",
    "        db.session.commit()\n",
    "        return self\n",
    "\n",
    "    # CRUD delete: remove self\n",
    "    # None\n",
    "    def delete(self):\n",
    "        db.session.delete(self)\n",
    "        db.session.commit()\n",
    "        return None\n",
    "\n",
    "\n"
   ]
  },
  {
   "attachments": {},
   "cell_type": "markdown",
   "metadata": {},
   "source": [
    "# Creating the Database"
   ]
  },
  {
   "cell_type": "code",
   "execution_count": 3,
   "metadata": {},
   "outputs": [],
   "source": [
    "\"\"\"Database Creation and Testing \"\"\"\n",
    "\n",
    "\n",
    "# Builds working data for testing\n",
    "def initNutrition():\n",
    "    with app.app_context():\n",
    "        \"\"\"Create database and tables\"\"\"\n",
    "        db.create_all()\n",
    "        \"\"\"Tester data for table\"\"\"\n",
    "        r1 = Nutrition(username = \"Ananya\", foodname='Apple', calories='94 kcal', fats='0.31g', carbs='20.77 g')\n",
    "        r2 = Nutrition(username = \"Ethan\", foodname='Flour', calories='455.00 kcal', fats=' 1.23 g', carbs='92.01 g')\n",
    "        r3 = Nutrition(username = \"Ava\", foodname='Orange', calories=' 61.57 kcal', fats='0.16 g', carbs='12.25 g')\n",
    "        r4 = Nutrition(username = \"Alexa\", foodname='Milk', calories='148.84 kcal', fats='7.93 g', carbs=' 11.71 g')\n",
    "        r5 = Nutrition(username = \"Haseeb\", foodname='Egg', calories='61.49 kcal', fats='4.09 g', carbs=' 0.31 g')\n",
    "        r6= Nutrition(username = \"Rashi\", foodname='grapes', calories='85 kcal', fats='5.09 g', carbs='0.23 g')\n",
    "        r7 = Nutrition(username = \"Aiza\", foodname='bread', calories='100 kcal', fats='6.08 g', carbs=' 0.78 g')\n",
    "        r8 = Nutrition(username = \"Anshi\", foodname='banana', calories='76 kcal', fats='6.98 g', carbs=' 2.34 g')\n",
    "        r9 = Nutrition(username = \"Mortensen\", foodname='ramen', calories='115 kcal', fats='3.89 g', carbs=' 0.23 g')\n",
    "        r10 = Nutrition(username = \"Yeung\", foodname='butter', calories='86.9 kcal', fats='2.35 g', carbs=' 24.7 g')\n",
    "\n",
    "    \n",
    "        nutritions = [r1, r2, r3, r4, r5,r6,r7,r8,r9,r10]\n",
    "\n",
    "        \"\"\"Builds sample user/note(s) data\"\"\"\n",
    "        for nutrition in nutritions:\n",
    "            try:\n",
    "                nutrition.create()\n",
    "            except IntegrityError:\n",
    "                '''fails with bad or duplicate data'''\n",
    "                db.session.remove()\n",
    "                print(f\"Records exist, duplicate email, or error: {nutrition.model}\")\n",
    "\n",
    "\n",
    "initNutrition()\n"
   ]
  },
  {
   "attachments": {},
   "cell_type": "markdown",
   "metadata": {},
   "source": [
    "# CRUD"
   ]
  },
  {
   "attachments": {},
   "cell_type": "markdown",
   "metadata": {},
   "source": [
    "## READ FUNCTION"
   ]
  },
  {
   "cell_type": "code",
   "execution_count": 4,
   "metadata": {},
   "outputs": [
    {
     "data": {
      "text/plain": [
       "[{'id': 1,\n",
       "  'username': 'Ananya',\n",
       "  'foodname': 'Apple',\n",
       "  'calories': '94 cal',\n",
       "  'fats': '0.31g',\n",
       "  'carbs': '20.77 g'},\n",
       " {'id': 2,\n",
       "  'username': 'Ethan',\n",
       "  'foodname': 'Flour',\n",
       "  'calories': '455.00 kcal',\n",
       "  'fats': ' 1.23 g',\n",
       "  'carbs': '92.01 g'},\n",
       " {'id': 3,\n",
       "  'username': 'Ava',\n",
       "  'foodname': 'Orange',\n",
       "  'calories': ' 61.57 kcal',\n",
       "  'fats': '0.16 g',\n",
       "  'carbs': '12.25 g'},\n",
       " {'id': 4,\n",
       "  'username': 'Alexa',\n",
       "  'foodname': 'Milk',\n",
       "  'calories': '148.84 kcal',\n",
       "  'fats': '7.93 g',\n",
       "  'carbs': ' 11.71 g'},\n",
       " {'id': 5,\n",
       "  'username': 'Haseeb',\n",
       "  'foodname': 'Egg',\n",
       "  'calories': '61.49 kcal',\n",
       "  'fats': '4.09 g',\n",
       "  'carbs': ' 0.31 g'},\n",
       " {'id': 6,\n",
       "  'username': 'Rashi',\n",
       "  'foodname': 'grapes',\n",
       "  'calories': '85 kcal',\n",
       "  'fats': '5.09 g',\n",
       "  'carbs': '0.23 g'},\n",
       " {'id': 7,\n",
       "  'username': 'Aiza',\n",
       "  'foodname': 'bread',\n",
       "  'calories': '100 kcal',\n",
       "  'fats': '6.08 g',\n",
       "  'carbs': ' 0.78 g'},\n",
       " {'id': 8,\n",
       "  'username': 'Anshi',\n",
       "  'foodname': 'banana',\n",
       "  'calories': '76 kcal',\n",
       "  'fats': '6.98 g',\n",
       "  'carbs': ' 2.34 g'},\n",
       " {'id': 9,\n",
       "  'username': 'Mortensen',\n",
       "  'foodname': 'ramen',\n",
       "  'calories': '115 kcal',\n",
       "  'fats': '3.89 g',\n",
       "  'carbs': ' 0.23 g'},\n",
       " {'id': 10,\n",
       "  'username': 'Yeung',\n",
       "  'foodname': 'butter',\n",
       "  'calories': '86.9 kcal',\n",
       "  'fats': '2.35 g',\n",
       "  'carbs': ' 24.7 g'}]"
      ]
     },
     "execution_count": 4,
     "metadata": {},
     "output_type": "execute_result"
    }
   ],
   "source": [
    "def read():\n",
    "    with app.app_context():\n",
    "        table = Nutrition.query.all()\n",
    "    json_ready = [username.read() for username in table] \n",
    "    return json_ready\n",
    "\n",
    "read()"
   ]
  },
  {
   "attachments": {},
   "cell_type": "markdown",
   "metadata": {},
   "source": [
    "## CHECK CREDENTIALS"
   ]
  },
  {
   "cell_type": "code",
   "execution_count": 8,
   "metadata": {},
   "outputs": [
    {
     "data": {
      "text/plain": [
       "<Nutrition 1>"
      ]
     },
     "execution_count": 8,
     "metadata": {},
     "output_type": "execute_result"
    }
   ],
   "source": [
    "def find_by_username(username):\n",
    "    with app.app_context():\n",
    "        user = Nutrition.query.filter_by(_username=username).first()\n",
    "    return user \n",
    "\n",
    "def check_credentials(username, foodname):\n",
    "    user = find_by_username(username)\n",
    "    if user == None:\n",
    "        return False\n",
    "    if (user.is_foodname(foodname)):\n",
    "        return True\n",
    "    return False\n",
    "\n",
    "def find_by_foodname(foodname):\n",
    "    with app.app_context():\n",
    "        user = Nutrition.query.filter_by(_foodname=foodname).first()\n",
    "    return user \n",
    "\n",
    "def check_credentials(foodname):\n",
    "    user = find_by_foodname(foodname)\n",
    "    if user == None:\n",
    "        return False\n",
    "        \n",
    "find_by_foodname(\"Apple\")"
   ]
  },
  {
   "attachments": {},
   "cell_type": "markdown",
   "metadata": {},
   "source": [
    "## CREATE FUNCTION"
   ]
  },
  {
   "cell_type": "code",
   "execution_count": 9,
   "metadata": {},
   "outputs": [
    {
     "name": "stdout",
     "output_type": "stream",
     "text": [
      "User has been created\n",
      " {'id': 11, 'username': 'hi', 'foodname': 'hi', 'calories': 'hi', 'fats': 'ho', 'carbs': 'hi'}\n"
     ]
    }
   ],
   "source": [
    "def create():\n",
    "    username = input(\"Please enter a username. EX: your name:\")\n",
    "    username = find_by_username(username)\n",
    "    try:\n",
    "        print(\"Username has been Found\\n\", user.read())\n",
    "        return\n",
    "    except:\n",
    "        pass # keep going\n",
    "    \n",
    "    username = input(\"Enter a username:\")\n",
    "    foodname = input(\"Enter the food name\")\n",
    "    calories = input(\"Enter the number calories\")\n",
    "    fats = input(\"Enter the amount of fat in grams\")\n",
    "    carbs = input(\"Enter the amount of carbs in grams\")\n",
    "\n",
    "    # Initialize User object \n",
    "    user = Nutrition(username=username,\n",
    "                foodname=foodname,\n",
    "                calories=calories, \n",
    "                fats=fats,\n",
    "                carbs=carbs\n",
    "                )\n",
    "           \n",
    "    # write object to database\n",
    "    with app.app_context():\n",
    "        try:\n",
    "            object = user.create()\n",
    "            print(\"User has been created\\n\", object.read())\n",
    "        except:  # if link already exists\n",
    "            print(\"Someone has already entered this {name}\")  \n",
    "create()"
   ]
  },
  {
   "attachments": {},
   "cell_type": "markdown",
   "metadata": {},
   "source": [
    "# UPDATE FUNCTION"
   ]
  },
  {
   "cell_type": "code",
   "execution_count": 31,
   "metadata": {},
   "outputs": [
    {
     "ename": "RuntimeError",
     "evalue": "Working outside of application context.\n\nThis typically means that you attempted to use functionality that needed\nthe current application. To solve this, set up an application context\nwith app.app_context(). See the documentation for more information.",
     "output_type": "error",
     "traceback": [
      "\u001b[0;31m---------------------------------------------------------------------------\u001b[0m",
      "\u001b[0;31mRuntimeError\u001b[0m                              Traceback (most recent call last)",
      "\u001b[1;32m/home/ananyag2617/vscode/ananyagaurav2617/_notebooks/2023-03-20-test.ipynb Cell 17\u001b[0m in \u001b[0;36m<cell line: 35>\u001b[0;34m()\u001b[0m\n\u001b[1;32m     <a href='vscode-notebook-cell://wsl%2Bubuntu/home/ananyag2617/vscode/ananyagaurav2617/_notebooks/2023-03-20-test.ipynb#X26sdnNjb2RlLXJlbW90ZQ%3D%3D?line=30'>31</a>\u001b[0m     json_ready \u001b[39m=\u001b[39m [user\u001b[39m.\u001b[39mupdate() \u001b[39mfor\u001b[39;00m user \u001b[39min\u001b[39;00m table]\n\u001b[1;32m     <a href='vscode-notebook-cell://wsl%2Bubuntu/home/ananyag2617/vscode/ananyagaurav2617/_notebooks/2023-03-20-test.ipynb#X26sdnNjb2RlLXJlbW90ZQ%3D%3D?line=31'>32</a>\u001b[0m     \u001b[39mreturn\u001b[39;00m json_ready\n\u001b[0;32m---> <a href='vscode-notebook-cell://wsl%2Bubuntu/home/ananyag2617/vscode/ananyagaurav2617/_notebooks/2023-03-20-test.ipynb#X26sdnNjb2RlLXJlbW90ZQ%3D%3D?line=34'>35</a>\u001b[0m update()\n",
      "\u001b[1;32m/home/ananyag2617/vscode/ananyagaurav2617/_notebooks/2023-03-20-test.ipynb Cell 17\u001b[0m in \u001b[0;36mupdate\u001b[0;34m()\u001b[0m\n\u001b[1;32m      <a href='vscode-notebook-cell://wsl%2Bubuntu/home/ananyag2617/vscode/ananyagaurav2617/_notebooks/2023-03-20-test.ipynb#X26sdnNjb2RlLXJlbW90ZQ%3D%3D?line=0'>1</a>\u001b[0m \u001b[39mdef\u001b[39;00m \u001b[39mupdate\u001b[39m():\n\u001b[1;32m      <a href='vscode-notebook-cell://wsl%2Bubuntu/home/ananyag2617/vscode/ananyagaurav2617/_notebooks/2023-03-20-test.ipynb#X26sdnNjb2RlLXJlbW90ZQ%3D%3D?line=1'>2</a>\u001b[0m     username \u001b[39m=\u001b[39m \u001b[39minput\u001b[39m(\u001b[39m\"\u001b[39m\u001b[39mEnter a username: \u001b[39m\u001b[39m\"\u001b[39m)\n\u001b[0;32m----> <a href='vscode-notebook-cell://wsl%2Bubuntu/home/ananyag2617/vscode/ananyagaurav2617/_notebooks/2023-03-20-test.ipynb#X26sdnNjb2RlLXJlbW90ZQ%3D%3D?line=2'>3</a>\u001b[0m     user \u001b[39m=\u001b[39m db\u001b[39m.\u001b[39;49msession\u001b[39m.\u001b[39;49mquery(Nutrition)\u001b[39m.\u001b[39mfilter_by(username\u001b[39m=\u001b[39musername)\u001b[39m.\u001b[39mfirst()\n\u001b[1;32m      <a href='vscode-notebook-cell://wsl%2Bubuntu/home/ananyag2617/vscode/ananyagaurav2617/_notebooks/2023-03-20-test.ipynb#X26sdnNjb2RlLXJlbW90ZQ%3D%3D?line=4'>5</a>\u001b[0m     \u001b[39mif\u001b[39;00m user \u001b[39mis\u001b[39;00m \u001b[39mNone\u001b[39;00m:\n\u001b[1;32m      <a href='vscode-notebook-cell://wsl%2Bubuntu/home/ananyag2617/vscode/ananyagaurav2617/_notebooks/2023-03-20-test.ipynb#X26sdnNjb2RlLXJlbW90ZQ%3D%3D?line=5'>6</a>\u001b[0m         \u001b[39mprint\u001b[39m(\u001b[39mf\u001b[39m\u001b[39m\"\u001b[39m\u001b[39mUser \u001b[39m\u001b[39m'\u001b[39m\u001b[39m{\u001b[39;00musername\u001b[39m}\u001b[39;00m\u001b[39m'\u001b[39m\u001b[39m not found.\u001b[39m\u001b[39m\"\u001b[39m)\n",
      "File \u001b[0;32m~/anaconda3/lib/python3.9/site-packages/sqlalchemy/orm/scoping.py:1593\u001b[0m, in \u001b[0;36mscoped_session.query\u001b[0;34m(self, *entities, **kwargs)\u001b[0m\n\u001b[1;32m   1567\u001b[0m \u001b[39mdef\u001b[39;00m \u001b[39mquery\u001b[39m(\n\u001b[1;32m   1568\u001b[0m     \u001b[39mself\u001b[39m, \u001b[39m*\u001b[39mentities: _ColumnsClauseArgument[Any], \u001b[39m*\u001b[39m\u001b[39m*\u001b[39mkwargs: Any\n\u001b[1;32m   1569\u001b[0m ) \u001b[39m-\u001b[39m\u001b[39m>\u001b[39m Query[Any]:\n\u001b[1;32m   1570\u001b[0m     \u001b[39mr\u001b[39m\u001b[39m\"\"\"Return a new :class:`_query.Query` object corresponding to this\u001b[39;00m\n\u001b[1;32m   1571\u001b[0m \u001b[39m    :class:`_orm.Session`.\u001b[39;00m\n\u001b[1;32m   1572\u001b[0m \n\u001b[0;32m   (...)\u001b[0m\n\u001b[1;32m   1590\u001b[0m \n\u001b[1;32m   1591\u001b[0m \u001b[39m    \"\"\"\u001b[39;00m  \u001b[39m# noqa: E501\u001b[39;00m\n\u001b[0;32m-> 1593\u001b[0m     \u001b[39mreturn\u001b[39;00m \u001b[39mself\u001b[39;49m\u001b[39m.\u001b[39;49m_proxied\u001b[39m.\u001b[39mquery(\u001b[39m*\u001b[39mentities, \u001b[39m*\u001b[39m\u001b[39m*\u001b[39mkwargs)\n",
      "File \u001b[0;32m~/anaconda3/lib/python3.9/site-packages/sqlalchemy/orm/scoping.py:195\u001b[0m, in \u001b[0;36mscoped_session._proxied\u001b[0;34m(self)\u001b[0m\n\u001b[1;32m    193\u001b[0m \u001b[39m@property\u001b[39m\n\u001b[1;32m    194\u001b[0m \u001b[39mdef\u001b[39;00m \u001b[39m_proxied\u001b[39m(\u001b[39mself\u001b[39m) \u001b[39m-\u001b[39m\u001b[39m>\u001b[39m _S:\n\u001b[0;32m--> 195\u001b[0m     \u001b[39mreturn\u001b[39;00m \u001b[39mself\u001b[39;49m\u001b[39m.\u001b[39;49mregistry()\n",
      "File \u001b[0;32m~/anaconda3/lib/python3.9/site-packages/sqlalchemy/util/_collections.py:639\u001b[0m, in \u001b[0;36mScopedRegistry.__call__\u001b[0;34m(self)\u001b[0m\n\u001b[1;32m    638\u001b[0m \u001b[39mdef\u001b[39;00m \u001b[39m__call__\u001b[39m(\u001b[39mself\u001b[39m) \u001b[39m-\u001b[39m\u001b[39m>\u001b[39m _T:\n\u001b[0;32m--> 639\u001b[0m     key \u001b[39m=\u001b[39m \u001b[39mself\u001b[39;49m\u001b[39m.\u001b[39;49mscopefunc()\n\u001b[1;32m    640\u001b[0m     \u001b[39mtry\u001b[39;00m:\n\u001b[1;32m    641\u001b[0m         \u001b[39mreturn\u001b[39;00m \u001b[39mself\u001b[39m\u001b[39m.\u001b[39mregistry[key]  \u001b[39m# type: ignore[no-any-return]\u001b[39;00m\n",
      "File \u001b[0;32m~/anaconda3/lib/python3.9/site-packages/flask_sqlalchemy/session.py:102\u001b[0m, in \u001b[0;36m_app_ctx_id\u001b[0;34m()\u001b[0m\n\u001b[1;32m    100\u001b[0m \u001b[39mdef\u001b[39;00m \u001b[39m_app_ctx_id\u001b[39m() \u001b[39m-\u001b[39m\u001b[39m>\u001b[39m \u001b[39mint\u001b[39m:\n\u001b[1;32m    101\u001b[0m     \u001b[39m\"\"\"Get the id of the current Flask application context for the session scope.\"\"\"\u001b[39;00m\n\u001b[0;32m--> 102\u001b[0m     \u001b[39mreturn\u001b[39;00m \u001b[39mid\u001b[39m(app_ctx\u001b[39m.\u001b[39;49m_get_current_object())\n",
      "File \u001b[0;32m~/anaconda3/lib/python3.9/site-packages/werkzeug/local.py:513\u001b[0m, in \u001b[0;36mLocalProxy.__init__.<locals>._get_current_object\u001b[0;34m()\u001b[0m\n\u001b[1;32m    511\u001b[0m     obj \u001b[39m=\u001b[39m local\u001b[39m.\u001b[39mget()  \u001b[39m# type: ignore[union-attr]\u001b[39;00m\n\u001b[1;32m    512\u001b[0m \u001b[39mexcept\u001b[39;00m \u001b[39mLookupError\u001b[39;00m:\n\u001b[0;32m--> 513\u001b[0m     \u001b[39mraise\u001b[39;00m \u001b[39mRuntimeError\u001b[39;00m(unbound_message) \u001b[39mfrom\u001b[39;00m \u001b[39mNone\u001b[39m\n\u001b[1;32m    515\u001b[0m \u001b[39mreturn\u001b[39;00m get_name(obj)\n",
      "\u001b[0;31mRuntimeError\u001b[0m: Working outside of application context.\n\nThis typically means that you attempted to use functionality that needed\nthe current application. To solve this, set up an application context\nwith app.app_context(). See the documentation for more information."
     ]
    }
   ],
   "source": [
    "def update():\n",
    "    username = input(\"Enter a username: \")\n",
    "    user = db.session.query(Nutrition).filter_by(username=username).first()\n",
    "\n",
    "    if user is None:\n",
    "        print(f\"User '{username}' not found.\")\n",
    "        return\n",
    "\n",
    "    update_username = input(\"Enter the updated username: \")\n",
    "    update_foodname = input(\"Enter the updated food name: \")\n",
    "    update_calories = input(\"Enter the updated number of calories: \")\n",
    "    update_fats = input(\"Enter the updated amount of fat in grams: \")\n",
    "    update_carbs = input(\"Enter the updated amount of carbs in grams: \")\n",
    "\n",
    "    user.username = update_username\n",
    "    user.foodname = update_foodname\n",
    "    user.calories = update_calories\n",
    "    user.fats = update_fats\n",
    "    user.carbs = update_carbs\n",
    "\n",
    "    try:\n",
    "            db.session.commit()\n",
    "            print(f\"User '{username}' has been successfully updated with the following values: \"\n",
    "                  f\"username='{update_username}', foodname='{update_foodname}', calories='{update_calories}', \"\n",
    "                  f\"fats='{update_fats}', carbs='{update_carbs}'.\")\n",
    "    except:\n",
    "        print(f\"Could not update user '{username}'.\")\n",
    "\n",
    "    with app.app_context():\n",
    "        table = Nutrition.query.all()\n",
    "    json_ready = [user.update() for user in table]\n",
    "    return json_ready\n",
    "\n",
    "\n",
    "update()\n",
    "\n",
    "\n"
   ]
  },
  {
   "attachments": {},
   "cell_type": "markdown",
   "metadata": {},
   "source": [
    "## DELETE FUNCTION"
   ]
  },
  {
   "cell_type": "code",
   "execution_count": 10,
   "metadata": {},
   "outputs": [
    {
     "name": "stdout",
     "output_type": "stream",
     "text": [
      "Deleted username: hi\n"
     ]
    }
   ],
   "source": [
    "def delete():\n",
    "    username = input(\"Please type the username you want to delete\")\n",
    "    with app.app_context():\n",
    "        result = Nutrition.query.filter_by(_username=username).first()\n",
    "        if result is None:\n",
    "            print(\"Item not found\")\n",
    "        else:\n",
    "            result.delete()\n",
    "            print(\"Deleted username:\", result._username)\n",
    "\n",
    "delete()"
   ]
  }
 ],
 "metadata": {
  "kernelspec": {
   "display_name": "base",
   "language": "python",
   "name": "python3"
  },
  "language_info": {
   "codemirror_mode": {
    "name": "ipython",
    "version": 3
   },
   "file_extension": ".py",
   "mimetype": "text/x-python",
   "name": "python",
   "nbconvert_exporter": "python",
   "pygments_lexer": "ipython3",
   "version": "3.9.12"
  },
  "orig_nbformat": 4
 },
 "nbformat": 4,
 "nbformat_minor": 2
}
