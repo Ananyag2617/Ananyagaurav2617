{
 "cells": [
  {
   "attachments": {},
   "cell_type": "markdown",
   "metadata": {},
   "source": [
    "# Lesson: Binary Search "
   ]
  },
  {
   "attachments": {},
   "cell_type": "markdown",
   "metadata": {},
   "source": [
    "### What is Binary Search?\n",
    "Binary search is an algorithm for finding the position of a target value within a sorted array. It works by repeatedly dividing the search interval in half, comparing the middle element of the interval with the target value, and narrowing the search interval based on the comparison."
   ]
  },
  {
   "attachments": {},
   "cell_type": "markdown",
   "metadata": {},
   "source": [
    "### Another way to think about it\n",
    "\n",
    "Imagine you are looking for a particular word in a dictionary with thousands of pages. Instead of starting at the first page and flipping through every page until you find the word (which would take a long time), you can use a binary search algorithm to quickly find the word.\n",
    "\n",
    "> Here's how it works:\n",
    "\n",
    "1. First, you open the dictionary to the middle page.\n",
    "\n",
    "2. You compare the word on the middle page with the word you are looking for.\n",
    "\n",
    "3. If the word you are looking for is equal to the word on the middle page, you have found it and you are done.\n",
    "\n",
    "4. If the word you are looking for is less than the word on the middle page, you know that the word must be on one of the pages to the left of the middle page. So, you discard the right half of the dictionary (i.e., all the pages to the right of the middle page) and repeat the process on the left half of the dictionary.\n",
    "\n",
    "5. If the word you are looking for is greater than the word on the middle page, you know that the word must be on one of the pages to the right of the middle page. So, you discard the left half of the dictionary (i.e., all the pages to the left of the middle page) and repeat the process on the right half of the dictionary.\n",
    "\n",
    "6. You continue this process, dividing the remaining pages in half each time, until you find the word or determine that it is not in the dictionary.\n",
    "\n",
    "Using binary search in this way is much faster than flipping through every page of the dictionary, especially for large dictionaries. Similarly, binary search is very efficient for finding a particular value in a sorted list or array, and can save a lot of time compared to searching through the entire list or array linearly."
   ]
  },
  {
   "attachments": {},
   "cell_type": "markdown",
   "metadata": {},
   "source": [
    "### How can binary search be used?\n",
    "\n",
    "> Here are two ways as examples, but there are more.\n",
    "\n",
    "1. Finding an element in a sorted array: Suppose you have a sorted array of integers and you want to find the index of a specific value in the array. You can use binary search to quickly locate the index of the value by repeatedly dividing the search space in half. For example, if you are looking for the value 10 in the array [1, 3, 5, 7, 10, 13, 15], binary search would first compare the middle value (7) to 10, discard the left half of the array since 10 is greater than 7, and then repeat the process on the right half of the array. In this way, binary search can quickly find the index of the value (in this case, index 4).\n",
    "\n",
    "2. Finding the square root of a number: Suppose you want to find the square root of a positive number x. You can use binary search to quickly approximate the square root by repeatedly dividing the search space in half and comparing the square of the midpoint to x. For example, if you are looking for the square root of 25, binary search would first check the midpoint (5) and compare its square (25) to the target value. If the square of the midpoint is greater than 25, binary search would discard the right half of the search space and repeat the process on the left half of the search space (in this case, [0, 5]). In this way, binary search can approximate the square root of a number with a high degree of accuracy.\n"
   ]
  },
  {
   "attachments": {},
   "cell_type": "markdown",
   "metadata": {},
   "source": [
    "### Activity Idea with students:\n",
    "\n",
    "1. Write down a list of numbers (e.g., 1, 3, 5, 7, 9, 11, 13, 15) on a piece of paper or whiteboard.\n",
    "\n",
    "2. Ask a student to choose a number from the list (without telling you which one they chose).\n",
    "\n",
    "3. Explain to the student that you will try to guess their number using binary search. Begin by guessing the middle number in the list (in this case, 7).\n",
    "\n",
    "4. Ask the student whether their number is greater than, less than, or equal to your guess of 7.\n",
    "\n",
    "5. Based on their response, eliminate either the left or right half of the list and repeat the process, guessing the middle number of the remaining half.\n",
    "\n",
    "6. Continue this process of dividing the remaining numbers in half and guessing the middle number until you guess the student's number correctly.\n",
    "\n",
    "- For example, if the student chose the number 9, the process might look like this:\n",
    "\n",
    "    - Guess 7\n",
    "    - Student says their number is greater than 7\n",
    "    - Eliminate the left half of the list (1, 3, 5, 7)\n",
    "    - Guess 11 (the middle number of the remaining half)\n",
    "    - Student says their number is less than 11\n",
    "    - Eliminate the right half of the remaining numbers (13, 15)\n",
    "    - Guess 9 (the middle number of the remaining half)\n",
    "    - Student says you guessed their number correctly!\n",
    "    \n",
    "This activity can help students understand how binary search works by showing them how to divide a search space in half and make a series of educated guesses to quickly locate a target value."
   ]
  },
  {
   "attachments": {},
   "cell_type": "markdown",
   "metadata": {},
   "source": [
    "### Python Activity with binary search"
   ]
  },
  {
   "cell_type": "code",
   "execution_count": 1,
   "metadata": {},
   "outputs": [
    {
     "name": "stdout",
     "output_type": "stream",
     "text": [
      "Target 11 found at index 5\n"
     ]
    }
   ],
   "source": [
    "# Binary search function\n",
    "def binary_search(arr, target):\n",
    "    low = 0\n",
    "    high = len(arr) - 1\n",
    "    while low <= high:\n",
    "        mid = (low + high) // 2\n",
    "        if arr[mid] == target:\n",
    "            return mid\n",
    "        elif arr[mid] < target:\n",
    "            low = mid + 1\n",
    "        else:\n",
    "            high = mid - 1\n",
    "    return -1\n",
    "\n",
    "# Example usage\n",
    "arr = [1, 3, 5, 7, 9, 11, 13, 15]\n",
    "target = 11\n",
    "result = binary_search(arr, target)\n",
    "if result != -1:\n",
    "    print(f\"Target {target} found at index {result}\")\n",
    "else:\n",
    "    print(f\"Target {target} not found\")\n"
   ]
  },
  {
   "attachments": {},
   "cell_type": "markdown",
   "metadata": {},
   "source": [
    "#### What does the code above mean?\n",
    "This code defines a function binary_search that takes an array arr and a target value target as inputs and returns the index of the target value in the array if it exists, or -1 if it doesn't.\n",
    "\n",
    "The function uses a while loop to repeatedly divide the search space in half until the target value is found or the search space is empty. Inside the loop, the function calculates the midpoint of the search space and compares the value at that index to the target value. If the value at the midpoint is equal to the target value, the function returns the midpoint index. If the value at the midpoint is less than the target value, the function eliminates the left half of the search space and continues the search on the right half. If the value at the midpoint is greater than the target value, the function eliminates the right half of the search space and continues the search on the left half.\n",
    "\n",
    "To use the function, you can define an example array and target value, call the binary_search function with those inputs, and print the result. This activity can help students understand how binary search works by showing them how to implement the algorithm in code and test it with different inputs."
   ]
  }
 ],
 "metadata": {
  "kernelspec": {
   "display_name": "base",
   "language": "python",
   "name": "python3"
  },
  "language_info": {
   "codemirror_mode": {
    "name": "ipython",
    "version": 3
   },
   "file_extension": ".py",
   "mimetype": "text/x-python",
   "name": "python",
   "nbconvert_exporter": "python",
   "pygments_lexer": "ipython3",
   "version": "3.9.12"
  },
  "orig_nbformat": 4
 },
 "nbformat": 4,
 "nbformat_minor": 2
}
