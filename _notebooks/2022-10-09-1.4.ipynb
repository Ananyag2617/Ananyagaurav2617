{
 "cells": [
  {
   "cell_type": "markdown",
   "metadata": {},
   "source": [
    "# 1.4 Identifying and Correcting Errors.\n",
    "\n",
    "-  errors are an inevitable part of programming but understanding the different types of errors is essential to being a proficient programmer.\n",
    "- errors are an inevitable part of programming but understanding how to correct errors is essential to being a proficient programmer.\n",
    "-  programmers need to come up with testing schemes to ensure programs are working as intended."
   ]
  },
  {
   "cell_type": "markdown",
   "metadata": {},
   "source": [
    "### Logic Errors:\n",
    " A mistake in a program that causes unexpected behavior. For example, a program outputs a result different from the expected value, like saying that three times three equals thirty-three.\n",
    "\n",
    "### Syntax Errors: \n",
    "A syntax error occurs when the rules of the programming language aren't followed. Any typos in your code, such as forgetting to close a parentheses or spelling a variable wrong, will cause an error. Fortunately, many code editors will point out syntax errors, making them one of the easier errors to solve.\n",
    "### Run-Time Errors:\n",
    " An error that occurs when the program is running. You'll be able to start your program if you have a run-time error, but something will go wrong when you're trying to use it. Logic errors are examples of run-time errors.\n",
    "### Overflow Errors:\n",
    " An error that occurs when a computer tries to handle a number that's outside of its defined range of values. Usually, this means that your computer's trying to handle a number too big for it"
   ]
  },
  {
   "cell_type": "markdown",
   "metadata": {},
   "source": [
    "# How to fix errors\n",
    "- Here are some effective ways to identify, find and correct errors.\n",
    "    - Good testing procedures include testing with valid and invalid data. You want to make sure your program works with valid data and knows what to do if invalid data is imputed.\n",
    "    - You should also test boundary cases, or values on the edge of program limits. This is where errors are likely to happen. For example, if your program only accepts values less than 9, you would check 8 and 10 as boundary cases.\n",
    "- Hand tracing, or manually tracking what values your variables have as your program goes along. Many hand tracing methods use charts to organize these values.\n",
    "- Using debuggers, or programs designed specially to test for bugs\n",
    "- Adding extra print statements to your code to make sure that the \"invisible\" steps (the ones that aren't shown as output) are working properly."
   ]
  }
 ],
 "metadata": {
  "kernelspec": {
   "display_name": "Python 3.8.10 64-bit",
   "language": "python",
   "name": "python3"
  },
  "language_info": {
   "name": "python",
   "version": "3.8.10"
  },
  "orig_nbformat": 4,
  "vscode": {
   "interpreter": {
    "hash": "916dbcbb3f70747c44a77c7bcd40155683ae19c65e1c03b4aa3499c5328201f1"
   }
  }
 },
 "nbformat": 4,
 "nbformat_minor": 2
}
