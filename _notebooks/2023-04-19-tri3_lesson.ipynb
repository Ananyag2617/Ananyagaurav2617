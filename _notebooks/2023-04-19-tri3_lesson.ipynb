{
 "cells": [
  {
   "attachments": {},
   "cell_type": "markdown",
   "metadata": {},
   "source": [
    "# Tri-3-Lesson\n",
    "> Reviewing Data Analysis.\n",
    "- toc: true\n",
    "- categories: [Notebooks]\n",
    "- week: 31"
   ]
  },
  {
   "attachments": {},
   "cell_type": "markdown",
   "metadata": {},
   "source": [
    "## What you should Have to Start\n",
    "\n",
    "- Should have wget this file (tri3-lesson.ipynb)\n",
    "- wget this file: https://raw.githubusercontent.com/JoshuaW03628/Repository-1/master/nba_player_statistics.csv\n",
    "- Copy Path from nba_player_statistics.csv and replace prior path for it."
   ]
  },
  {
   "cell_type": "code",
   "execution_count": 28,
   "metadata": {},
   "outputs": [
    {
     "name": "stdout",
     "output_type": "stream",
     "text": [
      "0b1010\n"
     ]
    }
   ],
   "source": [
    "decimal_num = 10\n",
    "binary_num = bin(decimal_num)\n",
    "print(binary_num)\n"
   ]
  },
  {
   "attachments": {},
   "cell_type": "markdown",
   "metadata": {},
   "source": [
    "# Lesson Portion 1: ReIntroduction to Data Analysis, NunPy, and Pandas, Why is it important?"
   ]
  },
  {
   "attachments": {},
   "cell_type": "markdown",
   "metadata": {},
   "source": [
    "### Data Analysis."
   ]
  },
  {
   "attachments": {},
   "cell_type": "markdown",
   "metadata": {},
   "source": [
    "- Data Analysis is the process of examining data sets in order to find trends and draw conclusions about the given information. Data analysis is important because it helps businesses optimize their performances."
   ]
  },
  {
   "attachments": {},
   "cell_type": "markdown",
   "metadata": {},
   "source": [
    "### What is NunPy and Pandas"
   ]
  },
  {
   "attachments": {},
   "cell_type": "markdown",
   "metadata": {},
   "source": [
    "- Pandas library involves a lot of data analysis in Python. NumPy Library is mostly used for working with numerical values and it makes it easy to apply with mathematical functions. \n",
    "- Imagine you have a lot of toys, but they are all mixed up in a big box. NumPy helps you to put all the same types of toys together, like all the cars in one pile and all the dolls in another.\n",
    "Pandas is like a helper that helps you to remember where each toy is located. So, if you want to find a specific toy, like a red car, you can ask Pandas to find it for you.\n",
    "- Just like how it's easier to find a toy when they are sorted and organized, it's easier for grown-ups to understand and analyze big sets of numbers when they use NumPy and Pandas.\n"
   ]
  },
  {
   "attachments": {},
   "cell_type": "markdown",
   "metadata": {},
   "source": [
    "# Lesson Portion 2 More into NunPy\n",
    "\n",
    "### What we are covering;\n",
    "\n",
    "- Explanation of NumPy and its uses in data analysis\n",
    "- Importing NumPy library\n",
    "- Examining NumPy arrays\n",
    "- Creating NumPy arrays and performing intermediate array operations\n",
    "- Popcorn Hacks, Make your own percentile NunPy array"
   ]
  },
  {
   "attachments": {},
   "cell_type": "markdown",
   "metadata": {},
   "source": [
    "#### What is NunPy's use in data analysis/ how to import NunPy."
   ]
  },
  {
   "attachments": {},
   "cell_type": "markdown",
   "metadata": {},
   "source": [
    "NumPy is a tool in Python that helps with doing math and data analysis. It's great for working with large amounts of data, like numbers in a spreadsheet. NumPy is really good at doing calculations quickly and accurately, like finding averages, doing algebra, and making graphs. It's used a lot by scientists and people who work with data because it makes their work easier and faster."
   ]
  },
  {
   "cell_type": "code",
   "execution_count": 1,
   "metadata": {},
   "outputs": [],
   "source": [
    "import numpy as np"
   ]
  },
  {
   "attachments": {},
   "cell_type": "markdown",
   "metadata": {},
   "source": [
    "### List of NunPy Functions, what they do, and examples.\n",
    "\n",
    "- Link; https://www.educba.com/numpy-functions/\n",
    "\n"
   ]
  },
  {
   "attachments": {},
   "cell_type": "markdown",
   "metadata": {},
   "source": [
    "### Example of Using NunPy in Our Project"
   ]
  },
  {
   "attachments": {},
   "cell_type": "markdown",
   "metadata": {},
   "source": [
    "This code calculates the total plate appearances for a baseball player using NumPy's sum() function, similar to the original example. It then uses NumPy to calculate the total number of bases (hits plus walks) for the player, and divides that by the total number of plate appearances to get the on-base percentage. The results are then printed to the console."
   ]
  },
  {
   "cell_type": "code",
   "execution_count": 2,
   "metadata": {},
   "outputs": [
    {
     "name": "stdout",
     "output_type": "stream",
     "text": [
      "Total plate appearances: 21\n",
      "On-base percentage: 0.857\n"
     ]
    }
   ],
   "source": [
    "import numpy as np\n",
    "\n",
    "# Example data\n",
    "player_hits = np.array([3, 1, 2, 0, 1, 2, 1, 2])  # Player's hits in each game\n",
    "player_walks = np.array([1, 0, 0, 1, 2, 1, 1, 0])  # Player's walks in each game\n",
    "player_strikeouts = np.array([2, 1, 0, 2, 1, 1, 0, 1])  # Player's strikeouts in each game\n",
    "\n",
    "# array to store plate appearances (PA) for the player\n",
    "total_pa = np.sum(player_hits != 0) + np.sum(player_walks) + np.sum(player_strikeouts)\n",
    "\n",
    "# array to store on-base percentage (OBP) for the player\n",
    "total_bases = np.sum(player_hits) + np.sum(player_walks)\n",
    "obp = total_bases / total_pa\n",
    "\n",
    "# Print the total plate appearances and on-base percentage for the player\n",
    "print(f\"Total plate appearances: {total_pa}\")\n",
    "print(f\"On-base percentage: {obp:.3f}\")\n"
   ]
  },
  {
   "attachments": {},
   "cell_type": "markdown",
   "metadata": {},
   "source": [
    "## Activity 1; PopCorn Hacks; Creating a NunPy Array and Analyzing the Data using Array Operations"
   ]
  },
  {
   "cell_type": "code",
   "execution_count": 3,
   "metadata": {},
   "outputs": [
    {
     "name": "stdout",
     "output_type": "stream",
     "text": [
      "The 25th percentile height is 192.5 cm.\n",
      "The 50th percentile height is 198.0 cm.\n",
      "The 75th percentile height is 202.0 cm.\n",
      "There are 2 players in the top 10% tallest.\n"
     ]
    }
   ],
   "source": [
    "import numpy as np\n",
    "\n",
    "#Create a NumPy array of the heights of players in a basketball team\n",
    "heights = np.array([192, 195, 193, 200, 211, 199, 201, 198, 184, 190, 196, 203, 208, 182, 207])\n",
    "\n",
    "# Calculate the percentile rank of each player's height\n",
    "percentiles = np.percentile(heights, [25, 50, 75])\n",
    "\n",
    "# Print the results\n",
    "print(\"The 25th percentile height is\", percentiles[0], \"cm.\")\n",
    "print(\"The 50th percentile height is\", percentiles[1], \"cm.\")\n",
    "print(\"The 75th percentile height is\", percentiles[2], \"cm.\")\n",
    "\n",
    "# Determine the number of players who are in the top 10% tallest\n",
    "top_10_percent = np.percentile(heights, 90)\n",
    "tallest_players = heights[heights >= top_10_percent]\n",
    "\n",
    "print(\"There are\", len(tallest_players), \"players in the top 10% tallest.\")\n"
   ]
  },
  {
   "cell_type": "code",
   "execution_count": 9,
   "metadata": {},
   "outputs": [
    {
     "name": "stdout",
     "output_type": "stream",
     "text": [
      "1st percentile: 32.5\n",
      "2nd percentile: 33.4\n",
      "3rd percentile: 34.300000000000004\n",
      "There are 1 players in the top 10% of x.\n"
     ]
    }
   ],
   "source": [
    "# Starter Code\n",
    "\n",
    "import numpy as np\n",
    "\n",
    "# Create a NumPy array of the x values\n",
    "x = np.array([10, 20, 30, 40, 50, 60, 70, 80, 90, 100])\n",
    "\n",
    "# Calculate the percentile rank of x\n",
    "percentiles = np.percentile(x, [25, 26, 27])\n",
    "\n",
    "# Print the results\n",
    "print(\"1st percentile:\", percentiles[0])\n",
    "print(\"2nd percentile:\", percentiles[1])\n",
    "print(\"3rd percentile:\", percentiles[2])\n",
    "\n",
    "# Determine the number of players who are in the top 10% of x\n",
    "t = np.percentile(x, 90)\n",
    "z = x[x >= t]\n",
    "\n",
    "print(\"There are\", len(z), \"players in the top 10% of x.\")"
   ]
  },
  {
   "attachments": {},
   "cell_type": "markdown",
   "metadata": {},
   "source": [
    "# Lesson Portion 3 More into Pandas\n",
    "\n",
    "### What we are Covering\n",
    "- Explanation of Pandas and its uses in data analysis\n",
    "- Importing Pandas library\n",
    "- Loading data into Pandas DataFrames from CSV files\n",
    "- Manipulating and exploring data in Pandas DataFrames\n",
    "- Example of using Pandas for data analysis tasks such as filtering and sorting\n"
   ]
  },
  {
   "attachments": {},
   "cell_type": "markdown",
   "metadata": {},
   "source": [
    "## What are pandas and what is its purpose?\n",
    "\n",
    "- Pandas is a software library that is used in Python\n",
    "- Pandas are used for data analysis and data manipulation\n",
    "- Pandas offer data structures and operations for manipulating numerical tables and time series.\n",
    "- Pandas is free\n"
   ]
  },
  {
   "attachments": {},
   "cell_type": "markdown",
   "metadata": {},
   "source": [
    "## Things you can do using pandas\n",
    "\n",
    "- Data Cleansing; Identifying and correcting errors, inconsistencies, and inaccuracies in datasets.\n",
    "- Data fill; Filling in missing values in datasets.\n",
    "- Statistical Analysis; Analyzing datasets using statistical techniques to draw conclusions and make predictions.\n",
    "- Data Visualization; Representing datasets visually using graphs, charts, and other visual aids.\n",
    "- Data inspection; Examining datasets to identify potential issues or patterns, such as missing data, outliers, or trends.\n"
   ]
  },
  {
   "attachments": {},
   "cell_type": "markdown",
   "metadata": {},
   "source": [
    "## Pandas and Data analysis\n",
    "The 2 most important data structures in Pandas are:\n",
    "- Series ; A Series is a one-dimensional labeled array that can hold data of any type (integer, float, string, etc.). It is similar to a column in a spreadsheet or a SQL table. Each element in a Series has a label, known as an index. A Series can be created from a list, a NumPy array, a dictionary, or another Pandas Series.\n",
    "- DataFrame ;A DataFrame is a two-dimensional labeled data structure that can hold data of different types (integer, float, string, etc.). It is similar to a spreadsheet or a SQL table. Each column in a DataFrame is a Series, and each row is indexed by a label, known as an index. A DataFrame can be created from a dictionary of Series or NumPy arrays, a list of dictionaries, or other Pandas DataFrame."
   ]
  },
  {
   "attachments": {},
   "cell_type": "markdown",
   "metadata": {},
   "source": [
    "## Dataframes"
   ]
  },
  {
   "cell_type": "code",
   "execution_count": 1,
   "metadata": {},
   "outputs": [],
   "source": [
    "# Importing Pandas \n",
    "import pandas as pd\n"
   ]
  },
  {
   "cell_type": "code",
   "execution_count": 2,
   "metadata": {},
   "outputs": [
    {
     "data": {
      "text/plain": [
       "'1.4.2'"
      ]
     },
     "execution_count": 2,
     "metadata": {},
     "output_type": "execute_result"
    }
   ],
   "source": [
    "# Check if pandas is working\n",
    "pd.__version__"
   ]
  },
  {
   "attachments": {},
   "cell_type": "markdown",
   "metadata": {},
   "source": [
    "### Importing CSV Data"
   ]
  },
  {
   "attachments": {},
   "cell_type": "markdown",
   "metadata": {},
   "source": [
    "- imports the Pandas library and assigns it an alias 'pd'.\n",
    "- Loads a CSV file named 'nba_player_statistics.csv' into a Pandas DataFrame called 'df'.\n",
    "- Specifies a player's name 'Jimmy Butler' to filter the DataFrame for that player's stats. It creates a new DataFrame called 'player_stats' which only contains rows where the 'NAME' column matches 'Jimmy Butler'.\n",
    "- Displays the player's stats for points per game (PPG), rebounds per game (RPG), and assists per game (APG) using the print() function and string formatting.\n",
    "- The code uses the double square brackets [[PPG', 'RPG', 'APG']] to select only the columns corresponding to the player's points per game, rebounds per game, and assists per game from the player_stats DataFrame.\n",
    "- In summary, the code loads NBA player statistics data from a CSV file, filters it for a specific player, and displays the stats for that player's PPG, RPG, and APG using a Pandas DataFrame."
   ]
  },
  {
   "cell_type": "code",
   "execution_count": 4,
   "metadata": {},
   "outputs": [
    {
     "name": "stdout",
     "output_type": "stream",
     "text": [
      "\n",
      "Stats for Jimmy Butler:\n",
      "    PPG  RPG   APG\n",
      "0  35.0  5.0  11.0\n"
     ]
    }
   ],
   "source": [
    "import pandas as pd\n",
    "# Load the CSV file into a Pandas DataFrame\n",
    "df = pd.read_csv('~/vscode/ananyagaurav2617/_notebooks/nba_player_statistics.csv')\n",
    "# Filter the DataFrame to only include stats for a specific player (in this case, Jimmy Butler)\n",
    "player_name = 'Jimmy Butler'\n",
    "player_stats = df[df['NAME'] == player_name]\n",
    "# Display the stats for the player\n",
    "print(f\"\\nStats for {player_name}:\")\n",
    "print(player_stats[['PPG', 'RPG', 'APG']])"
   ]
  },
  {
   "attachments": {},
   "cell_type": "markdown",
   "metadata": {},
   "source": [
    "#### In this code segment below we use Pandas to read a CSV file containing NBA player statistics and store it in a DataFrame.\n",
    "#### The reason Pandas is useful in this scenario is because it provides various functionalities to filter, sort, and manipulate the NBA data efficiently. In this code, the DataFrame is filtered to only include the stats for the player you guys choose. "
   ]
  },
  {
   "attachments": {},
   "cell_type": "markdown",
   "metadata": {},
   "source": [
    "- Imports the Pandas library and assigns it an alias 'pd'.\n",
    "- Loads a CSV file named 'nba_player_statistics.csv' into a Pandas DataFrame called 'df'.\n",
    "- Asks the user to input a player name using the input() function and assigns it to the variable player_name.\n",
    "- Filters the DataFrame for the specified player name using the df[df['NAME'] == player_name] syntax, and assigns the resulting DataFrame to the variable player_stats.\n",
    "- Checks if the player_stats DataFrame is empty using the empty attribute. If it is empty, prints \"No stats found for that player.\" Otherwise, it proceeds to step 6.\n",
    "- Displays the player's stats for points per game (PPG), rebounds per game (RPG), assists per game (APG), and total points + rebounds + assists (P+R+A) using the print() function and string formatting.\n",
    "- In summary, this code loads NBA player statistics data from a CSV file, asks the user to input a player name, filters the DataFrame for that player's stats, and displays the player's stats for PPG, RPG, APG, and P+R+A. If the player is not found in the DataFrame, it prints a message indicating that no stats were found."
   ]
  },
  {
   "cell_type": "code",
   "execution_count": 5,
   "metadata": {},
   "outputs": [
    {
     "name": "stdout",
     "output_type": "stream",
     "text": [
      "\n",
      "Stats for Kevin Durant:\n",
      "     PPG  RPG  APG  P+R+A\n",
      "11  26.0  7.5  8.0   41.5\n"
     ]
    }
   ],
   "source": [
    "import pandas as pd\n",
    "df = pd.read_csv('~/vscode/ananyagaurav2617/_notebooks/nba_player_statistics.csv')\n",
    "# Load CSV file into a Pandas DataFrame\n",
    "player_name = input(\"Enter player name: \")\n",
    "# Get player name input from user\n",
    "player_stats = df[df['NAME'] == player_name]\n",
    "# Filter the DataFrame to only include stats for the specified player\n",
    "if player_stats.empty:\n",
    "    print(\"No stats found for that player.\")\n",
    "else:\n",
    "# Check if the player exists in the DataFrame\n",
    "    print(f\"\\nStats for {player_name}:\")\n",
    "print(player_stats[['PPG', 'RPG', 'APG', 'P+R+A']])\n",
    "# Display the stats for the player inputted."
   ]
  },
  {
   "attachments": {},
   "cell_type": "markdown",
   "metadata": {},
   "source": [
    "# Lesson Portion 4\n",
    "### What we will be covering\n",
    "- Example of analyzing data using both NumPy and Pandas libraries\n",
    "- Importing data into NumPy and Pandas Performing basic data analysis tasks such as mean, median, and standard deviation Visualization of data using Matplotlib library\n"
   ]
  },
  {
   "attachments": {},
   "cell_type": "markdown",
   "metadata": {},
   "source": [
    "### Example of analyzing data using both NumPy and Pandas libraries"
   ]
  },
  {
   "cell_type": "code",
   "execution_count": 6,
   "metadata": {},
   "outputs": [
    {
     "name": "stdout",
     "output_type": "stream",
     "text": [
      "\n",
      "Average stats for Kevin Durant:\n",
      "PPG: 26.00\n",
      "RPG: 7.50\n",
      "APG: 8.00\n",
      "P+R+A: 41.50\n"
     ]
    }
   ],
   "source": [
    "import numpy as np\n",
    "import pandas as pd\n",
    "\n",
    "# Load CSV file into a Pandas DataFrame\n",
    "\n",
    "df = pd.read_csv('~/vscode/ananyagaurav2617/_notebooks/nba_player_statistics.csv')\n",
    "\n",
    "# Filter the DataFrame to only include stats for the specified player\n",
    "\n",
    "player_name = input(\"Enter player name: \")\n",
    "player_stats = df[df['NAME'] == player_name]\n",
    "if player_stats.empty:\n",
    "    print(\"No stats found for that player.\")\n",
    "else:\n",
    "\n",
    "    # Convert the player stats to a NumPy array\n",
    "    player_stats_np = np.array(player_stats[['PPG', 'RPG', 'APG', 'P+R+A']])\n",
    "\n",
    "    # Calculate the average of each statistic for the player\n",
    "\n",
    "    player_stats_avg = np.mean(player_stats_np, axis=0)\n",
    "\n",
    "    # Print out the average statistics for the player\n",
    "\n",
    "    print(f\"\\nAverage stats for {player_name}:\")\n",
    "    print(f\"PPG: {player_stats_avg[0]:.2f}\")\n",
    "    print(f\"RPG: {player_stats_avg[1]:.2f}\")\n",
    "    print(f\"APG: {player_stats_avg[2]:.2f}\")\n",
    "    print(f\"P+R+A: {player_stats_avg[3]:.2f}\")"
   ]
  },
  {
   "attachments": {},
   "cell_type": "markdown",
   "metadata": {},
   "source": [
    "NumPy impacts the given code because it performs operations on arrays efficiently. Specifically, it converts a Pandas DataFrame object to a NumPy array object, and then calculates the average statistics for a the player you guys inputted. Without NumPy, it would be more difficult and less efficient to perform these calculations on large data sets. It does the math for us."
   ]
  },
  {
   "attachments": {},
   "cell_type": "markdown",
   "metadata": {},
   "source": [
    "### Importing data into NumPy and Pandas Performing basic data analysis tasks such as mean, median, and standard deviation Visualization of data using Matplotlib library\n",
    "\n",
    "Matplotlib is used essentially to create visuals of data. charts,diagrams,etc."
   ]
  },
  {
   "cell_type": "code",
   "execution_count": 7,
   "metadata": {},
   "outputs": [
    {
     "name": "stdout",
     "output_type": "stream",
     "text": [
      "   RANK             NAME TEAM POS   AGE  GP   MPG  USG%   TO%  FTA  ...   APG  \\\n",
      "0     1     Jimmy Butler  Mia   F  33.6   1  42.9  34.3   9.9    8  ...  11.0   \n",
      "1     2    Kawhi Leonard  Lac   F  31.8   2  40.2  30.0  11.9   17  ...   6.0   \n",
      "2     3  Khris Middleton  Mil   F  31.7   1  33.1  37.5  19.8   10  ...   4.0   \n",
      "3     4     Devin Booker  Pho   G  26.5   2  44.1  28.8  16.2   14  ...   6.0   \n",
      "4     5     De'Aaron Fox  Sac   G  25.3   2  38.2  31.6   9.0   14  ...   7.0   \n",
      "\n",
      "   SPG  BPG  TPG   P+R   P+A  P+R+A    VI   ORtg   DRtg  \n",
      "0  3.0  0.0  3.0  40.0  46.0   51.0  11.6  117.2  103.8  \n",
      "1  2.0  0.5  3.0  41.0  40.5   47.0  11.0  129.5  110.4  \n",
      "2  0.0  0.0  5.0  42.0  37.0   46.0  12.8  115.5  111.9  \n",
      "3  2.5  1.5  4.0  33.0  38.0   39.0   5.2  121.9  111.0  \n",
      "4  3.5  0.5  2.5  34.0  38.0   41.0   9.1  112.6  108.8  \n",
      "\n",
      "[5 rows x 29 columns]\n",
      "Mean Minutes:  20.985483870967748\n",
      "Median Minutes:  23.0\n",
      "Standard Deviation Minutes:  12.844102823170283\n"
     ]
    },
    {
     "data": {
      "image/png": "[encoded data removed]",
      "text/plain": [
       "<Figure size 432x288 with 1 Axes>"
      ]
     },
     "metadata": {
      "needs_background": "light"
     },
     "output_type": "display_data"
    }
   ],
   "source": [
    "import numpy as np\n",
    "import pandas as pd\n",
    "import matplotlib.pyplot as plt\n",
    "\n",
    "# Load the CSV file into a Pandas DataFrame\n",
    "df = pd.read_csv('~/vscode/ananyagaurav2617/_notebooks/nba_player_statistics.csv')\n",
    "\n",
    "# Print the first 5 rows of the DataFrame\n",
    "print(df.head())\n",
    "\n",
    "# Calculate the mean, median, and standard deviation of the 'Points' column\n",
    "mean_minutes = df['MPG'].mean()\n",
    "median_minutes = df['MPG'].median()\n",
    "stddev_minutes = df['MPG'].std()\n",
    "\n",
    "# Print the results\n",
    "print('Mean Minutes: ', mean_minutes)\n",
    "print('Median Minutes: ', median_minutes)\n",
    "print('Standard Deviation Minutes: ', stddev_minutes)\n",
    "\n",
    "# Create a histogram of the 'Points' column using Matplotlib\n",
    "plt.hist(df['MPG'], bins=20)\n",
    "plt.title('MPG Histogram')\n",
    "plt.xlabel('MPG')\n",
    "plt.ylabel('Frequency')\n",
    "plt.show()\n"
   ]
  },
  {
   "attachments": {},
   "cell_type": "markdown",
   "metadata": {},
   "source": [
    "In this example code, we first import the necessary libraries, including NumPy, Pandas, and Matplotlib. We then load the CSV file into a Pandas DataFrame using the pd.read_csv() function. We print the first 5 rows of the DataFrame using the df.head() function. Next, we calculate the mean, median, and standard deviation of the 'MPG' column using the appropriate Pandas methods, and print the results. And, we create a histogram of the 'MPG' column using Matplotlib by calling the plt.hist() function and setting appropriate axis labels and a title. We then call the plt.show() method to display the plot. Even though NumPy is not directly used in this code, it is an important underlying component of the pandas and Matplotlib libraries, which are used to load, manipulate and visualize data. It allows them to work more efficiently"
   ]
  },
  {
   "attachments": {},
   "cell_type": "markdown",
   "metadata": {},
   "source": [
    "# Lesson Portion 5; Summary"
   ]
  },
  {
   "attachments": {},
   "cell_type": "markdown",
   "metadata": {},
   "source": [
    "#### Summary/Goals of Lesson:\n",
    "One of our goals was to make you understand data analysis and how it can be important in optimizing business performance. We also wanted to make sure you understood the use of Pandas and NumPy libraries in data analysis, with a focus on NumPy. As someone who works with data, we find Pandas incredibly useful for manipulating, analyzing, and visualizing data in Python. The way we use pandas is to calculate individual player and team statistics. We are a group that works with numerical data, so NumPy is one of our favorite tools for working with arrays and applying mathematical functions to them. It is very fast at computing and manipulating arrays making it a very valuable tool for tracking statistics which is important to our group. For example, if you have an array of the points scored by each player in a game, you can use NumPy to calculate the total points scored, average points per player, or the highest and lowest scoring players.\n",
    "\n",
    "\n",
    "\n",
    "\n",
    "\n",
    "\n",
    "\n"
   ]
  },
  {
   "attachments": {},
   "cell_type": "markdown",
   "metadata": {},
   "source": [
    "# Lesson Portion 6 Hacks\n",
    "#### Printing a CSV File (0.5)\n",
    "- Use this link https://github.com/ali-ce/datasets to select csv file of a topic you are interested in, or you may find one online.\n",
    "- Once you select your topic make sure it is a csv file and then you want to press on the button that says raw.\n",
    "- After that copy that information and create a file with a name and .csv at the end and paste your information.\n",
    "- Below is a start that you can use for your hacks.\n",
    "- Your goal is to print 2 specific parts from data (example could be like population and country).\n",
    "\n",
    "#### Popcorn Hacks (0.2)\n",
    "- Lesson Portion 1.\n",
    "#### Answering Questions (0.2)\n",
    "- Found Below.\n",
    "\n",
    "## Submit By Thursday 8:35 A.M.\n",
    "- How to Submit: Slack a Blog Post that includes all of your hacks to \"Joshua Williams\" on Slack."
   ]
  },
  {
   "cell_type": "code",
   "execution_count": 8,
   "metadata": {},
   "outputs": [
    {
     "name": "stdout",
     "output_type": "stream",
     "text": [
      "                                                Movie  Year Adjusted costs  \\\n",
      "0                                                2012  2009     $220000000   \n",
      "1                                          Armageddon  1998     $203000000   \n",
      "2                                              Avatar  2009     $261000000   \n",
      "3                                          Battleship  2012     $215000000   \n",
      "4                                              Cars 2  2011     $210000000   \n",
      "5                                           Cleopatra  1963     $240000000   \n",
      "6                                       Evan Almighty  2007     $199000000   \n",
      "7                                       Green Lantern  2011     $210000000   \n",
      "8              Harry Potter and the Half-Blood Prince  2009     $275000000   \n",
      "9   Indiana Jones and the Kingdom of the Crystal S...  2008     $203000000   \n",
      "10                                         Iron Man 3  2013     $202000000   \n",
      "11                                        John Carter  2012     $257000000   \n",
      "12                                          King Kong  2005     $250000000   \n",
      "13                                       Man of Steel  2013     $228000000   \n",
      "14                                     Men in Black 3  2012     $221000000   \n",
      "15                                Monsters University  2013     $202000000   \n",
      "16                          Oz the Great and Powerful  2013     $218000000   \n",
      "17           Pirates of the Caribbean: At World's End  2007     $341000000   \n",
      "18         Pirates of the Caribbean: Dead Man's Chest  2006     $263000000   \n",
      "19                                  Quantum of Solace  2008     $219000000   \n",
      "20                                       Spider-Man 2  2004     $250000000   \n",
      "21                                       Spider-Man 3  2007     $293000000   \n",
      "22                                           Superman  1978   $199,500,000   \n",
      "23                                   Superman Returns  2006     $239000000   \n",
      "24                                            Tangled  2010     $281000000   \n",
      "25                 Terminator 3: Rise of the Machines  2003     $214000000   \n",
      "26                               Terminator Salvation  2009     $220000000   \n",
      "27                             The Amazing Spider-Man  2012     $205000000   \n",
      "28                           The Amazing Spider-Man 2  2014     $200000000   \n",
      "29                                       The Avengers  2012     $226000000   \n",
      "30           The Chronicles of Narnia: Prince Caspian  2008     $246000000   \n",
      "31  The Chronicles of Narnia: The Lion, the Witch ...  2005     $217000000   \n",
      "32                                    The Dark Knight  2008     $203000000   \n",
      "33                              The Dark Knight Rises  2012     $236000000   \n",
      "34                                 The Golden Compass  2007     $205000000   \n",
      "35                  The Hobbit: An Unexpected Journey  2012     $205000000   \n",
      "36                The Hobbit: The Desolation of Smaug  2013     $228000000   \n",
      "37                                    The Lone Ranger  2013     $228000000   \n",
      "38                                            Titanic  1997     $294000000   \n",
      "39                                        Toy Story 3  2010     $216000000   \n",
      "40                    Transformers: Age of Extinction  2014     $210000000   \n",
      "41                     Transformers: Dark of the Moon  2011     $204000000   \n",
      "42                Transformers: Revenge of the Fallen  2009     $220000000   \n",
      "43                                               Troy  2004     $219000000   \n",
      "44                                        Van Helsing  2004     $200000000   \n",
      "45                                             WALL-E  2008     $197000000   \n",
      "46                                         Waterworld  1995     $266000000   \n",
      "47                                     Wild Wild West  1999     $241000000   \n",
      "48                         X-Men: Days of Future Past  2014     $200000000   \n",
      "49                              X-Men: The Last Stand  2006     $246000000   \n",
      "\n",
      "      Nominal Costs                                              Image  \\\n",
      "0   $200,000,000.00  http://upload.wikimedia.org/wikipedia/en/d/dd/...   \n",
      "1   $140,000,000.00  http://upload.wikimedia.org/wikipedia/en/f/fc/...   \n",
      "2   $237,000,000.00  http://upload.wikimedia.org/wikipedia/en/b/b0/...   \n",
      "3   $209,000,000.00  http://upload.wikimedia.org/wikipedia/en/6/6e/...   \n",
      "4   $200,000,000.00  http://upload.wikimedia.org/wikipedia/en/7/7f/...   \n",
      "5    $31,120,000.00  http://upload.wikimedia.org/wikipedia/commons/...   \n",
      "6   $175,000,000.00  http://upload.wikimedia.org/wikipedia/en/1/14/...   \n",
      "7   $200,000,000.00  http://upload.wikimedia.org/wikipedia/en/6/6b/...   \n",
      "8   $250,000,000.00  http://upload.wikimedia.org/wikipedia/en/3/3f/...   \n",
      "9   $185,000,000.00  http://upload.wikimedia.org/wikipedia/en/d/d5/...   \n",
      "10  $200,000,000.00  http://upload.wikimedia.org/wikipedia/en/d/d5/...   \n",
      "11  $250,000,000.00  http://upload.wikimedia.org/wikipedia/en/a/aa/...   \n",
      "12  $207,000,000.00  http://upload.wikimedia.org/wikipedia/en/6/6a/...   \n",
      "13  $225,000,000.00  http://upload.wikimedia.org/wikipedia/en/8/85/...   \n",
      "14  $215,000,000.00  http://upload.wikimedia.org/wikipedia/en/8/8a/...   \n",
      "15  $200,000,000.00  http://upload.wikimedia.org/wikipedia/en/2/2a/...   \n",
      "16  $215,000,000.00  http://upload.wikimedia.org/wikipedia/en/5/52/...   \n",
      "17  $300,000,000.00  http://upload.wikimedia.org/wikipedia/en/e/e8/...   \n",
      "18  $225,000,000.00  http://upload.wikimedia.org/wikipedia/en/2/2d/...   \n",
      "19  $200,000,000.00  http://upload.wikimedia.org/wikipedia/en/2/2d/...   \n",
      "20  $200,000,000.00  http://upload.wikimedia.org/wikipedia/en/0/02/...   \n",
      "21  $258,000,000.00  http://upload.wikimedia.org/wikipedia/en/7/7a/...   \n",
      "22   $55,000,000.00  http://upload.wikimedia.org/wikipedia/en/6/6d/...   \n",
      "23  $204,000,000.00  http://upload.wikimedia.org/wikipedia/en/1/10/...   \n",
      "24  $260,000,000.00  http://upload.wikimedia.org/wikipedia/en/a/a8/...   \n",
      "25  $167,000,000.00  http://upload.wikimedia.org/wikipedia/en/3/39/...   \n",
      "26  $200,000,000.00  http://upload.wikimedia.org/wikipedia/en/9/95/...   \n",
      "27  $200,000,000.00  http://upload.wikimedia.org/wikipedia/en/0/02/...   \n",
      "28  $200,000,000.00  http://upload.wikimedia.org/wikipedia/en/0/02/...   \n",
      "29  $220,000,000.00  http://upload.wikimedia.org/wikipedia/en/f/f9/...   \n",
      "30  $225,000,000.00  http://upload.wikimedia.org/wikipedia/en/5/59/...   \n",
      "31  $180,000,000.00  http://upload.wikimedia.org/wikipedia/en/6/65/...   \n",
      "32  $185,000,000.00  http://upload.wikimedia.org/wikipedia/en/8/8a/...   \n",
      "33  $230,000,000.00  http://upload.wikimedia.org/wikipedia/en/8/83/...   \n",
      "34  $180,000,000.00  http://upload.wikimedia.org/wikipedia/en/b/b6/...   \n",
      "35  $200,000,000.00  http://upload.wikimedia.org/wikipedia/en/b/b3/...   \n",
      "36  $225,000,000.00  http://upload.wikimedia.org/wikipedia/en/4/4f/...   \n",
      "37  $225,000,000.00  http://upload.wikimedia.org/wikipedia/en/0/0d/...   \n",
      "38  $200,000,000.00  http://upload.wikimedia.org/wikipedia/en/2/22/...   \n",
      "39  $200,000,000.00  http://upload.wikimedia.org/wikipedia/en/6/69/...   \n",
      "40  $210,000,000.00  http://upload.wikimedia.org/wikipedia/en/9/94/...   \n",
      "41  $195,000,000.00  http://upload.wikimedia.org/wikipedia/en/b/bf/...   \n",
      "42  $200,000,000.00  http://upload.wikimedia.org/wikipedia/en/c/cb/...   \n",
      "43  $175,000,000.00  http://upload.wikimedia.org/wikipedia/en/b/b8/...   \n",
      "44  $160,000,000.00  http://upload.wikimedia.org/wikipedia/en/5/55/...   \n",
      "45  $180,000,000.00  http://upload.wikimedia.org/wikipedia/en/c/c2/...   \n",
      "46  $172,000,000.00  http://upload.wikimedia.org/wikipedia/en/5/5f/...   \n",
      "47  $170,000,000.00  http://upload.wikimedia.org/wikipedia/en/3/31/...   \n",
      "48  $200,000,000.00  http://upload.wikimedia.org/wikipedia/en/0/0c/...   \n",
      "49  $210,000,000.00  http://upload.wikimedia.org/wikipedia/en/5/56/...   \n",
      "\n",
      "                              Movie WIkipedia Profile  \\\n",
      "0            http://en.wikipedia.org/wiki/2012_(film)   \n",
      "1      http://en.wikipedia.org/wiki/Armageddon_(film)   \n",
      "2     http://en.wikipedia.org/wiki/Avatar_(2009_film)   \n",
      "3      http://en.wikipedia.org/wiki/Battleship_(film)   \n",
      "4                 http://en.wikipedia.org/wiki/Cars_2   \n",
      "5   http://en.wikipedia.org/wiki/Cleopatra_(1963_f...   \n",
      "6          http://en.wikipedia.org/wiki/Evan_Almighty   \n",
      "7   http://en.wikipedia.org/wiki/Green_Lantern_(film)   \n",
      "8   http://en.wikipedia.org/wiki/Harry_Potter_and_...   \n",
      "9   http://en.wikipedia.org/wiki/Indiana_Jones_and...   \n",
      "10            http://en.wikipedia.org/wiki/Iron_Man_3   \n",
      "11    http://en.wikipedia.org/wiki/John_Carter_(film)   \n",
      "12  http://en.wikipedia.org/wiki/King_Kong_(2005_f...   \n",
      "13   http://en.wikipedia.org/wiki/Man_of_Steel_(film)   \n",
      "14        http://en.wikipedia.org/wiki/Men_in_Black_3   \n",
      "15   http://en.wikipedia.org/wiki/Monsters_University   \n",
      "16  http://en.wikipedia.org/wiki/Oz_the_Great_and_...   \n",
      "17  http://en.wikipedia.org/wiki/Pirates_of_the_Ca...   \n",
      "18  http://en.wikipedia.org/wiki/Pirates_of_the_Ca...   \n",
      "19     http://en.wikipedia.org/wiki/Quantum_of_Solace   \n",
      "20          http://en.wikipedia.org/wiki/Spider-Man_2   \n",
      "21          http://en.wikipedia.org/wiki/Spider-Man_3   \n",
      "22  http://en.wikipedia.org/wiki/Superman_(1978_film)   \n",
      "23      http://en.wikipedia.org/wiki/Superman_Returns   \n",
      "24               http://en.wikipedia.org/wiki/Tangled   \n",
      "25  http://en.wikipedia.org/wiki/Terminator_3:_Ris...   \n",
      "26  http://en.wikipedia.org/wiki/Terminator_Salvation   \n",
      "27  http://en.wikipedia.org/wiki/The_Amazing_Spide...   \n",
      "28  http://en.wikipedia.org/wiki/The_Amazing_Spide...   \n",
      "29  http://en.wikipedia.org/wiki/The_Avengers_(201...   \n",
      "30  http://en.wikipedia.org/wiki/The_Chronicles_of...   \n",
      "31  http://en.wikipedia.org/wiki/The_Chronicles_of...   \n",
      "32  http://en.wikipedia.org/wiki/The_Dark_Knight_(...   \n",
      "33  http://en.wikipedia.org/wiki/The_Dark_Knight_R...   \n",
      "34  http://en.wikipedia.org/wiki/The_Golden_Compas...   \n",
      "35  http://en.wikipedia.org/wiki/The_Hobbit:_An_Un...   \n",
      "36  http://en.wikipedia.org/wiki/The_Hobbit:_The_D...   \n",
      "37  http://en.wikipedia.org/wiki/The_Lone_Ranger_(...   \n",
      "38   http://en.wikipedia.org/wiki/Titanic_(1997_film)   \n",
      "39           http://en.wikipedia.org/wiki/Toy_Story_3   \n",
      "40  http://en.wikipedia.org/wiki/Transformers:_Age...   \n",
      "41  http://en.wikipedia.org/wiki/Transformers:_Dar...   \n",
      "42  http://en.wikipedia.org/wiki/Transformers:_Rev...   \n",
      "43           http://en.wikipedia.org/wiki/Troy_(film)   \n",
      "44    http://en.wikipedia.org/wiki/Van_Helsing_(film)   \n",
      "45                http://en.wikipedia.org/wiki/WALL-E   \n",
      "46            http://en.wikipedia.org/wiki/Waterworld   \n",
      "47        http://en.wikipedia.org/wiki/Wild_Wild_West   \n",
      "48  http://en.wikipedia.org/wiki/X-Men:_Days_of_Fu...   \n",
      "49  http://en.wikipedia.org/wiki/X-Men:_The_Last_S...   \n",
      "\n",
      "                                          Description  \n",
      "0   2012 is a 2009 American epicscience fictiondis...  \n",
      "1   Armageddon is a 1998 American science fictiond...  \n",
      "2   Avatar (marketed as James Cameron's Avatar) is...  \n",
      "3   Battleship is a 2012 American military science...  \n",
      "4   Cars 2 is a 2011 American computer-animatedact...  \n",
      "5   Cleopatra is a 1963 epicdrama film directed by...  \n",
      "6   Evan Almighty is a 2007 American comedy film a...  \n",
      "7   Green Lantern is a 2011 American superhero fil...  \n",
      "8   Harry Potter and the Half-Blood Prince is a 20...  \n",
      "9   Indiana Jones and the Kingdom of the Crystal S...  \n",
      "10  Iron Man 3 (stylized onscreen as Iron Man Thre...  \n",
      "11  John Carter is a 2012 American science fiction...  \n",
      "12  King Kong is a 2005 epicadventure film and rem...  \n",
      "13  Man of Steel is a 2013 superhero film based on...  \n",
      "14  Men in Black 3 (stylized as MIB³ and alternati...  \n",
      "15  Monsters University is a 2013 American 3Dcompu...  \n",
      "16  Oz the Great and Powerful is a 2013 American f...  \n",
      "17  Pirates of the Caribbean: At World's End is a ...  \n",
      "18  Pirates of the Caribbean: Dead Man's Chest is ...  \n",
      "19  Quantum of Solace (2008) is the twenty-second ...  \n",
      "20  Spider-Man 2 is a 2004 American superhero film...  \n",
      "21  Spider-Man 3 is a 2007 American superhero film...  \n",
      "22  Superman (also known as Superman: The Movie) i...  \n",
      "23  Superman Returns is a 2006 superhero film dire...  \n",
      "24  Tangled is a 2010 American computer animatedmu...  \n",
      "25  Terminator 3: Rise of the Machines (commonly a...  \n",
      "26  Terminator Salvation is a 2009 American/Britis...  \n",
      "27  The Amazing Spider-Man is a 2012 American supe...  \n",
      "28  The Amazing Spider-Man 2 (released with the su...  \n",
      "29  Marvel's The Avengers (classified under the na...  \n",
      "30  The Chronicles of Narnia: Prince Caspian is a ...  \n",
      "31  The Chronicles of Narnia: The Lion, the Witch ...  \n",
      "32  The Dark Knight is a 2008 superhero film direc...  \n",
      "33  The Dark Knight Rises is a 2012 superhero film...  \n",
      "34  The Golden Compass is a 2007 fantasy-adventure...  \n",
      "35  The Hobbit: An Unexpected Journey is a 2012 ep...  \n",
      "36  The Hobbit: The Desolation of Smaug is a 2013 ...  \n",
      "37  The Lone Ranger is a 2013 American action west...  \n",
      "38  Titanic is a 1997 American epicromanticdisaste...  \n",
      "39  Toy Story 3 is a 2010 American 3Dcomputer-anim...  \n",
      "40  Transformers: Age of Extinction is a 2014 scie...  \n",
      "41  Transformers: Dark of the Moon is a 2011 Ameri...  \n",
      "42  Transformers: Revenge of the Fallen is a 2009 ...  \n",
      "43  Troy is a 2004 American epicwar film written b...  \n",
      "44  Van Helsing is a 2004 American horroraction fi...  \n",
      "45  WALL-E (stylized with an interpunct as WALL·E)...  \n",
      "46  Waterworld is a 1995 American post-apocalyptic...  \n",
      "47  Wild Wild West is a 1999 American steampunkwes...  \n",
      "48  X-Men: Days of Future Past is a 2014 superhero...  \n",
      "49  X-Men: The Last Stand (also known as X-Men 3 o...  \n"
     ]
    }
   ],
   "source": [
    "import pandas as pd\n",
    "# read the CSV file\n",
    "df = pd.read_csv(\"~/vscode/ananyagaurav2617/_notebooks/Movies.csv\")\n",
    "# display the data in a table\n",
    "print(df)"
   ]
  },
  {
   "cell_type": "code",
   "execution_count": 12,
   "metadata": {},
   "outputs": [
    {
     "name": "stdout",
     "output_type": "stream",
     "text": [
      "        Movie  Year Adjusted costs    Nominal Costs  \\\n",
      "0        2012  2009     $220000000  $200,000,000.00   \n",
      "1  Armageddon  1998     $203000000  $140,000,000.00   \n",
      "2      Avatar  2009     $261000000  $237,000,000.00   \n",
      "3  Battleship  2012     $215000000  $209,000,000.00   \n",
      "4      Cars 2  2011     $210000000  $200,000,000.00   \n",
      "\n",
      "                                               Image  \\\n",
      "0  http://upload.wikimedia.org/wikipedia/en/d/dd/...   \n",
      "1  http://upload.wikimedia.org/wikipedia/en/f/fc/...   \n",
      "2  http://upload.wikimedia.org/wikipedia/en/b/b0/...   \n",
      "3  http://upload.wikimedia.org/wikipedia/en/6/6e/...   \n",
      "4  http://upload.wikimedia.org/wikipedia/en/7/7f/...   \n",
      "\n",
      "                           Movie WIkipedia Profile  \\\n",
      "0         http://en.wikipedia.org/wiki/2012_(film)   \n",
      "1   http://en.wikipedia.org/wiki/Armageddon_(film)   \n",
      "2  http://en.wikipedia.org/wiki/Avatar_(2009_film)   \n",
      "3   http://en.wikipedia.org/wiki/Battleship_(film)   \n",
      "4              http://en.wikipedia.org/wiki/Cars_2   \n",
      "\n",
      "                                         Description  \n",
      "0  2012 is a 2009 American epicscience fictiondis...  \n",
      "1  Armageddon is a 1998 American science fictiond...  \n",
      "2  Avatar (marketed as James Cameron's Avatar) is...  \n",
      "3  Battleship is a 2012 American military science...  \n",
      "4  Cars 2 is a 2011 American computer-animatedact...  \n",
      "                         Movie  Year Adjusted costs    Nominal Costs  \\\n",
      "45                      WALL-E  2008     $197000000  $180,000,000.00   \n",
      "46                  Waterworld  1995     $266000000  $172,000,000.00   \n",
      "47              Wild Wild West  1999     $241000000  $170,000,000.00   \n",
      "48  X-Men: Days of Future Past  2014     $200000000  $200,000,000.00   \n",
      "49       X-Men: The Last Stand  2006     $246000000  $210,000,000.00   \n",
      "\n",
      "                                                Image  \\\n",
      "45  http://upload.wikimedia.org/wikipedia/en/c/c2/...   \n",
      "46  http://upload.wikimedia.org/wikipedia/en/5/5f/...   \n",
      "47  http://upload.wikimedia.org/wikipedia/en/3/31/...   \n",
      "48  http://upload.wikimedia.org/wikipedia/en/0/0c/...   \n",
      "49  http://upload.wikimedia.org/wikipedia/en/5/56/...   \n",
      "\n",
      "                              Movie WIkipedia Profile  \\\n",
      "45                http://en.wikipedia.org/wiki/WALL-E   \n",
      "46            http://en.wikipedia.org/wiki/Waterworld   \n",
      "47        http://en.wikipedia.org/wiki/Wild_Wild_West   \n",
      "48  http://en.wikipedia.org/wiki/X-Men:_Days_of_Fu...   \n",
      "49  http://en.wikipedia.org/wiki/X-Men:_The_Last_S...   \n",
      "\n",
      "                                          Description  \n",
      "45  WALL-E (stylized with an interpunct as WALL·E)...  \n",
      "46  Waterworld is a 1995 American post-apocalyptic...  \n",
      "47  Wild Wild West is a 1999 American steampunkwes...  \n",
      "48  X-Men: Days of Future Past is a 2014 superhero...  \n",
      "49  X-Men: The Last Stand (also known as X-Men 3 o...  \n"
     ]
    }
   ],
   "source": [
    "import pandas as pd\n",
    "\n",
    "# read the CSV file\n",
    "df = pd.read_csv(\"~/vscode/ananyagaurav2617/_notebooks/Movies.csv\")\n",
    "\n",
    "print(df.head())\n",
    "\n",
    "print(df.tail())\n",
    "\n",
    "\n"
   ]
  },
  {
   "cell_type": "code",
   "execution_count": 25,
   "metadata": {},
   "outputs": [
    {
     "name": "stdout",
     "output_type": "stream",
     "text": [
      "        Movie  Year  Adjusted costs    Nominal Costs  \\\n",
      "0        2012  2009     220000000.0  $200,000,000.00   \n",
      "1  Armageddon  1998     203000000.0  $140,000,000.00   \n",
      "2      Avatar  2009     261000000.0  $237,000,000.00   \n",
      "3  Battleship  2012     215000000.0  $209,000,000.00   \n",
      "4      Cars 2  2011     210000000.0  $200,000,000.00   \n",
      "\n",
      "                                               Image  \\\n",
      "0  http://upload.wikimedia.org/wikipedia/en/d/dd/...   \n",
      "1  http://upload.wikimedia.org/wikipedia/en/f/fc/...   \n",
      "2  http://upload.wikimedia.org/wikipedia/en/b/b0/...   \n",
      "3  http://upload.wikimedia.org/wikipedia/en/6/6e/...   \n",
      "4  http://upload.wikimedia.org/wikipedia/en/7/7f/...   \n",
      "\n",
      "                           Movie WIkipedia Profile  \\\n",
      "0         http://en.wikipedia.org/wiki/2012_(film)   \n",
      "1   http://en.wikipedia.org/wiki/Armageddon_(film)   \n",
      "2  http://en.wikipedia.org/wiki/Avatar_(2009_film)   \n",
      "3   http://en.wikipedia.org/wiki/Battleship_(film)   \n",
      "4              http://en.wikipedia.org/wiki/Cars_2   \n",
      "\n",
      "                                         Description  \n",
      "0  2012 is a 2009 American epicscience fictiondis...  \n",
      "1  Armageddon is a 1998 American science fictiond...  \n",
      "2  Avatar (marketed as James Cameron's Avatar) is...  \n",
      "3  Battleship is a 2012 American military science...  \n",
      "4  Cars 2 is a 2011 American computer-animatedact...  \n",
      "Mean Adjusted Costs:  228910000.0\n",
      "Median Adjusted Costs:  219500000.0\n",
      "Standard Deviation Adjusted Costs:  30474092.375695933\n"
     ]
    },
    {
     "name": "stderr",
     "output_type": "stream",
     "text": [
      "/tmp/ipykernel_789/1319848500.py:9: FutureWarning: The default value of regex will change from True to False in a future version. In addition, single character regular expressions will *not* be treated as literal strings when regex=True.\n",
      "  df['Adjusted costs'] = df['Adjusted costs'].str.replace('$', '').str.replace(',', '')\n"
     ]
    },
    {
     "data": {
      "image/png": "[encoded data removed]",
      "text/plain": [
       "<Figure size 432x288 with 1 Axes>"
      ]
     },
     "metadata": {
      "needs_background": "light"
     },
     "output_type": "display_data"
    }
   ],
   "source": [
    "import numpy as np\n",
    "import pandas as pd\n",
    "import matplotlib.pyplot as plt\n",
    "\n",
    "# Load the CSV file into a Pandas DataFrame\n",
    "df = pd.read_csv('~/vscode/ananyagaurav2617/_notebooks/Movies.csv')\n",
    "\n",
    "# Remove dollar signs and commas from the 'Adjusted costs' column\n",
    "df['Adjusted costs'] = df['Adjusted costs'].str.replace('$', '').str.replace(',', '')\n",
    "\n",
    "# Convert the 'Adjusted costs' column to a numeric format\n",
    "df['Adjusted costs'] = df['Adjusted costs'].astype(float)\n",
    "\n",
    "# Print the first 5 rows of the DataFrame\n",
    "print(df.head())\n",
    "\n",
    "# Calculate the mean, median, and standard deviation of the 'Adjusted costs' column\n",
    "mean_costs = df['Adjusted costs'].mean()\n",
    "median_costs = df['Adjusted costs'].median()\n",
    "stddev_costs = df['Adjusted costs'].std()\n",
    "\n",
    "# Print the results\n",
    "print('Mean Adjusted Costs: ', mean_costs)\n",
    "print('Median Adjusted Costs: ', median_costs)\n",
    "print('Standard Deviation Adjusted Costs: ', stddev_costs)\n",
    "\n",
    "# Create a histogram of the 'Adjusted costs' column using Matplotlib\n",
    "plt.hist(df['Adjusted costs'], bins=20)\n",
    "plt.title('Adjusted Costs Histogram')\n",
    "plt.xlabel('Adjusted Costs')\n",
    "plt.ylabel('Frequency')\n",
    "plt.show()"
   ]
  },
  {
   "cell_type": "code",
   "execution_count": 18,
   "metadata": {},
   "outputs": [
    {
     "name": "stdout",
     "output_type": "stream",
     "text": [
      "0       $220000000\n",
      "1       $203000000\n",
      "2       $261000000\n",
      "3       $215000000\n",
      "4       $210000000\n",
      "5       $240000000\n",
      "6       $199000000\n",
      "7       $210000000\n",
      "8       $275000000\n",
      "9       $203000000\n",
      "10      $202000000\n",
      "11      $257000000\n",
      "12      $250000000\n",
      "13      $228000000\n",
      "14      $221000000\n",
      "15      $202000000\n",
      "16      $218000000\n",
      "17      $341000000\n",
      "18      $263000000\n",
      "19      $219000000\n",
      "20      $250000000\n",
      "21      $293000000\n",
      "22    $199,500,000\n",
      "23      $239000000\n",
      "24      $281000000\n",
      "25      $214000000\n",
      "26      $220000000\n",
      "27      $205000000\n",
      "28      $200000000\n",
      "29      $226000000\n",
      "30      $246000000\n",
      "31      $217000000\n",
      "32      $203000000\n",
      "33      $236000000\n",
      "34      $205000000\n",
      "35      $205000000\n",
      "36      $228000000\n",
      "37      $228000000\n",
      "38      $294000000\n",
      "39      $216000000\n",
      "40      $210000000\n",
      "41      $204000000\n",
      "42      $220000000\n",
      "43      $219000000\n",
      "44      $200000000\n",
      "45      $197000000\n",
      "46      $266000000\n",
      "47      $241000000\n",
      "48      $200000000\n",
      "49      $246000000\n",
      "Name: Adjusted costs, dtype: object\n"
     ]
    }
   ],
   "source": [
    "import pandas as pd\n",
    "\n",
    "# Load the CSV file into a Pandas DataFrame\n",
    "df = pd.read_csv('~/vscode/ananyagaurav2617/_notebooks/Movies.csv')\n",
    "\n",
    "# Print the 'Adjusted costs' column\n",
    "print(df['Adjusted costs'])\n"
   ]
  },
  {
   "cell_type": "code",
   "execution_count": 19,
   "metadata": {},
   "outputs": [
    {
     "name": "stdout",
     "output_type": "stream",
     "text": [
      "0     2009\n",
      "1     1998\n",
      "2     2009\n",
      "3     2012\n",
      "4     2011\n",
      "5     1963\n",
      "6     2007\n",
      "7     2011\n",
      "8     2009\n",
      "9     2008\n",
      "10    2013\n",
      "11    2012\n",
      "12    2005\n",
      "13    2013\n",
      "14    2012\n",
      "15    2013\n",
      "16    2013\n",
      "17    2007\n",
      "18    2006\n",
      "19    2008\n",
      "20    2004\n",
      "21    2007\n",
      "22    1978\n",
      "23    2006\n",
      "24    2010\n",
      "25    2003\n",
      "26    2009\n",
      "27    2012\n",
      "28    2014\n",
      "29    2012\n",
      "30    2008\n",
      "31    2005\n",
      "32    2008\n",
      "33    2012\n",
      "34    2007\n",
      "35    2012\n",
      "36    2013\n",
      "37    2013\n",
      "38    1997\n",
      "39    2010\n",
      "40    2014\n",
      "41    2011\n",
      "42    2009\n",
      "43    2004\n",
      "44    2004\n",
      "45    2008\n",
      "46    1995\n",
      "47    1999\n",
      "48    2014\n",
      "49    2006\n",
      "Name: Year, dtype: int64\n"
     ]
    }
   ],
   "source": [
    "import pandas as pd\n",
    "\n",
    "# Load the CSV file into a Pandas DataFrame\n",
    "df = pd.read_csv('~/vscode/ananyagaurav2617/_notebooks/Movies.csv')\n",
    "\n",
    "# Print the 'Adjusted costs' column\n",
    "print(df['Year'])"
   ]
  },
  {
   "cell_type": "code",
   "execution_count": 21,
   "metadata": {},
   "outputs": [
    {
     "name": "stdout",
     "output_type": "stream",
     "text": [
      "0                                                  2012\n",
      "1                                            Armageddon\n",
      "2                                                Avatar\n",
      "3                                            Battleship\n",
      "4                                                Cars 2\n",
      "5                                             Cleopatra\n",
      "6                                         Evan Almighty\n",
      "7                                         Green Lantern\n",
      "8                Harry Potter and the Half-Blood Prince\n",
      "9     Indiana Jones and the Kingdom of the Crystal S...\n",
      "10                                           Iron Man 3\n",
      "11                                          John Carter\n",
      "12                                            King Kong\n",
      "13                                         Man of Steel\n",
      "14                                       Men in Black 3\n",
      "15                                  Monsters University\n",
      "16                            Oz the Great and Powerful\n",
      "17             Pirates of the Caribbean: At World's End\n",
      "18           Pirates of the Caribbean: Dead Man's Chest\n",
      "19                                    Quantum of Solace\n",
      "20                                         Spider-Man 2\n",
      "21                                         Spider-Man 3\n",
      "22                                             Superman\n",
      "23                                     Superman Returns\n",
      "24                                              Tangled\n",
      "25                   Terminator 3: Rise of the Machines\n",
      "26                                 Terminator Salvation\n",
      "27                               The Amazing Spider-Man\n",
      "28                             The Amazing Spider-Man 2\n",
      "29                                         The Avengers\n",
      "30             The Chronicles of Narnia: Prince Caspian\n",
      "31    The Chronicles of Narnia: The Lion, the Witch ...\n",
      "32                                      The Dark Knight\n",
      "33                                The Dark Knight Rises\n",
      "34                                   The Golden Compass\n",
      "35                    The Hobbit: An Unexpected Journey\n",
      "36                  The Hobbit: The Desolation of Smaug\n",
      "37                                      The Lone Ranger\n",
      "38                                              Titanic\n",
      "39                                          Toy Story 3\n",
      "40                      Transformers: Age of Extinction\n",
      "41                       Transformers: Dark of the Moon\n",
      "42                  Transformers: Revenge of the Fallen\n",
      "43                                                 Troy\n",
      "44                                          Van Helsing\n",
      "45                                               WALL-E\n",
      "46                                           Waterworld\n",
      "47                                       Wild Wild West\n",
      "48                           X-Men: Days of Future Past\n",
      "49                                X-Men: The Last Stand\n",
      "Name: Movie, dtype: object\n"
     ]
    }
   ],
   "source": [
    "import pandas as pd\n",
    "\n",
    "# Load the CSV file into a Pandas DataFrame\n",
    "df = pd.read_csv('~/vscode/ananyagaurav2617/_notebooks/Movies.csv')\n",
    "\n",
    "# Print the 'Adjusted costs' column\n",
    "print(df['Movie'])"
   ]
  },
  {
   "attachments": {},
   "cell_type": "markdown",
   "metadata": {},
   "source": [
    "## Question Hacks;\n",
    "\n",
    "\n",
    "1. What is NumPy and how is it used in data analysis?\n",
    "\n",
    "- <mark>NumPy stands for \"Numerical Python\" and is a Python library. It provides a powerful N-dimensional array object for manipulating and performing operations on big numerical data arrays. NumPy is a data analysis tool that can conduct numerical computations, linear algebra, statistical analysis, and other tasks <mark>\n",
    "\n",
    "2. What is Pandas and how is it used in data analysis?\n",
    "\n",
    "- <mark>Pandas is a Python package that offers tools for data manipulation and analysis. It introduces the DataFrame data structure, which is comparable to a database table in that it has rows and columns. Pandas is a data cleaning, transformation, analysis, and visualization tool. <mark>\n",
    "\n",
    "3. How is NunPy different than Pandas for data analysis?\n",
    "\n",
    "- <mark>NumPy and Pandas are distinct libraries with distinct use cases, yet they are frequently used in data analysis projects together. NumPy is a Python library that enables efficient numerical calculation and array manipulation, while Pandas is a Python library that provides extensive data manipulation and analysis tools on top of NumPy.<mark>\n",
    "\n",
    "4. What is a DataFrame?\n",
    "- <mark>A DataFrame is a 2-dimensional labeled data structure with columns of potentially different types. It is the primary data structure in Pandas and is similar to a spreadsheet or SQL table.<mark>\n",
    "\n",
    "5. What are some common operations you can perform with NunPy?\n",
    "- <mark>A DataFrame is a two-dimensional labeled data structure that can have columns of various types. It's Pandas' primary data structure, and it's akin to a spreadsheet or SQL table. <mark>\n",
    "\n",
    "6. How Can You Incorporate Either of these Data Analysis Tools (NunPy, Pandas) into your project?\n",
    "- <mark>You would generally import NumPy or Pandas into a data analysis project and utilize its functions and data structures to conduct various operations on your data. For instance, you could use NumPy to construct numerical data arrays and then use Pandas to load the data into a DataFrame, clean and modify it, and conduct various analysis operations.<mark>\n"
   ]
  }
 ],
 "metadata": {
  "kernelspec": {
   "display_name": "base",
   "language": "python",
   "name": "python3"
  },
  "language_info": {
   "codemirror_mode": {
    "name": "ipython",
    "version": 3
   },
   "file_extension": ".py",
   "mimetype": "text/x-python",
   "name": "python",
   "nbconvert_exporter": "python",
   "pygments_lexer": "ipython3",
   "version": "3.9.12"
  },
  "orig_nbformat": 4
 },
 "nbformat": 4,
 "nbformat_minor": 2
}
