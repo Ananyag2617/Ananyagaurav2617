{
 "cells": [
  {
   "cell_type": "markdown",
   "metadata": {},
   "source": [
    "# Lists and Iteration Homework and Challenges\n",
    "> Try to complete this to show understanding! Copy this into your notebook so you can also take notes as we lecture. Make a copy of this notebook to your own repository to take notes, do the class challenges, and to access the homework.\n",
    "- title: Lists and Iteration Homework\n",
    "- toc: true\n",
    "- permalink: /homework/"
   ]
  },
  {
   "cell_type": "markdown",
   "metadata": {},
   "source": [
    "## Overview and Notes:  3.10 - Lists\n",
    "- Make sure you complete the challenge in the challenges section while we present the lesson! \n",
    "\n",
    "Add your <mark>OWN</mark> Notes for 3.10 here: \n",
    "- Lists are collections of data\n",
    "- can use them to store unlimited amounts of data\n",
    "- synatx for lists: \n",
    "     - list = [\"item0\", \"item1\", \"item2\"] \n",
    "     - print(list)\n",
    "- index starts with 0\n",
    "- you can use the methods in the table below to make changes to your lists.\n",
    "\n",
    "\n",
    "\n",
    "\n",
    "Fill out the empty boxes: \n",
    "\n",
    "|   Pseudocode Operation  | Python Syntax |                                                           Description                                                          |\n",
    "|:-----------------------:|---------------|:------------------------------------------------------------------------------------------------------------------------------:|\n",
    "|         x ← aList[i]\t       |       aList[i]        | _Accesses the element of aList at index i_                                                                                     |\n",
    "|       x ← aList[i]      |       aList(i) = x\t       | _Assigns the element of aList at index i <br>to a variable 'x'_                                                                |\n",
    "|       aList[i] ← aList[j]\t     |      aList(i) = x         | _Assigns the value of a variable 'x' to <br>the element of a List at index i_                                                  |\n",
    "|   aList[i] ← aList[j]   |       aList.insert(i, value)\t    | _Assigns value of aList[j] to aList[i]_                                                                                        |\n",
    "| APPEND(aList, value)\t |       aList.insert(i, value)        | _value is placed at index i in aList. Any <br>element at an index greater than i will shift<br>one position to the right. _    |\n",
    "|   APPEND(aList, value)  |      aList.append(value)         | value is added as an element to the end of aList\n",
    "and length of aList is increased by 1                                    |\n",
    "|     REMOVE(aList, i)\t    |      aList.pop(i)<br>OR<br>aList.remove(value)         | _Removes item at index i and any values at <br>indices greater than i shift to the left. <br>Length of aList decreased by 1. _ |\n"
   ]
  },
  {
   "cell_type": "markdown",
   "metadata": {},
   "source": [
    "## Overview and Notes:  3.8 - Iteration\n",
    "\n",
    "Add your <mark>OWN</mark> Notes for 3.8 here: \n",
    "- loops are good for applying a certain alogrithm or function to an entire list of similar things.\n",
    "-  for loops: mostly useful for applying a function to everything in a list one-by-one\n",
    "- recursive loops: when a function, module or an entity keeps making calls to itself repeatedly, thus forming an almost never-ending loop\n",
    "- while loops: used to repeat a specific block of code an unknown number of times, until a condition is met\n",
    "- \n",
    "\n",
    "\n"
   ]
  },
  {
   "cell_type": "markdown",
   "metadata": {},
   "source": [
    "## Homework Assignment\n",
    "\n",
    "Instead of us making a quiz for you to take, we would like YOU to make a quiz about the material we reviewed.\n",
    "\n",
    "We would like you to <mark>input questions into a list</mark>, and use some sort of iterative system to print the questions, detect an input, and determine if you answered correctly. There should be *at least* <mark>five questions</mark>, each with *at least* <mark>three possible answers</mark>.\n",
    "\n",
    "You may use the template below as a framework for this assignment."
   ]
  },
  {
   "cell_type": "code",
   "execution_count": 13,
   "metadata": {},
   "outputs": [
    {
     "name": "stdout",
     "output_type": "stream",
     "text": [
      "For this test you will be asked 5 questions.\n",
      "Here are your choices: 1. 1, 2. 10, 3. 100, 4. 0\n",
      "GREAT JOB!\n",
      "Here are your choices: 1. (), 2. [], 3. {}, 4. no brackets\n",
      "GREAT JOB!\n",
      "Here are your choices: 1. 5, 2. 1, 3. 100, 4. 0\n",
      "GREAT JOB!\n",
      "Here are your choices: 1. pop, 2. remove, 3. del, 4. append\n",
      "GREAT JOB!\n",
      "Here are your choices: 1. idk, 2. are used to store multiple items in a single variable, 3. are used to store data values in key:value pairs, 4. grocery list?\n",
      "GREAT JOB!\n",
      " you scored 5/5\n"
     ]
    }
   ],
   "source": [
    "\n",
    "questions = 5\n",
    "correct = 0\n",
    "\n",
    "print(\"For this test you will be asked \" + str(questions) + \" questions.\")\n",
    "\n",
    "Q1 = input(\"What is the index number for the first item in a list?:\")\n",
    "print(\"Here are your choices: 1. 1, 2. 10, 3. 100, 4. 0\")\n",
    "if Q1 == \"1\":\n",
    "    print(\"GREAT JOB!\")\n",
    "    correct += 1\n",
    "else:\n",
    "    print(Q1 + \" is incorrect!\")\n",
    "\n",
    "Q2 = input(\"Which brackets do we use for lists?:\")\n",
    "print(\"Here are your choices: 1. (), 2. [], 3. {}, 4. no brackets\")\n",
    "if Q2 == \"2\":\n",
    "    print(\"GREAT JOB!\")\n",
    "    correct += 1\n",
    "else:\n",
    "    print(Q2 + \" is incorrect!\")\n",
    "\n",
    "Q3 = input(\"What would the index number of grapes be if it were in a list? apples, grapes,kiwi, banana:\")\n",
    "print(\"Here are your choices: 1. 5, 2. 1, 3. 100, 4. 0\")\n",
    "if Q3 == \"2\":\n",
    "    print(\"GREAT JOB!\")\n",
    "    correct += 1\n",
    "else:\n",
    "    print(Q3 + \" is incorrect!\")\n",
    "\n",
    "Q4 = input(\"Which method can we use to add an item to a list?:\")\n",
    "print(\"Here are your choices: 1. pop, 2. remove, 3. del, 4. append\")\n",
    "if Q4 == \"4\":\n",
    "    print(\"GREAT JOB!\")\n",
    "    correct += 1\n",
    "else:\n",
    "    print(Q4 + \" is incorrect!\")\n",
    "\n",
    "Q5 = input(\"What are lists?:\")\n",
    "print(\"Here are your choices: 1. idk, 2. are used to store multiple items in a single variable, 3. are used to store data values in key:value pairs, 4. grocery list?\")\n",
    "if Q5 == \"2\":\n",
    "    print(\"GREAT JOB!\")\n",
    "    correct += 1\n",
    "else:\n",
    "    print(Q5 + \" is incorrect!\")\n",
    "\n",
    "\n",
    "print( \" you scored \" + str(correct) +\"/\" + str(questions))"
   ]
  },
  {
   "cell_type": "markdown",
   "metadata": {},
   "source": [
    "### Hacks\n",
    "\n",
    "Here are some ideas of things you can do to make your program even cooler. Doing these will raise your grade if done correctly.\n",
    "\n",
    "- Add more than five questions with more than three answer choices\n",
    "- Randomize the order in which questions/answers are output\n",
    "- At the end, display the user's score and determine whether or not they passed\n",
    "\n",
    "## Challenges\n",
    "\n",
    "<mark>Important!</mark> You don't have to complete these challenges completely perfectly, but you will be marked down if you don't show evidence of at least having tried these challenges in the time we gave during the lesson.\n",
    "\n",
    "### 3.10 Challenge\n",
    "\n",
    "Follow the instructions in the code comments."
   ]
  },
  {
   "cell_type": "code",
   "execution_count": 18,
   "metadata": {},
   "outputs": [
    {
     "name": "stdout",
     "output_type": "stream",
     "text": [
      "cucumbers\n",
      "cucumbers\n",
      "['apples', 'milk', 'oranges', 'carrots', 'cucumbers', 'umbrellas', 'artichokes']\n",
      "['apples', 'milk', 'eggs', 'oranges', 'carrots', 'cucumbers', 'umbrellas', 'artichokes']\n",
      "['apples', 'eggs', 'oranges', 'carrots', 'cucumbers', 'umbrellas', 'artichokes']\n",
      "['apples', 'eggs', 'artichokes', 'carrots', 'cucumbers', 'umbrellas', 'artichokes']\n",
      "artichokes\n",
      "['apples', 'eggs', 'artichokes', 'carrots', 'cucumbers', 'umbrellas', 'artichokes']\n"
     ]
    }
   ],
   "source": [
    "grocery_list = ['apples', 'milk', 'oranges', 'carrots', 'cucumbers']\n",
    "\n",
    "# Print the fourth item in the list\n",
    "print(grocery_list[4])\n",
    "\n",
    "\n",
    "# Now, assign the fourth item in the list to a variable, x and then print the variable\n",
    "\n",
    "x = grocery_list[4]\n",
    "print(x)\n",
    "\n",
    "# Add these two items at the end of the list : umbrellas and artichokes\n",
    "\n",
    "grocery_list.append(\"umbrellas\")\n",
    "grocery_list.append(\"artichokes\")\n",
    "\n",
    "print(grocery_list)\n",
    "# Insert the item eggs as the third item of the list \n",
    "grocery_list.insert(2,\"eggs\")\n",
    "print(grocery_list)\n",
    "\n",
    "# Remove milk from the list \n",
    "\n",
    "grocery_list.remove(\"milk\")\n",
    "print(grocery_list)\n",
    "# Assign the element at the end of the list to index 2. Print index 2 to check\n",
    "grocery_list[2] = \"artichokes\"\n",
    "print(grocery_list)\n",
    "print(grocery_list[2])\n",
    "\n",
    "# Print the entire list, does it match ours ? \n",
    "print(grocery_list)\n",
    "\n",
    "# Expected output\n",
    "# carrots\n",
    "# carrots\n",
    "# artichokes\n",
    "# ['apples', 'eggs', 'artichokes', 'carrots', 'cucumbers', 'umbrellas', 'artichokes']"
   ]
  },
  {
   "cell_type": "markdown",
   "metadata": {},
   "source": [
    "### 3.8 Challenge\n",
    "\n",
    "Create a loop that <mark>converts 8-bit binary values</mark> from the provided list into <mark>decimal numbers</mark>. Then, after the value is determined, <mark>remove all the values greater than 100</mark> from the list using a list-related function you've been taught before. <mark>Print the new list</mark> when done.\n",
    "\n",
    "Once you've done this with one of the types of loops discussed in this lesson, create a function that does the same thing with a *different* type of loop."
   ]
  },
  {
   "cell_type": "code",
   "execution_count": 51,
   "metadata": {},
   "outputs": [
    {
     "name": "stdout",
     "output_type": "stream",
     "text": [
      "73\n",
      "55\n"
     ]
    }
   ],
   "source": [
    "binarylist = [\n",
    "    \"01001001\", \"10101010\", \"10010110\", \"00110111\", \"11101100\", \"11010001\", \"10000001\"\n",
    "]\n",
    "\n",
    "for x in binarylist:\n",
    "    z = int(x,2) # if you do it without the two it will not convert\n",
    "    if z < 100:\n",
    "        print(z)\n",
    "\n",
    "    "
   ]
  }
 ],
 "metadata": {
  "kernelspec": {
   "display_name": "Python 3.8.10 64-bit",
   "language": "python",
   "name": "python3"
  },
  "language_info": {
   "codemirror_mode": {
    "name": "ipython",
    "version": 3
   },
   "file_extension": ".py",
   "mimetype": "text/x-python",
   "name": "python",
   "nbconvert_exporter": "python",
   "pygments_lexer": "ipython3",
   "version": "3.8.10"
  },
  "orig_nbformat": 4,
  "vscode": {
   "interpreter": {
    "hash": "916dbcbb3f70747c44a77c7bcd40155683ae19c65e1c03b4aa3499c5328201f1"
   }
  }
 },
 "nbformat": 4,
 "nbformat_minor": 2
}
