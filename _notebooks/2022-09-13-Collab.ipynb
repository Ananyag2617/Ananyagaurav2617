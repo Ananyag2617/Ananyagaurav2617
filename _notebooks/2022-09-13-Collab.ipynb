{
 "cells": [
  {
   "cell_type": "markdown",
   "metadata": {},
   "source": [
    "# AP Collaboration Notes from Collegeboard\n",
    "> In this blog I will talking about the key information/facts I obtained by watching the video on collegeboard."
   ]
  },
  {
   "cell_type": "markdown",
   "metadata": {},
   "source": [
    "# Learning Objectives\n",
    "- Explain how computing innovations are improved through collaboration.\n",
    "- Demonstrate effective interpersona; skills during collaboration"
   ]
  },
  {
   "cell_type": "markdown",
   "metadata": {},
   "source": [
    "# Essential Knowledge\n",
    "Effective collaboration produces a computing innovation that reflects the diversity of talents and perspectives of those who designed it. Collaboration that includes diverse perspectives helps avoid bias in development of computing innovations.\n",
    "### Effective collaborative teams practice interpersonal skills, including, but not limited to:\n",
    "- Communication\n",
    "- Consensus Building\n",
    "- Conflict Resolution\n",
    "- Negotiation"
   ]
  },
  {
   "cell_type": "markdown",
   "metadata": {},
   "source": [
    "# Computing Innovation\n",
    "- A computing innovation includes a program as an integral part of its function.\n",
    "- a computing innovation can be physical. nonphysical computing software, or a nonphysical computing concept.\n",
    "- effective collaboration produces a computing innovation that reflects the diversity of talents and perspectives of those who designed it.\n",
    "- collaboration helps avoid bias in the development of computing innovations."
   ]
  },
  {
   "cell_type": "markdown",
   "metadata": {},
   "source": [
    "# What are the benefits of collaborating with your peers\n",
    "- helps develop numerous skills such as\n",
    "    - communication\n",
    "    - consensus building\n",
    "    - conflict resolution\n",
    "    - negotiation skills\n",
    "- produces a computing innovation that reflects the diversity of talents and perspectives of those who designed it.\n"
   ]
  },
  {
   "cell_type": "markdown",
   "metadata": {},
   "source": [
    "# Important Quote \n",
    "#### \"If you want to go fast, go alone. If you want to go far, go together.\"\n"
   ]
  },
  {
   "cell_type": "markdown",
   "metadata": {},
   "source": [
    "# Video Number 2: Learning Objective\n",
    "- explain how computing innovations are developed by groups of people.\n",
    "- explain how computing innovations are improves through collaboration."
   ]
  },
  {
   "cell_type": "markdown",
   "metadata": {},
   "source": [
    "# Essential Knowledge\n",
    " -  consultation and communication with users are important aspects of the development of computing innovations\n",
    " - information gathered from potential users can be used to understand the purpose of a program from diverse perspectives and to develop a program that fully incorporates these perspectives.\n",
    " - online tools support collaboration by allowing programmers to share and provide feedback on ideas and documents\n",
    " - commin model such as pair programming exist to facilitate collaboration"
   ]
  },
  {
   "cell_type": "markdown",
   "metadata": {},
   "source": [
    "# How to collaborate in class\n",
    "- pair programming\n",
    "- everyone makes mistakes\n",
    "- we shouldn't hawing behind someone's back about a typo\n",
    "- think-pair-share\n",
    "- Leave comments in code\n",
    "    - communicate to your partner(s)\n",
    "    - communicate to yourself\n",
    "    - acknowledge code segments used from other sources\n",
    "    - acknowledge media used from other sources\n",
    "    - differentiate what you and your partner(s) did\n",
    "    - clarify the fucntionality of your code\n",
    "    - "
   ]
  },
  {
   "cell_type": "markdown",
   "metadata": {},
   "source": [
    "# Takeaways and what I learned from the two videos.\n",
    "After watching the videos, I realized that collaboration is really important when you want to improve and get far in things. We should realize that we all are different and have different perspectives, and with different people, we have different backgrounds. And these diversites among is very helpful when creating a computing innovation. \n",
    "Some ways to make collaboration team succesful:\n",
    "\n",
    "- Communicate kindly and often.\n",
    "- Practice consensus building within your team by listening to every member within it and taking their perspectives into consideration.\n",
    "- Create norms such as establishing team roles or policies to help mediate any conflicts that might arise.\n",
    "- A team project is a team effort, and that means everyone in the group needs to have a say. Sometimes, that might mean compromise.\n"
   ]
  }
 ],
 "metadata": {
  "kernelspec": {
   "display_name": "Python 3.8.10 64-bit",
   "language": "python",
   "name": "python3"
  },
  "language_info": {
   "name": "python",
   "version": "3.8.10"
  },
  "orig_nbformat": 4,
  "vscode": {
   "interpreter": {
    "hash": "916dbcbb3f70747c44a77c7bcd40155683ae19c65e1c03b4aa3499c5328201f1"
   }
  }
 },
 "nbformat": 4,
 "nbformat_minor": 2
}
