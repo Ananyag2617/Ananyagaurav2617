{
 "cells": [
  {
   "cell_type": "markdown",
   "metadata": {},
   "source": [
    "# CS Alumnai Panel Write-Up - Ananya Gaurav!"
   ]
  },
  {
   "cell_type": "markdown",
   "metadata": {},
   "source": [
    "# Everything I learned during the Alumnai Panel!\n"
   ]
  },
  {
   "cell_type": "markdown",
   "metadata": {},
   "source": [
    "CS Alumnai Panel Write-Up topics"
   ]
  },
  {
   "cell_type": "markdown",
   "metadata": {},
   "source": [
    "* Topics...\n",
    "    - How did you realize you want to take your major and how did CSA and CSP help?\n",
    "    - What is the biggest challenge you have encountered in Computer Science?\n",
    "    - Are there any PBL scenarios in College computer science classes?\n",
    "    - Have you applied CS in your major if you are not majoring in CS?\n",
    "    - What job oppertunities are there? Did you work with your proffesor?\n",
    "    - Have you done any personal projects, are they helpful?\n",
    "    - Applying for Internships\n",
    "    - Takeaways"
   ]
  },
  {
   "cell_type": "markdown",
   "metadata": {},
   "source": [
    "# What are some majors that are related to computer science?"
   ]
  },
  {
   "cell_type": "markdown",
   "metadata": {},
   "source": [
    "* Software Developer\n",
    "\n",
    "* Web Developer\n",
    "\n",
    "* UX Designer\n",
    "\n",
    "* Mobile App Developer\n",
    "\n",
    "* IT Project Manager\n",
    "\n",
    "* Information Security Analyst\n",
    "\n",
    "* Systems Architect\n",
    "\n",
    "* AI Engineer\n",
    "\n",
    "* Information Technology and Information Systems\n",
    "\n",
    "* Computer Science\n",
    "\n",
    "* Information Science\n",
    "\n",
    "* Systems & Network Administration\n",
    "\n",
    "* Software Engineering\n",
    "\n",
    "* Computer Engineering\n",
    "\n",
    "* Cybersecurity"
   ]
  },
  {
   "cell_type": "markdown",
   "metadata": {},
   "source": [
    "# How did you realize you want to take your major and how did CSA and CSP help?"
   ]
  },
  {
   "cell_type": "markdown",
   "metadata": {},
   "source": [
    "* Did computer science since he was very little\n",
    "\n",
    "* Took intro classes to cs\n",
    "\n",
    "* Didnt like cs at first, but realized it’s important\n",
    "\n",
    "* Made games and attended summer classes for cs\n",
    "\n",
    "* realized it's very helpful\n",
    "\n",
    "* found that what she does with programming can actually help solve problems\n",
    "\n"
   ]
  },
  {
   "cell_type": "markdown",
   "metadata": {},
   "source": [
    "# What is the biggest challenge you have encountered in Computer Science?\n"
   ]
  },
  {
   "cell_type": "markdown",
   "metadata": {},
   "source": [
    "* The errors that popped up on github\n",
    "\n",
    "* Clashing egos\n",
    "\n",
    "* People bragging about the projects they have done\n",
    "\n",
    "* Hard finding the motivation to continue cs\n",
    "\n",
    "* Frustration with the syntax\n",
    "\n",
    "* Starting and not being familiar to the content\n",
    "\n",
    "* Urge to keep everything organized, but hard since there is a lot to do\n"
   ]
  },
  {
   "cell_type": "markdown",
   "metadata": {},
   "source": [
    "# Are there any PBL scenarios in College computer science classes?\n"
   ]
  },
  {
   "cell_type": "markdown",
   "metadata": {},
   "source": [
    "* They will have projects\n",
    "\n",
    "* Study in groups and work with other people\n",
    "\n",
    "* oppertunities for hands on experiances\n",
    "\n",
    "* limited amount of space limited in proffesors \n"
   ]
  },
  {
   "cell_type": "markdown",
   "metadata": {},
   "source": [
    "# Have you applied CS in your major if you are not majoring in CS?\n"
   ]
  },
  {
   "cell_type": "markdown",
   "metadata": {},
   "source": [
    "* Coding is everywhere\n",
    "\n",
    "* Helps with math related work\n",
    "\n",
    "* In college students use jupyter notebook for their work\n",
    "\n",
    "* Program analysis\n",
    "\n",
    "* graphing/statistics (R )\n"
   ]
  }
 ],
 "metadata": {
  "kernelspec": {
   "display_name": "Python 3.8.10 64-bit",
   "language": "python",
   "name": "python3"
  },
  "language_info": {
   "name": "python",
   "version": "3.8.10"
  },
  "orig_nbformat": 4,
  "vscode": {
   "interpreter": {
    "hash": "916dbcbb3f70747c44a77c7bcd40155683ae19c65e1c03b4aa3499c5328201f1"
   }
  }
 },
 "nbformat": 4,
 "nbformat_minor": 2
}
