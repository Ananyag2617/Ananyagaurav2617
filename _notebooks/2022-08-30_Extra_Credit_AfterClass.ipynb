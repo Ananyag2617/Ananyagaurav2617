{
 "cells": [
  {
   "cell_type": "markdown",
   "metadata": {},
   "source": [
    "# CS Alumnai Panel Write-Up - Ananya Gaurav!"
   ]
  },
  {
   "cell_type": "markdown",
   "metadata": {},
   "source": [
    "# Everything I learned during the Alumnai Panel!\n"
   ]
  },
  {
   "cell_type": "markdown",
   "metadata": {},
   "source": [
    "CS Alumnai Panel Write-Up topics"
   ]
  },
  {
   "cell_type": "markdown",
   "metadata": {},
   "source": [
    "* Topics...\n",
    "    - How did you realize you want to take your major and how did CSA and CSP help?\n",
    "\n",
    "    - Choosing a Major Related to CS\n",
    "    - Biggest Challenges Faced by the Alumnai\n",
    "    - Classes and Project Based Learning Classes\n",
    "    - CS Application to Other Majors\n",
    "    - Jobs, Especially with a Professor\n",
    "    - Personal Projects\n",
    "    - Applying for Internships\n",
    "    - Takeaways"
   ]
  }
 ],
 "metadata": {
  "kernelspec": {
   "display_name": "Python 3.8.10 64-bit",
   "language": "python",
   "name": "python3"
  },
  "language_info": {
   "name": "python",
   "version": "3.8.10"
  },
  "orig_nbformat": 4,
  "vscode": {
   "interpreter": {
    "hash": "916dbcbb3f70747c44a77c7bcd40155683ae19c65e1c03b4aa3499c5328201f1"
   }
  }
 },
 "nbformat": 4,
 "nbformat_minor": 2
}
