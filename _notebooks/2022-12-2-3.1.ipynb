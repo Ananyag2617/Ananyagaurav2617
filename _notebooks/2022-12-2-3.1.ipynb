{
 "cells": [
  {
   "cell_type": "markdown",
   "metadata": {},
   "source": [
    "# Unit 3 lesson 1-2 Notes"
   ]
  },
  {
   "cell_type": "markdown",
   "metadata": {},
   "source": [
    "## Key Points\n",
    "\n",
    "- Variables are abstractions within programs which represent a value\n",
    "- Values can be individual data points or a list/collection that contains many data values\n",
    "- Types of data: numbers, Booleans (T/F), lists, and strings\n",
    "- Python\n",
    "- JavaScript"
   ]
  },
  {
   "cell_type": "markdown",
   "metadata": {},
   "source": [
    "## Variables\n",
    "- Represent a value with a variable\n",
    "    - Strings\n",
    "    - lists\n",
    "    - booleans\n",
    "    - numbers\n",
    "- Determine the value of a variable as a result of an assignment"
   ]
  },
  {
   "cell_type": "markdown",
   "metadata": {},
   "source": [
    "### Example for variables\n"
   ]
  },
  {
   "cell_type": "code",
   "execution_count": 3,
   "metadata": {},
   "outputs": [
    {
     "name": "stdout",
     "output_type": "stream",
     "text": [
      "5\n",
      "Ananya\n"
     ]
    }
   ],
   "source": [
    "x = 5\n",
    "y = \"Ananya\"\n",
    "print(x)\n",
    "print(y)\n"
   ]
  },
  {
   "cell_type": "markdown",
   "metadata": {},
   "source": [
    "# Mathematical Experessions\n",
    " - Addition is +\t\n",
    " - Subtraction\tis -\n",
    " - Multiplication is *\n",
    " - Division is /\n",
    " - Modulus\tis %\n",
    " - Exponentiation is **\n",
    " - Floor division is //\n",
    "\n"
   ]
  },
  {
   "cell_type": "markdown",
   "metadata": {},
   "source": [
    "### Example for Mathematical Experessions\n",
    " "
   ]
  },
  {
   "cell_type": "code",
   "execution_count": 4,
   "metadata": {},
   "outputs": [
    {
     "name": "stdout",
     "output_type": "stream",
     "text": [
      "11\n"
     ]
    }
   ],
   "source": [
    "x = 5\n",
    "y = 6\n",
    "z = 5 + 6\n",
    "print(z)"
   ]
  },
  {
   "cell_type": "markdown",
   "metadata": {},
   "source": [
    "# Data Types\n",
    "- Numeric Types:\tint, float, complex\n",
    "- Sequence Types:\tlist, tuple, range\n",
    "- Mapping Type:\tdict\n",
    "- Set Types:\tset, frozenset\n",
    "- Boolean Type:\tbool\n",
    "- Binary Types:\tbytes, bytearray, memoryview\n"
   ]
  },
  {
   "cell_type": "markdown",
   "metadata": {},
   "source": [
    "### Example for Datatypes"
   ]
  },
  {
   "cell_type": "code",
   "execution_count": 5,
   "metadata": {},
   "outputs": [
    {
     "name": "stdout",
     "output_type": "stream",
     "text": [
      "20.3\n",
      "2.0300000000000002\n",
      "40.6\n",
      "82.418\n"
     ]
    }
   ],
   "source": [
    "number = 20.3   \n",
    "x = number/10   \n",
    "y = number*2   \n",
    "print(number)   \n",
    "print(x)   \n",
    "print(y)   \n",
    "print(x*y)   "
   ]
  },
  {
   "cell_type": "markdown",
   "metadata": {},
   "source": [
    "# 3.2 Notes"
   ]
  },
  {
   "cell_type": "markdown",
   "metadata": {},
   "source": [
    "## Key Points\n",
    "\n",
    " - A list is made up of elements organized in a specific order\n",
    "- An element is a unique, individual value in a list\n",
    "- A string differs from a list as it is a sequence of characters rather than elements\n",
    "- Data abstraction uses a list by taking specific data elements from a list and organizing into a whole, less complex - - representation of the values such as a table\n",
    "- Python\n",
    "- JavaScript"
   ]
  },
  {
   "cell_type": "markdown",
   "metadata": {},
   "source": [
    "### What is data abstraction?\n",
    " - Data abstraction provides a separation between the abstract properties of a data type and the concrete details of its representation\n",
    "- data abstractions manage complexity in programs by giving a collection of data a name without refrencing the specific elements of the representation\n",
    "- Data Abstraction makes it easier to implement, develop and maintain code\n"
   ]
  },
  {
   "cell_type": "markdown",
   "metadata": {},
   "source": [
    "# Lists"
   ]
  },
  {
   "cell_type": "markdown",
   "metadata": {},
   "source": [
    "### What are lists\n",
    "- Lists are used to store multiple items in a single variable.\n",
    "- Lists are one of 4 built-in data types in Python used to store collections of data, the other 3 are Tuple, Set, and - Dictionary, all with different qualities and usage."
   ]
  },
  {
   "cell_type": "markdown",
   "metadata": {},
   "source": [
    "### Example for lists"
   ]
  },
  {
   "cell_type": "code",
   "execution_count": 6,
   "metadata": {},
   "outputs": [
    {
     "name": "stdout",
     "output_type": "stream",
     "text": [
      "['dog', 'cat', 'cows', 'pig']\n"
     ]
    }
   ],
   "source": [
    "thislist = [\"dog\", \"cat\", \"cows\", \"pig\"]\n",
    "print(thislist)"
   ]
  },
  {
   "cell_type": "markdown",
   "metadata": {},
   "source": [
    "### List Items\n",
    "- List items are ordered, changeable, and allow duplicate values.\n",
    "- List items are indexed, the first item has index [0], the second item has index [1] etc"
   ]
  },
  {
   "cell_type": "code",
   "execution_count": 7,
   "metadata": {},
   "outputs": [
    {
     "name": "stdout",
     "output_type": "stream",
     "text": [
      "['banana']\n"
     ]
    }
   ],
   "source": [
    "thislist = [\"apple\", \"banana\", \"cherry\"]\n",
    "print(thislist[1:2])"
   ]
  }
 ],
 "metadata": {
  "kernelspec": {
   "display_name": "Python 3.8.10 64-bit",
   "language": "python",
   "name": "python3"
  },
  "language_info": {
   "codemirror_mode": {
    "name": "ipython",
    "version": 3
   },
   "file_extension": ".py",
   "mimetype": "text/x-python",
   "name": "python",
   "nbconvert_exporter": "python",
   "pygments_lexer": "ipython3",
   "version": "3.8.10 (default, Jun 22 2022, 20:18:18) \n[GCC 9.4.0]"
  },
  "orig_nbformat": 4,
  "vscode": {
   "interpreter": {
    "hash": "916dbcbb3f70747c44a77c7bcd40155683ae19c65e1c03b4aa3499c5328201f1"
   }
  }
 },
 "nbformat": 4,
 "nbformat_minor": 2
}
