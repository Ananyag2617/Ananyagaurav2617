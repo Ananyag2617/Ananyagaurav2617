{
 "cells": [
  {
   "attachments": {},
   "cell_type": "markdown",
   "metadata": {},
   "source": [
    "## <mark>Challenge 2</mark> below: Complete the Min and Max procedure in either JavaScript and Python using the instructions from the JavaScript page. (JavaScript will get you a extra 0.1)"
   ]
  },
  {
   "cell_type": "code",
   "execution_count": 23,
   "metadata": {},
   "outputs": [
    {
     "name": "stdout",
     "output_type": "stream",
     "text": [
      "54 is greater than 45\n",
      "7 is less than 100000\n"
     ]
    }
   ],
   "source": [
    "function findMax(numA, numB) {\n",
    "    if (numA > numB) {\n",
    "        return(numA + \" is greater than \" + numB);\n",
    "\n",
    "    }\n",
    "    else {\n",
    "        return(numB + \" is greater than \" + numA)\n",
    "    }\n",
    "}\n",
    "\n",
    "function findMin(numA, numB) {\n",
    "    if (numA < numB) {\n",
    "        return(numA + \" is less than \" + numB);\n",
    "        \n",
    "    }\n",
    "    else {\n",
    "        return (numB + \" is less than \" + numA);\n",
    "    \n",
    "    }\n",
    "}\n",
    "\n",
    "console.log(findMax(54, 45));\n",
    "\n",
    "console.log(findMin(100000, 7));"
   ]
  }
 ],
 "metadata": {
  "kernelspec": {
   "display_name": "JavaScript (Node.js)",
   "language": "javascript",
   "name": "javascript"
  },
  "language_info": {
   "file_extension": ".js",
   "mimetype": "application/javascript",
   "name": "javascript",
   "version": "6.11.2"
  },
  "orig_nbformat": 4,
  "vscode": {
   "interpreter": {
    "hash": "916dbcbb3f70747c44a77c7bcd40155683ae19c65e1c03b4aa3499c5328201f1"
   }
  }
 },
 "nbformat": 4,
 "nbformat_minor": 2
}
