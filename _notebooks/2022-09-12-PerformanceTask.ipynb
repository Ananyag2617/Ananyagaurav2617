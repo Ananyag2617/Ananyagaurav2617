{
 "cells": [
  {
   "cell_type": "markdown",
   "metadata": {},
   "source": [
    "# Create Performance Task Outline/Planning\n",
    "- create a webisite based on coding\n",
    "- make an app\n",
    "- create a game\n",
    "- create webpages\n",
    "\n"
   ]
  }
 ],
 "metadata": {
  "language_info": {
   "name": "python"
  },
  "orig_nbformat": 4
 },
 "nbformat": 4,
 "nbformat_minor": 2
}
