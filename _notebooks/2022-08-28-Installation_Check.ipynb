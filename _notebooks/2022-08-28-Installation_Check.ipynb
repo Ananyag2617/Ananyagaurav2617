{
 "cells": [
  {
   "cell_type": "markdown",
   "metadata": {},
   "source": [
    "# Python Checks"
   ]
  },
  {
   "cell_type": "code",
   "execution_count": 2,
   "metadata": {},
   "outputs": [
    {
     "ename": "NameError",
     "evalue": "name 'python' is not defined",
     "output_type": "error",
     "traceback": [
      "\u001b[1;31m---------------------------------------------------------------------------\u001b[0m",
      "\u001b[1;31mNameError\u001b[0m                                 Traceback (most recent call last)",
      "\u001b[1;32mc:\\Users\\ANANYA GAURAV\\.vscode\\ananyagaurav2617\\_notebooks\\2022-08-28-Installation_Check.ipynb Cell 2\u001b[0m in \u001b[0;36m<cell line: 1>\u001b[1;34m()\u001b[0m\n\u001b[1;32m----> <a href='vscode-notebook-cell:/c%3A/Users/ANANYA%20GAURAV/.vscode/ananyagaurav2617/_notebooks/2022-08-28-Installation_Check.ipynb#W3sZmlsZQ%3D%3D?line=0'>1</a>\u001b[0m python \u001b[39m-\u001b[39m\u001b[39m-\u001b[39mversion\n\u001b[0;32m      <a href='vscode-notebook-cell:/c%3A/Users/ANANYA%20GAURAV/.vscode/ananyagaurav2617/_notebooks/2022-08-28-Installation_Check.ipynb#W3sZmlsZQ%3D%3D?line=1'>2</a>\u001b[0m python2 \u001b[39m-\u001b[39m\u001b[39m-\u001b[39mversion\n",
      "\u001b[1;31mNameError\u001b[0m: name 'python' is not defined"
     ]
    }
   ],
   "source": [
    "python --version\n",
    "python2 --version"
   ]
  }
 ],
 "metadata": {
  "kernelspec": {
   "display_name": "Python 3.10.5 64-bit",
   "language": "python",
   "name": "python3"
  },
  "language_info": {
   "codemirror_mode": {
    "name": "ipython",
    "version": 3
   },
   "file_extension": ".py",
   "mimetype": "text/x-python",
   "name": "python",
   "nbconvert_exporter": "python",
   "pygments_lexer": "ipython3",
   "version": "3.10.5"
  },
  "orig_nbformat": 4,
  "vscode": {
   "interpreter": {
    "hash": "4abdecfce73f9f2fd397691d72ae2f431dbef91744102263a628cc20cb32e7b4"
   }
  }
 },
 "nbformat": 4,
 "nbformat_minor": 2
}
