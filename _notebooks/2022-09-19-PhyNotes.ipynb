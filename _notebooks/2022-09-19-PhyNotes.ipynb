{
 "cells": [
  {
   "cell_type": "markdown",
   "metadata": {},
   "source": [
    "# Notes on Psychology and the Good Life by Laurie Santos\n",
    "> In this blog I will talking about the key points I got by watching the Psychology and the Good Life video."
   ]
  },
  {
   "cell_type": "markdown",
   "metadata": {},
   "source": [
    "# Notes/Takeaway\n",
    "    - Students tend to have misnomers about college\n",
    "    - They expect it to be all stressful and anxiety levels rise\n",
    "    - they’re not able to experience and have a good outlook on the new opportunities they have.\n",
    "    -  Students feel so overwhelmed that even when they get small pleasures like reading a book, they only        complete their homework and don’t even feel those small pleasures\n",
    "    - classify their work into groups.\n",
    "    - Statistics show that 40 percent of college students report more than the average level of stress\n",
    "    - The science of being less stressed and more optimistic comes from two domains: \n",
    "    - Domain of positive psychology, which literally studies happy people\n",
    "    - the domain of behavior change and how we make decisions.\n",
    "\n"
   ]
  },
  {
   "cell_type": "markdown",
   "metadata": {},
   "source": [
    "# Insights\n",
    "\n",
    "## Insight one: \n",
    "- This enterprise is possible and we don’t have to be stuck at what well-being we’re at. We can control our happiness more than we think\n",
    "## Insight two:\n",
    "- We think that like where we live, our career, and salary matter but in reality they only matter a tiny bit. \n",
    "different people have various circumstances\n",
    "- we shouldn’t be depressed if other people have more happy things in their life than us\n",
    "- we predict what will make us happy, but it can turn out to be wrong or something unexpected\n",
    "## Insight three:\n",
    "- We sure can control our happiness but it requires some hard work\n",
    "- Ways to gain happiness (according to research)\n",
    "    - Make a goal\n",
    "    - Put in commitment and hard work\n",
    "    - Make permanent changes to thing you do\n",
    "    - Ex. Analogy of exercise\n",
    "        - we must practice exercises an hour or so each day\n",
    "        - Stop eating excessive amount of junk food but not necessarily stop\n",
    "        - Listening to lectures and not applying effort won’t fix anything\n",
    "        - A growth mindset is needed and putting in work to fulfill our desire of happiness\n",
    "## Insight four:\n",
    "- Recognizing and admitting that many times your intuitions and mind can be lying about the definition of happiness\n",
    "- things can appear like that but we sometimes have to learn they’re not truthful\n",
    "## Insight five:\n",
    "- Helping others with money makes us more happier rather than using money all for ourselves\n",
    "- Happy people use money for other people and care for them \n",
    "- it’s much more powerful than we think it is"
   ]
  },
  {
   "cell_type": "markdown",
   "metadata": {},
   "source": [
    "## Grateful List\n",
    "- family\n",
    "- friends\n",
    "- food\n",
    "- teachers\n",
    "- school\n",
    "- clothes\n",
    "- water\n",
    "- shoes\n",
    "- house\n",
    "- computer\n",
    "- eduactation\n",
    "- freedom\n"
   ]
  },
  {
   "cell_type": "markdown",
   "metadata": {},
   "source": [
    "# Summary: \n",
    "Sometimes students can be overwhelmed from what they expect about college to be, that they miss the small pleasures and opportunities. There are various ways to be happy and express our happiness for others. It requires some effort, but it’s worth it. It surely requires a growth mindset and not being around a negative environment. We should also be grateful for what we have and not compare ourselves to others, because that will lower down our hopes."
   ]
  }
 ],
 "metadata": {
  "kernelspec": {
   "display_name": "Python 3.8.10 64-bit",
   "language": "python",
   "name": "python3"
  },
  "language_info": {
   "name": "python",
   "version": "3.8.10"
  },
  "orig_nbformat": 4,
  "vscode": {
   "interpreter": {
    "hash": "916dbcbb3f70747c44a77c7bcd40155683ae19c65e1c03b4aa3499c5328201f1"
   }
  }
 },
 "nbformat": 4,
 "nbformat_minor": 2
}
