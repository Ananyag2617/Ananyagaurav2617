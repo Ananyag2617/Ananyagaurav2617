{
 "cells": [
  {
   "cell_type": "code",
   "execution_count": null,
   "metadata": {
    "vscode": {
     "languageId": "shellscript"
    }
   },
   "outputs": [],
   "source": [
    "conda list"
   ]
  }
 ],
 "metadata": {
  "kernelspec": {
   "display_name": "Bash",
   "language": "bash",
   "name": "bash"
  },
  "language_info": {
   "name": "bash",
   "version": "3.10.5"
  },
  "orig_nbformat": 4,
  "vscode": {
   "interpreter": {
    "hash": "4abdecfce73f9f2fd397691d72ae2f431dbef91744102263a628cc20cb32e7b4"
   }
  }
 },
 "nbformat": 4,
 "nbformat_minor": 2
}
