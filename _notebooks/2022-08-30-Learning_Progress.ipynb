{
 "cells": [
  {
   "cell_type": "markdown",
   "metadata": {},
   "source": [
    "# Key Learning and Progress - Week of August 22, 2022\n",
    "- categories: [week1]"
   ]
  },
  {
   "cell_type": "markdown",
   "metadata": {},
   "source": [
    "#For this week here are a list of things I learned.....\n",
    "\n",
    "* How to install bash\n",
    "    - I learned how to install bash into vscode and run the code for each line of code!\n",
    "    - learned the pip command and how to do it in the terminal\n",
    "    - how to switch from python, base, and bash.\n",
    "* How to make your own quiz\n",
    "    - I learned how to make my own personalized quiz using python and the kernels\n",
    "* Tools and Check\n",
    "    - how to install the anaconda packages\n",
    "    - learned how to check if the python commands are there\n",
    "    - jupyter packages\n",
    "    - kernel installation\n",
    "* In vscode\n",
    "    - how to make bullet points\n",
    "    - how to commit changes onto my fastpages\n",
    "    - how to make headings\n",
    "    \n",
    "\n"
   ]
  }
 ],
 "metadata": {
  "kernelspec": {
   "display_name": "Python 3.8.10 64-bit",
   "language": "python",
   "name": "python3"
  },
  "language_info": {
   "name": "python",
   "version": "3.8.10"
  },
  "orig_nbformat": 4,
  "vscode": {
   "interpreter": {
    "hash": "916dbcbb3f70747c44a77c7bcd40155683ae19c65e1c03b4aa3499c5328201f1"
   }
  }
 },
 "nbformat": 4,
 "nbformat_minor": 2
}
