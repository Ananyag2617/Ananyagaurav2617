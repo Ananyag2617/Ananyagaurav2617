{
 "cells": [
  {
   "cell_type": "markdown",
   "metadata": {},
   "source": [
    "# Lesson Plan"
   ]
  },
  {
   "cell_type": "markdown",
   "metadata": {},
   "source": [
    "### The lesson we got is 3.16 which is about simulations"
   ]
  },
  {
   "cell_type": "markdown",
   "metadata": {},
   "source": [
    "Here are some notes and essential knowledge for simulations!\n",
    "\n",
    "\n"
   ]
  },
  {
   "cell_type": "markdown",
   "metadata": {},
   "source": [
    "### Objective: How we use computers to reflect real world phenomena via simulations.\n",
    "### Key Points:\n",
    "Computer simulations can be limited and have bias\n",
    " - Example: We can assume that when a car is moving, there will be people in it, which is a proper bias to make. But, a simulation may have a bias on which cars will be chosen to simulate a crash.\n",
    " - Computer simulation examples: \n",
    "  - games\n",
    "  - rolling dice\n",
    "  - spinners\n",
    "  - Molecular models\n",
    "  - Analyze chemicals/reactions\n",
    "  - For air traffic control\n",
    "    - To test and find what is the optimal number of aircrafts that should be in the air at once.\n",
    "### Simulations\n",
    " - Will not always have the same result\n",
    " - They investigate a phenomenon without real-world constraints of time, money, or safety\n",
    " - Holding a real experiment would most likely result in more accurate results\n",
    " - A simulation can model real-world events that aren’t practical to hold experiments for\n",
    "Ex. the air traffic control example-- not very safe or practical to hold an experiment with expensive and dangerous equipment\n",
    "### Question 1\n",
    "An environmental researcher has been conducting a study on the population of hawks in the area in order to predict the number of hawks that will occur in the upcoming year. She created a computer model using data from the past five years. The simulation predicted 42 hawks in the area, but only 29 appeared.\n",
    "Which of the following strategies will be the LEAST likely to offer a more accurate result?\n",
    " - Gathering more data from previous years\n",
    " - Consider adding more data on other species in the area\n",
    " - Taking into consideration changing weather pattern in the area\n",
    " - Remove more data and calculations so the simulation can run faster\n",
    "### Recap\n",
    " - Simulations are abstractions of complex situations done for a specific purpose\n",
    " - Simulations provide opportunities to study and make predictions when experiments are not feasible for many reasons to include: cost, safely, and accessibility\n",
    " - A simulation uses and represents varying sets of data to reflect the changing state of a phenomenon\n",
    " - Developing abstract simulations involve removing details or simplifying functionality\n",
    " - Simulations can be done without the constraints of the real-world\n",
    " - Simulations can have bias\n",
    " - Simulations can refine previous results and hypothesis\n",
    "### Question 2\n",
    "The transportation department would like to build an elevated train system that will route through 3 cities. The transportation department wants to administer a simulation of this train system before construction begins. WHich of the following statements is true about the use of this simulation for the project?\n",
    " - The simulation may reveal possible safety issues that can be corrected before construction begins\n",
    " - The simulation is not needed because other elevated train systems exist.\n",
    " - A simulation cannot be used to test the train system in different weather conditions\n",
    " - The simulation will add high costs to the project.\n",
    "### Question 3\n",
    "Which of the following scenarios would be the LEAST beneficial to have as a simulation?\n",
    " - A retail company wants to identity the item which sold the most on their website\n",
    " - A restaurant wants to determine if the use of robots will increase efficiency\n",
    " - A sports bike company wants to study design changes to their new bike design\n"
   ]
  },
  {
   "cell_type": "markdown",
   "metadata": {},
   "source": [
    "# Plan"
   ]
  },
  {
   "cell_type": "markdown",
   "metadata": {},
   "source": [
    "1. Talk about what similulations are, essential key points, and why and how they are used.\n",
    "2. Show how simualtions can recreate an aspect of our physical world with examples\n"
   ]
  },
  {
   "cell_type": "markdown",
   "metadata": {},
   "source": [
    "# Hacks"
   ]
  },
  {
   "cell_type": "markdown",
   "metadata": {},
   "source": [
    "1. Make a copy of this post into your own repository. \n",
    "2. Complete the MC questions WITH an explanation for your answer.\n",
    "3. Correct errors (we make fake errors)\n",
    "4. Customization of simulation/ make your own\n",
    "5. Copy the simulation into your own repository and make changes to it.\n",
    "\n",
    "\n"
   ]
  }
 ],
 "metadata": {
  "language_info": {
   "name": "python"
  },
  "orig_nbformat": 4
 },
 "nbformat": 4,
 "nbformat_minor": 2
}
