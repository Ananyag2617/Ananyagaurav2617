{
 "cells": [
  {
   "cell_type": "markdown",
   "metadata": {},
   "source": [
    "# Lists, Dictionaries, Iteration Examples\n",
    "- categories: [week2]\n",
    "> An introduction to Data Abstraction using Python Lists [] and Python Dictionaries {}.\n",
    "- Lists and Dictionaries\n",
    "    - Notes:\n",
    "- List and Dictionary Purpose\n",
    "- Appending Two Dictionaries\n",
    "- Randomized Order Selection\n",
    "- Randomized Order Selection #2\n",
    "- Reversed Order\n",
    "- For Loop\n",
    "- Alternate methods for iteration - while loop\n",
    "- Calling a function repeatedly - recursion\n",
    "- Quiz!"
   ]
  },
  {
   "cell_type": "markdown",
   "metadata": {},
   "source": [
    "Lists and Dictionaries\n",
    "Randomized Order Selection\n",
    "Print in Reversed Order With Function\n",
    "Print in Reversed Order Without using reverse() Function\n",
    "List and Dictionary Purpose\n",
    "For Loop\n",
    "While loop\n",
    "Recursion\n",
    "Quiz"
   ]
  },
  {
   "cell_type": "markdown",
   "metadata": {},
   "source": [
    "### Lists and Dictionaries\n",
    "As a quick review we used variables in the introduction last week.  <mark>Variables all have a type</mark>: String, Integer, Float, List and Dictionary are some key types.  In Python, variables are given a type at assignment,  Types are important to understand and will impact operations, as we saw when we were required to user str() function in concatenation.  \n",
    "\n",
    "1. Developers often think of variables as primitives or collections.  Look at this example and see if you can see hypothesize the difference between a primitive and a collection.  \n",
    "2. Take a minute and see if you can reference other elements in the list or other keys in the dictionary. Show output.\n",
    "\n",
    "### Notes:\n",
    "- The main difference between primitive and reference type is that primitive type always has a value, it can never be null but reference type can be null, which denotes the absence of value.\n",
    "- Dictionary items are presented in key:value pairs, and can be referred to by using the key name.\n",
    "\n"
   ]
  },
  {
   "cell_type": "code",
   "execution_count": 54,
   "metadata": {},
   "outputs": [
    {
     "name": "stdout",
     "output_type": "stream",
     "text": [
      "Hi! What is your name?\n",
      "Hello! My name is Ananya Gaurav <class 'str'>\n",
      "\n",
      "How old are you Ananya Gaurav\n",
      "I am 15 <class 'int'>\n",
      "\n",
      "How many siblings do you have?\n",
      "I have 1 sibling <class 'int'>\n",
      "Ananya Gaurav what are your hobbies?\n",
      "My hobbies are playing the paino, Indian classical Dancing, coding, chess, and taking pictures! <class 'str'>\n"
     ]
    }
   ],
   "source": [
    "# variable of type string\n",
    "print(\"Hi! What is your name?\")\n",
    "name = \"Ananya Gaurav\"\n",
    "print(\"Hello! My name is\", name, type(name))\n",
    "\n",
    "print()\n",
    "\n",
    "\n",
    "# variable of type integer\n",
    "print(\"How old are you\", name)\n",
    "age = 15\n",
    "print(\"I am\", age, type(age))\n",
    "\n",
    "print()\n",
    "\n",
    "print(\"How many siblings do you have?\")\n",
    "siblings = 1\n",
    "print(\"I have\", siblings, \"sibling\", type(siblings))\\\n",
    "\n",
    "\n",
    "print(name, \"what are your hobbies?\")      \n",
    "hobbies = \"playing the paino, Indian classical Dancing, coding, chess, and taking pictures!\"\n",
    "print(\"My hobbies are\", hobbies, type(hobbies))\n",
    "\n",
    "\n",
    "\n",
    "\n",
    "Ananya = {\n",
    "    \"name\": name,\n",
    "    \"age\": age,\n",
    "    \"siblings\": siblings,\n",
    "    \"hobbies\": hobbies\n",
    "}\n",
    "\n"
   ]
  },
  {
   "cell_type": "markdown",
   "metadata": {},
   "source": [
    "### List and Dictionary purpose\n",
    "Our society is being built on information.  <mark>List and Dictionaries are used to collect information</mark>.  Mostly, when information is collected it is formed into patterns.  As that pattern is established you will be able collect many instances of that pattern.\n",
    "- List is used to collect many instances of a pattern\n",
    "- Dictionary is used to define data patterns.\n",
    "- Iteration is often used to process through lists.\n",
    "\n",
    "To start exploring more deeply into List, Dictionary and Iteration this example will explore constructing a List of people and cars.\n",
    "- As we learned above, a List is a data type: class 'list'\n",
    "- A <mark>'list' data type has the method '.append(expression)'</mark> that allows you to add to the list.  A class usually has extra method to support working with its objects/instances.\n",
    "- In the example below,  the expression is appended to the 'list' is the data type: class 'dict'\n",
    "- At the end, you see a fairly complicated data structure.  This is a <mark>list of dictionaries</mark>, or a collection of many similar data patterns.  The output looks similar to JavaScript Object Notation (JSON), Jekyll/GitHub pages yml files, FastPages Front Matter. As discussed we will see this key/value patter often, you will be required to understand this data structure and understand the parts.  Just believe it is peasy ;) and it will become so."
   ]
  },
  {
   "cell_type": "code",
   "execution_count": 55,
   "metadata": {},
   "outputs": [
    {
     "name": "stdout",
     "output_type": "stream",
     "text": [
      "While loop\n",
      "\n",
      "\t Name: Ananya Gaurav\n",
      "\t Age: 15\n",
      "\t Siblings: 1\n",
      "\t hobbies: ['playing the paino, Indian classical Dancing, coding, chess, and taking pictures!']\n",
      "\n"
     ]
    }
   ],
   "source": [
    "\n",
    "InfoDb = []\n",
    "\n",
    "InfoDb.append({\n",
    "    \"Name\": \"Ananya Gaurav\",\n",
    "    \"Age\": \"15\",\n",
    "    \"Siblings\": \"1\",\n",
    "    \"hobbies\": [\"playing the paino, Indian classical Dancing, coding, chess, and taking pictures!\"],\n",
    "})\n",
    "\n",
    "\n",
    "\n",
    "def print_data(d_rec):\n",
    "    print(\"\\t\", \"Name:\", d_rec[\"Name\"]) # \\t is a tab indent\n",
    "    print(\"\\t\", \"Age:\", d_rec[\"Age\"])\n",
    "    print(\"\\t\", \"Siblings:\", d_rec[\"Siblings\"])\n",
    "    print(\"\\t\", \"hobbies:\", d_rec[\"hobbies\"])\n",
    "    print()\n",
    "\n",
    "\n",
    "def while_loop():\n",
    "    print(\"While loop\\n\")\n",
    "    i = 0\n",
    "    while i < len(InfoDb):\n",
    "        record = InfoDb[i]\n",
    "        print_data(record)\n",
    "        i += 1\n",
    "    return\n",
    "while_loop()"
   ]
  },
  {
   "cell_type": "markdown",
   "metadata": {},
   "source": [
    "### Appending Two Dictionaries"
   ]
  },
  {
   "cell_type": "code",
   "execution_count": 56,
   "metadata": {},
   "outputs": [
    {
     "name": "stdout",
     "output_type": "stream",
     "text": [
      "[{'Name': 'Ananya', 'Nickname': 'Aisha', 'Age': '15', 'Nationality': 'Indian', 'Born?': 'India', 'Eye_Color': 'Brown', 'Favorite_Food': 'Pasta', 'Sibling': 'Rashi,'}, {'Name': 'Rashi', 'Nickname': 'Gauri', 'Age': '11', 'Nationality': 'Indian', 'Born?': 'India', 'Eye_Color': 'Brown', 'Favorite_Food': 'Pizza', 'Sibling': 'Ananya,'}]\n"
     ]
    }
   ],
   "source": [
    "peopleInfoDb = []\n",
    "\n",
    "peopleInfoDb.append({\n",
    "    \"Name\": \"Ananya\",\n",
    "    \"Nickname\": \"Aisha\",\n",
    "    \"Age\": \"15\",\n",
    "    \"Nationality\": \"Indian\",\n",
    "    \"Born?\": \"India\",\n",
    "    \"Eye_Color\": \"Brown\",\n",
    "    \"Favorite_Food\" : \"Pasta\",\n",
    "    \"Sibling\" : \"Rashi,\"\n",
    "})\n",
    "\n",
    "# Append to List a 2nd Dictionary of key/values\n",
    "peopleInfoDb.append({\n",
    "    \"Name\": \"Rashi\",\n",
    "    \"Nickname\": \"Gauri\",\n",
    "    \"Age\": \"11\",\n",
    "    \"Nationality\": \"Indian\",\n",
    "    \"Born?\": \"India\",\n",
    "    \"Eye_Color\": \"Brown\",\n",
    "    \"Favorite_Food\" : \"Pizza\",\n",
    "    \"Sibling\" : \"Ananya,\"\n",
    "})\n",
    "\n",
    "# Print the data structure\n",
    "print(peopleInfoDb)"
   ]
  },
  {
   "cell_type": "markdown",
   "metadata": {},
   "source": [
    "### Randomized Order Selection"
   ]
  },
  {
   "cell_type": "code",
   "execution_count": 57,
   "metadata": {},
   "outputs": [
    {
     "name": "stdout",
     "output_type": "stream",
     "text": [
      "[4, 4, 67, 47, 33, 46, 52]\n",
      "4\n",
      "4\n",
      "67\n",
      "47\n",
      "33\n",
      "46\n",
      "52\n"
     ]
    }
   ],
   "source": [
    "import random\n",
    "\n",
    "def randnum():\n",
    "    num = []\n",
    "    for i in range(7):\n",
    "        num.append(random.randrange(0 ,70))\n",
    "    print(num)\n",
    "    return num\n",
    "def display(num):\n",
    "    for i in num:\n",
    "        print(i)\n",
    "num = randnum()\n",
    "display(num)"
   ]
  },
  {
   "cell_type": "markdown",
   "metadata": {},
   "source": [
    "### Randomized Order Selection #2"
   ]
  },
  {
   "cell_type": "code",
   "execution_count": 58,
   "metadata": {},
   "outputs": [
    {
     "name": "stdout",
     "output_type": "stream",
     "text": [
      "Lets see what I will eat today?\n",
      "Today for lunch I will eat.... Pasta\n"
     ]
    }
   ],
   "source": [
    "import random\n",
    "print(\"Lets see what I will eat today?\")\n",
    "FOOD = [\"Pasta\", \"Pizza\", \"Icecream\", \"Chocolate\", \"Soup\", \"Fruits\",\"Ramen\"]\n",
    "FOOD = random.choice(FOOD)\n",
    "TIME = [\"breakfast\", \"lunch\", \"dinner\"]\n",
    "TIME = random.choice(TIME)\n",
    "print(\"Today for\", TIME, \"I will eat....\", FOOD)"
   ]
  },
  {
   "cell_type": "markdown",
   "metadata": {},
   "source": [
    "### Reversed Order"
   ]
  },
  {
   "cell_type": "code",
   "execution_count": 59,
   "metadata": {},
   "outputs": [
    {
     "name": "stdout",
     "output_type": "stream",
     "text": [
      "['Wear shoes', 'Pack Lunch', 'Eat Breakfast', 'Get Dressed For School', 'Take Shower', 'Brush Teeth', 'Wake up']\n"
     ]
    }
   ],
   "source": [
    "routine = [\"Wake up\", \"Brush Teeth\", \"Take Shower\", \"Get Dressed For School\", \"Eat Breakfast\", \"Pack Lunch\", \"Wear shoes\"]\n",
    "routine.reverse()\n",
    "print(routine)\n",
    "\n",
    "\n"
   ]
  },
  {
   "cell_type": "markdown",
   "metadata": {},
   "source": [
    "### For Loop\n",
    "### Formatted output of List/Dictionary - for loop\n",
    "Managing data in Lists and Dictionaries is for the convenience of passing the data across the internet, to applications, or preparing it to be stored into a database.  It is a great way to exchange data between programs and programmers.  Exchange of data between programs includes the data type the method/function and the format of the data type.  These concepts are key to learning how to write functions, receive, and return data.  This process is often referred to as an <mark>Application Programming Interface (API)</mark>. \n",
    "\n",
    "Next, we will take the stored data and output it within our notebook.  There are multiple steps to this process...\n",
    "- <mark>Preparing a function to format the data</mark>, the print_data() function receives a parameter called \"d_rec\" short for dictionary record.  It then references different keys within [] square brackets.   \n",
    "- <mark>Preparing a function to iterate through the list</mark>, the for_loop() function uses an enhanced for loop that pull record by record out of InfoDb until the list is empty.  Each time through the loop it call print_data(record), which passes the dictionary record to that function.\n",
    "- Finally, you need to <mark>activate your function</mark> with the call to the defined function for_loop().  Functions are defined, not activated until they are called.  By placing for_loop() at the left margin the function is activated."
   ]
  },
  {
   "cell_type": "code",
   "execution_count": 60,
   "metadata": {},
   "outputs": [
    {
     "name": "stdout",
     "output_type": "stream",
     "text": [
      "For loop output\n",
      "\n",
      "Ananya\n",
      "\t Nickname: Aisha\n",
      "\t Age: 15\n",
      "\t Nationality: Indian\n",
      "\t Born?: India\n",
      "\t Eye_Color: Brown\n",
      "\t Favorite_Food: Pasta\n",
      "\t Sibling: Rashi,\n",
      "\n",
      "Rashi\n",
      "\t Nickname: Gauri\n",
      "\t Age: 11\n",
      "\t Nationality: Indian\n",
      "\t Born?: India\n",
      "\t Eye_Color: Brown\n",
      "\t Favorite_Food: Pizza\n",
      "\t Sibling: Ananya,\n",
      "\n"
     ]
    }
   ],
   "source": [
    "def print_data(d_rec):\n",
    "    print(d_rec[\"Name\"])  # using comma puts space between values\n",
    "    print(\"\\t\", \"Nickname:\", d_rec[\"Nickname\"]) # \\t is a tab indent\n",
    "    print(\"\\t\", \"Age:\", d_rec[\"Age\"])\n",
    "    print(\"\\t\", \"Nationality:\", d_rec[\"Nationality\"])\n",
    "    print(\"\\t\", \"Born?:\", d_rec[\"Born?\"])\n",
    "    print(\"\\t\", \"Eye_Color:\", d_rec[\"Eye_Color\"])\n",
    "    print(\"\\t\", \"Favorite_Food:\", d_rec[\"Favorite_Food\"])\n",
    "    print(\"\\t\", \"Sibling:\", d_rec[\"Sibling\"])\n",
    "\n",
    "\n",
    "\n",
    "    print()\n",
    "\n",
    "\n",
    "# for loop algorithm iterates on length of InfoDb\n",
    "def for_loop():\n",
    "    print(\"For loop output\\n\")\n",
    "    for record in peopleInfoDb:\n",
    "        print_data(record)\n",
    "\n",
    "for_loop()\n",
    "\n",
    "        "
   ]
  },
  {
   "cell_type": "markdown",
   "metadata": {},
   "source": [
    "### Alternate methods for iteration - while loop\n",
    "In coding, there are usually many ways to achieve the same result.  Defined are functions illustrating using index to reference records in a list, these methods are called a \"while\" loop and \"recursion\".\n",
    "- The while_loop() function contains a while loop, \"while i < len(InfoDb):\".  This counts through the elements in the list start at zero, and passes the record to print_data()"
   ]
  },
  {
   "cell_type": "code",
   "execution_count": 61,
   "metadata": {},
   "outputs": [
    {
     "name": "stdout",
     "output_type": "stream",
     "text": [
      "While loop output\n",
      "\n",
      "Ananya\n",
      "\t Nickname: Aisha\n",
      "\t Age: 15\n",
      "\t Nationality: Indian\n",
      "\t Born?: India\n",
      "\t Eye_Color: Brown\n",
      "\t Favorite_Food: Pasta\n",
      "\t Sibling: Rashi,\n",
      "\n",
      "Rashi\n",
      "\t Nickname: Gauri\n",
      "\t Age: 11\n",
      "\t Nationality: Indian\n",
      "\t Born?: India\n",
      "\t Eye_Color: Brown\n",
      "\t Favorite_Food: Pizza\n",
      "\t Sibling: Ananya,\n",
      "\n"
     ]
    }
   ],
   "source": [
    "def while_loop():\n",
    "    print(\"While loop output\\n\")\n",
    "    i = 0\n",
    "    while i < len(peopleInfoDb):\n",
    "        record = peopleInfoDb[i]\n",
    "        print_data(record)\n",
    "        i += 1\n",
    "    return\n",
    "\n",
    "while_loop()"
   ]
  },
  {
   "cell_type": "markdown",
   "metadata": {},
   "source": [
    "### Calling a function repeatedly - recursion\n",
    "This final technique achieves looping by calling itself repeatedly.\n",
    "- recursive_loop(i) function is primed with the value 0 on its activation with \"recursive_loop(0)\"\n",
    "- the last statement indented inside the if statement \"recursive_loop(i + 1)\" activates another call to the recursive_loop(i) function, each time i is increasing\n",
    "- ultimately the \"if i < len(InfoDb):\" will evaluate to false and the program ends"
   ]
  },
  {
   "cell_type": "code",
   "execution_count": 62,
   "metadata": {},
   "outputs": [
    {
     "name": "stdout",
     "output_type": "stream",
     "text": [
      "Recursive loop output\n",
      "\n",
      "Ananya\n",
      "\t Nickname: Aisha\n",
      "\t Age: 15\n",
      "\t Nationality: Indian\n",
      "\t Born?: India\n",
      "\t Eye_Color: Brown\n",
      "\t Favorite_Food: Pasta\n",
      "\t Sibling: Rashi,\n",
      "\n",
      "Rashi\n",
      "\t Nickname: Gauri\n",
      "\t Age: 11\n",
      "\t Nationality: Indian\n",
      "\t Born?: India\n",
      "\t Eye_Color: Brown\n",
      "\t Favorite_Food: Pizza\n",
      "\t Sibling: Ananya,\n",
      "\n"
     ]
    }
   ],
   "source": [
    "def recursive_loop(i):\n",
    "    if i < len(peopleInfoDb):\n",
    "        record = peopleInfoDb[i]\n",
    "        print_data(record)\n",
    "        recursive_loop(i + 1)\n",
    "    return\n",
    "    \n",
    "print(\"Recursive loop output\\n\")\n",
    "recursive_loop(0)"
   ]
  },
  {
   "cell_type": "markdown",
   "metadata": {},
   "source": [
    "### Quiz"
   ]
  },
  {
   "cell_type": "code",
   "execution_count": 66,
   "metadata": {},
   "outputs": [
    {
     "name": "stdout",
     "output_type": "stream",
     "text": [
      "Hi!!!, ananyag2617 running /bin/python3\n",
      "You will be asked 5 questions.\n",
      "Question: Are you ready to take the amazing and fun test?\n",
      "Answer: \n",
      "Question: Who is Rashi's Sibling?\n",
      "Ananya is correct!\n",
      "1\n",
      "Question: What is Ananya's favorite food?\n",
      "Pasta is correct!\n",
      "2\n",
      "Question: What color are Rashi's eyes?\n",
      "Brown is correct!\n",
      "3\n",
      "Question: What is Ananya's Nationality?\n",
      "Indian is correct!\n",
      "4\n",
      "Question: How old is Ananya?\n",
      "15 is correct!\n",
      "5\n",
      "ananyag2617 you scored 5/5\n"
     ]
    }
   ],
   "source": [
    "import getpass, sys\n",
    "#used three variables (q1, q2, q3) for the questions. \n",
    "question1 = \"Who is Rashi's Sibling?\"\n",
    "question2 = \"What is Ananya's favorite food?\"\n",
    "question3 = \"What color are Rashi's eyes?\"\n",
    "question4 = \"What is Ananya's Nationality?\"\n",
    "question5 = \"How old is Ananya?\"\n",
    "\n",
    "\n",
    "#defining a dictionary using the above questions and answers. \n",
    "Test = { question1: \"Ananya\", \n",
    "         question2 : \"Pasta\",\n",
    "         question3: \"Brown\",\n",
    "         question4: \"Indian\", \n",
    "         question5 : \"15\",\n",
    "        }\n",
    "    \n",
    "\n",
    "def question_and_answer(prompt):\n",
    "    print(\"Question: \" + prompt)\n",
    "    msg = input()\n",
    "    print(\"Answer: \" + msg)\n",
    "    \n",
    "def question_with_response(prompt):\n",
    "    print(\"Question: \" + prompt)\n",
    "    msg = input()\n",
    "    return msg\n",
    "\n",
    "#evaluating the answer using the get() function on the dictionary. \"Python dictionary method get() returns a value for the given key. If key is not available then returns default value None.\"\n",
    "def evaluate_answer(question, response, correct):\n",
    "    if response == Test.get(question):\n",
    "      print(response + \" is correct!\")\n",
    "      correct += 1\n",
    "    else:\n",
    "      print(response + \" is incorrect!\")\n",
    "    return correct\n",
    "    \n",
    "\n",
    "\n",
    "questions = 5\n",
    "correct = 0\n",
    "\n",
    "print('Hi!!!, ' + getpass.getuser() + \" running \" + sys.executable)\n",
    "print(\"You will be asked \" + str(questions) + \" questions.\")\n",
    "question_and_answer(\"Are you ready to take the amazing and fun test?\")\n",
    "\n",
    "rsp = question_with_response(question1)\n",
    "correct = evaluate_answer(question1, rsp, correct)\n",
    "print(correct)\n",
    "\n",
    "rsp = question_with_response(question2)\n",
    "correct = evaluate_answer(question2, rsp, correct)\n",
    "print(correct)\n",
    "\n",
    "\n",
    "rsp = question_with_response(question3)\n",
    "correct = evaluate_answer(question3, rsp, correct)\n",
    "print(correct)\n",
    "\n",
    "rsp = question_with_response(question4)\n",
    "correct = evaluate_answer(question4, rsp, correct)\n",
    "print(correct)\n",
    "\n",
    "rsp = question_with_response(question5)\n",
    "correct = evaluate_answer(question5, rsp, correct)\n",
    "print(correct)\n",
    "\n",
    "print(getpass.getuser() + \" you scored \" + str(correct) +\"/\" + str(questions))"
   ]
  }
 ],
 "metadata": {
  "kernelspec": {
   "display_name": "Python 3.8.10 64-bit",
   "language": "python",
   "name": "python3"
  },
  "language_info": {
   "codemirror_mode": {
    "name": "ipython",
    "version": 3
   },
   "file_extension": ".py",
   "mimetype": "text/x-python",
   "name": "python",
   "nbconvert_exporter": "python",
   "pygments_lexer": "ipython3",
   "version": "3.8.10"
  },
  "orig_nbformat": 4,
  "vscode": {
   "interpreter": {
    "hash": "916dbcbb3f70747c44a77c7bcd40155683ae19c65e1c03b4aa3499c5328201f1"
   }
  }
 },
 "nbformat": 4,
 "nbformat_minor": 2
}
