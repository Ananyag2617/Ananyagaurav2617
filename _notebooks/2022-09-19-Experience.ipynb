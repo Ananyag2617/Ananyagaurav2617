{
 "cells": [
  {
   "cell_type": "markdown",
   "metadata": {},
   "source": [
    "# My computer science experience so far......"
   ]
  },
  {
   "cell_type": "markdown",
   "metadata": {},
   "source": [
    "# Before taking this class\n",
    "Before taking this class, I had already done numerous classes and camps in middle school and out of school. In middle school I took programming as my elective and did that for two years. When the pandemic hit, thats when I started getting serious about programming and learned the basics of python. My dad taught many things and also gave me resoucres such as udemy and w3schools. I also took online classes with my friends where we did little projects togetehr and showed off our skills."
   ]
  },
  {
   "cell_type": "markdown",
   "metadata": {},
   "source": [
    "# Taking this class and what I have leanred \n",
    "Although I had already leanred lists, dictionaries, tuples, ect, there were still many things that I have learned so far. I didn't know anything about github or vscode. After taking this class, I have learned how to make my own blog and commit changes. This week I learned how to make changes without commiting the changes I make on vscode. I am really excited to see what I learn as the weeks go on, because I quite surprised with what I have learned in these past weeks,"
   ]
  }
 ],
 "metadata": {
  "language_info": {
   "name": "python"
  },
  "orig_nbformat": 4
 },
 "nbformat": 4,
 "nbformat_minor": 2
}
