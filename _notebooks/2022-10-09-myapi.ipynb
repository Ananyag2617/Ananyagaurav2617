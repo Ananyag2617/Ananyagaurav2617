{
 "cells": [
  {
   "cell_type": "markdown",
   "metadata": {},
   "source": [
    "# My APIs\n"
   ]
  },
  {
   "cell_type": "markdown",
   "metadata": {},
   "source": [
    "\n",
    "## These are the recources I used\n",
    "> Find and use an API as part of your project.  An API and a little coding logic will be a big step toward getting meaningful data for a project.  There are many API providers, find one that might work for your project to complete this hack. When picking an API you are looking for something that will work with either JavaScript Fetch or Python Request.  Here are some samples, these are not qualified in any way.  \n",
    "- [RapidAPI](https://rapidapi.com/collection/list-of-free-apis)\n",
    "- [GitHub Project](https://github.com/public-apis/public-apis/blob/master/README.md)\n",
    "- [No Key APIs Article](https://nordicapis.com/9-free-public-apis-that-offer-up-some-cool-open-data/)\n",
    "- [Twitter Developer](https://developer.twitter.com/en/docs/twitter-api)\n",
    "- [Google Developer](https://developers.google.com/apis-explorer)\n",
    "- [Reddit Developer](https://www.reddit.com/dev/api/)\n",
    "\n"
   ]
  },
  {
   "cell_type": "markdown",
   "metadata": {},
   "source": [
    "## These are the APIs I thought would be great for my group project, I also tetsed them out!"
   ]
  },
  {
   "cell_type": "markdown",
   "metadata": {},
   "source": [
    "# My API example 1\n",
    "This is an API I thought would be great for my group project"
   ]
  },
  {
   "cell_type": "code",
   "execution_count": 1,
   "metadata": {},
   "outputs": [
    {
     "name": "stdout",
     "output_type": "stream",
     "text": [
      "{\"key\":\"949fd6aa438016b675a0\",\"error\":\"\",\"code\":200,\"id\":\"MyMemory_dbbaeba70b342c20334a\",\"pass\":\"b77b80b2f9\"}\n"
     ]
    }
   ],
   "source": [
    "import requests\n",
    "\n",
    "url = \"https://translated-mymemory---translation-memory.p.rapidapi.com/createkey\"\n",
    "\n",
    "headers = {\n",
    "\t\"X-RapidAPI-Key\": \"2d79bbde22mshed34d34c65d8472p1365cejsn7594c6e54840\",\n",
    "\t\"X-RapidAPI-Host\": \"translated-mymemory---translation-memory.p.rapidapi.com\"\n",
    "}\n",
    "\n",
    "response = requests.request(\"GET\", url, headers=headers)\n",
    "\n",
    "print(response.text)"
   ]
  },
  {
   "cell_type": "markdown",
   "metadata": {},
   "source": [
    "# My API example number 2\n",
    "This is an API related to wordle"
   ]
  },
  {
   "cell_type": "code",
   "execution_count": 2,
   "metadata": {},
   "outputs": [
    {
     "name": "stdout",
     "output_type": "stream",
     "text": [
      "{\"today\":\"VIGOR\"}\n"
     ]
    }
   ],
   "source": [
    "import requests\n",
    "\n",
    "url = \"https://wordle-answers-solutions.p.rapidapi.com/today\"\n",
    "\n",
    "headers = {\n",
    "\t\"X-RapidAPI-Key\": \"2d79bbde22mshed34d34c65d8472p1365cejsn7594c6e54840\",\n",
    "\t\"X-RapidAPI-Host\": \"wordle-answers-solutions.p.rapidapi.com\"\n",
    "}\n",
    "\n",
    "response = requests.request(\"GET\", url, headers=headers)\n",
    "\n",
    "print(response.text)"
   ]
  },
  {
   "cell_type": "markdown",
   "metadata": {},
   "source": [
    "# My API number 3: Random Words with Pronunciation API Documentation"
   ]
  },
  {
   "cell_type": "code",
   "execution_count": 3,
   "metadata": {},
   "outputs": [
    {
     "name": "stdout",
     "output_type": "stream",
     "text": [
      "[\n",
      "  {\n",
      "    \"word\": \"Dr\",\n",
      "    \"definition\": \"Dr\",\n",
      "    \"pronunciation\": \"Tr\"\n",
      "  }\n",
      "]\n"
     ]
    }
   ],
   "source": [
    "import requests\n",
    "\n",
    "url = \"https://random-words-with-pronunciation.p.rapidapi.com/word/dutch\"\n",
    "\n",
    "headers = {\n",
    "\t\"X-RapidAPI-Key\": \"2d79bbde22mshed34d34c65d8472p1365cejsn7594c6e54840\",\n",
    "\t\"X-RapidAPI-Host\": \"random-words-with-pronunciation.p.rapidapi.com\"\n",
    "}\n",
    "\n",
    "response = requests.request(\"GET\", url, headers=headers)\n",
    "\n",
    "print(response.text)"
   ]
  },
  {
   "cell_type": "code",
   "execution_count": 1,
   "metadata": {},
   "outputs": [
    {
     "ename": "ModuleNotFoundError",
     "evalue": "No module named 'rich'",
     "output_type": "error",
     "traceback": [
      "\u001b[0;31m---------------------------------------------------------------------------\u001b[0m",
      "\u001b[0;31mModuleNotFoundError\u001b[0m                       Traceback (most recent call last)",
      "\u001b[1;32m/home/ananyag2617/vscode/ananyagaurav2617/_notebooks/2022-10-09-myapi.ipynb Cell 10\u001b[0m in \u001b[0;36m<cell line: 1>\u001b[0;34m()\u001b[0m\n\u001b[0;32m----> <a href='vscode-notebook-cell://wsl%2Bubuntu/home/ananyag2617/vscode/ananyagaurav2617/_notebooks/2022-10-09-myapi.ipynb#X13sdnNjb2RlLXJlbW90ZQ%3D%3D?line=0'>1</a>\u001b[0m \u001b[39mfrom\u001b[39;00m \u001b[39mrich\u001b[39;00m\u001b[39m.\u001b[39;00m\u001b[39mprompt\u001b[39;00m \u001b[39mimport\u001b[39;00m Prompt\n\u001b[1;32m      <a href='vscode-notebook-cell://wsl%2Bubuntu/home/ananyag2617/vscode/ananyagaurav2617/_notebooks/2022-10-09-myapi.ipynb#X13sdnNjb2RlLXJlbW90ZQ%3D%3D?line=1'>2</a>\u001b[0m \u001b[39mfrom\u001b[39;00m \u001b[39mrich\u001b[39;00m\u001b[39m.\u001b[39;00m\u001b[39mconsole\u001b[39;00m \u001b[39mimport\u001b[39;00m Console\n\u001b[1;32m      <a href='vscode-notebook-cell://wsl%2Bubuntu/home/ananyag2617/vscode/ananyagaurav2617/_notebooks/2022-10-09-myapi.ipynb#X13sdnNjb2RlLXJlbW90ZQ%3D%3D?line=2'>3</a>\u001b[0m \u001b[39mfrom\u001b[39;00m \u001b[39mrandom\u001b[39;00m \u001b[39mimport\u001b[39;00m choice\n",
      "\u001b[0;31mModuleNotFoundError\u001b[0m: No module named 'rich'"
     ]
    }
   ],
   "source": [
    "from rich.prompt import Prompt\n",
    "from rich.console import Console\n",
    "from random import choice\n",
    "from words import word_list\n",
    "\n",
    "SQUARES = {\n",
    "    'correct_place': '🟩',\n",
    "    'correct_letter': '🟨',\n",
    "    'incorrect_letter': '⬛'\n",
    "}\n",
    "\n",
    "WELCOME_MESSAGE = f'\\n[white on blue] WELCOME TO WORDLE [/]\\n'\n",
    "PLAYER_INSTRUCTIONS = \"You may start guessing\\n\"\n",
    "GUESS_STATEMENT = \"\\nEnter your guess\"\n",
    "ALLOWED_GUESSES = 6\n",
    "\n",
    "def correct_place(letter):\n",
    "    return f'[black on green]{letter}[/]'\n",
    "\n",
    "\n",
    "def correct_letter(letter):\n",
    "    return f'[black on yellow]{letter}[/]'\n",
    "\n",
    "\n",
    "def incorrect_letter(letter):\n",
    "    return f'[black on white]{letter}[/]'\n",
    "\n",
    "\n",
    "def check_guess(guess, answer):\n",
    "    guessed = []\n",
    "    wordle_pattern = []\n",
    "    for i, letter in enumerate(guess):\n",
    "        if answer[i] == guess[i]:\n",
    "            guessed += correct_place(letter)\n",
    "            wordle_pattern.append(SQUARES['correct_place'])\n",
    "        elif letter in answer:\n",
    "            guessed += correct_letter(letter)\n",
    "            wordle_pattern.append(SQUARES['correct_letter'])\n",
    "        else:\n",
    "            guessed += incorrect_letter(letter)\n",
    "            wordle_pattern.append(SQUARES['incorrect_letter'])\n",
    "    return ''.join(guessed), ''.join(wordle_pattern)\n",
    "\n",
    "\n",
    "def game(console, chosen_word):\n",
    "    end_of_game = False\n",
    "    already_guessed = []\n",
    "    full_wordle_pattern = []\n",
    "    all_words_guessed = []\n",
    "\n",
    "    while not end_of_game:\n",
    "        guess = Prompt.ask(GUESS_STATEMENT).upper()\n",
    "        while len(guess) != 5 or guess in already_guessed:\n",
    "            if guess in already_guessed:\n",
    "                console.print(\"[red]You've already guessed this word!!\\n[/]\")\n",
    "            else:\n",
    "                console.print('[red]Please enter a 5-letter word!!\\n[/]')\n",
    "            guess = Prompt.ask(GUESS_STATEMENT).upper()\n",
    "        already_guessed.append(guess)\n",
    "        guessed, pattern = check_guess(guess, chosen_word)\n",
    "        all_words_guessed.append(guessed)\n",
    "        full_wordle_pattern.append(pattern)\n",
    "\n",
    "        console.print(*all_words_guessed, sep=\"\\n\")\n",
    "        if guess == chosen_word or len(already_guessed) == ALLOWED_GUESSES:\n",
    "            end_of_game = True\n",
    "    if len(already_guessed) == ALLOWED_GUESSES and guess != chosen_word:\n",
    "        console.print(f\"\\n[red]WORDLE X/{ALLOWED_GUESSES}[/]\")\n",
    "        console.print(f'\\n[green]Correct Word: {chosen_word}[/]')\n",
    "    else:\n",
    "        console.print(f\"\\n[green]WORDLE {len(already_guessed)}/{ALLOWED_GUESSES}[/]\\n\")\n",
    "    console.print(*full_wordle_pattern, sep=\"\\n\")\n",
    "\n",
    "\n",
    "if __name__ == '__main__':\n",
    "    console = Console()\n",
    "    chosen_word = choice(word_list)\n",
    "    console.print(WELCOME_MESSAGE)\n",
    "    console.print(PLAYER_INSTRUCTIONS)\n",
    "    game(console, chosen_word)"
   ]
  }
 ],
 "metadata": {
  "kernelspec": {
   "display_name": "Python 3.8.10 64-bit",
   "language": "python",
   "name": "python3"
  },
  "language_info": {
   "codemirror_mode": {
    "name": "ipython",
    "version": 3
   },
   "file_extension": ".py",
   "mimetype": "text/x-python",
   "name": "python",
   "nbconvert_exporter": "python",
   "pygments_lexer": "ipython3",
   "version": "3.8.10"
  },
  "orig_nbformat": 4,
  "vscode": {
   "interpreter": {
    "hash": "916dbcbb3f70747c44a77c7bcd40155683ae19c65e1c03b4aa3499c5328201f1"
   }
  }
 },
 "nbformat": 4,
 "nbformat_minor": 2
}
