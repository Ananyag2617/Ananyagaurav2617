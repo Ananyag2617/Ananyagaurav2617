{
 "cells": [
  {
   "cell_type": "markdown",
   "metadata": {},
   "source": [
    "# My APIs\n"
   ]
  },
  {
   "cell_type": "markdown",
   "metadata": {},
   "source": [
    "\n",
    "## These are the recources I used\n",
    "> Find and use an API as part of your project.  An API and a little coding logic will be a big step toward getting meaningful data for a project.  There are many API providers, find one that might work for your project to complete this hack. When picking an API you are looking for something that will work with either JavaScript Fetch or Python Request.  Here are some samples, these are not qualified in any way.  \n",
    "- [RapidAPI](https://rapidapi.com/collection/list-of-free-apis)\n",
    "- [GitHub Project](https://github.com/public-apis/public-apis/blob/master/README.md)\n",
    "- [No Key APIs Article](https://nordicapis.com/9-free-public-apis-that-offer-up-some-cool-open-data/)\n",
    "- [Twitter Developer](https://developer.twitter.com/en/docs/twitter-api)\n",
    "- [Google Developer](https://developers.google.com/apis-explorer)\n",
    "- [Reddit Developer](https://www.reddit.com/dev/api/)\n",
    "\n"
   ]
  },
  {
   "cell_type": "markdown",
   "metadata": {},
   "source": [
    "## These are the APIs I thought would be great for my group project, I also tetsed them out!"
   ]
  },
  {
   "cell_type": "markdown",
   "metadata": {},
   "source": [
    "# My API example 1\n",
    "This is an API I thought would be great for my group project"
   ]
  },
  {
   "cell_type": "code",
   "execution_count": 1,
   "metadata": {},
   "outputs": [
    {
     "name": "stdout",
     "output_type": "stream",
     "text": [
      "{\"key\":\"949fd6aa438016b675a0\",\"error\":\"\",\"code\":200,\"id\":\"MyMemory_dbbaeba70b342c20334a\",\"pass\":\"b77b80b2f9\"}\n"
     ]
    }
   ],
   "source": [
    "import requests\n",
    "\n",
    "url = \"https://translated-mymemory---translation-memory.p.rapidapi.com/createkey\"\n",
    "\n",
    "headers = {\n",
    "\t\"X-RapidAPI-Key\": \"2d79bbde22mshed34d34c65d8472p1365cejsn7594c6e54840\",\n",
    "\t\"X-RapidAPI-Host\": \"translated-mymemory---translation-memory.p.rapidapi.com\"\n",
    "}\n",
    "\n",
    "response = requests.request(\"GET\", url, headers=headers)\n",
    "\n",
    "print(response.text)"
   ]
  },
  {
   "cell_type": "markdown",
   "metadata": {},
   "source": [
    "# My API example number 2\n",
    "This is an API related to wordle"
   ]
  },
  {
   "cell_type": "code",
   "execution_count": 2,
   "metadata": {},
   "outputs": [
    {
     "name": "stdout",
     "output_type": "stream",
     "text": [
      "{\"today\":\"VIGOR\"}\n"
     ]
    }
   ],
   "source": [
    "import requests\n",
    "\n",
    "url = \"https://wordle-answers-solutions.p.rapidapi.com/today\"\n",
    "\n",
    "headers = {\n",
    "\t\"X-RapidAPI-Key\": \"2d79bbde22mshed34d34c65d8472p1365cejsn7594c6e54840\",\n",
    "\t\"X-RapidAPI-Host\": \"wordle-answers-solutions.p.rapidapi.com\"\n",
    "}\n",
    "\n",
    "response = requests.request(\"GET\", url, headers=headers)\n",
    "\n",
    "print(response.text)"
   ]
  },
  {
   "cell_type": "markdown",
   "metadata": {},
   "source": [
    "# My API number 3: Random Words with Pronunciation API Documentation"
   ]
  },
  {
   "cell_type": "code",
   "execution_count": 3,
   "metadata": {},
   "outputs": [
    {
     "name": "stdout",
     "output_type": "stream",
     "text": [
      "[\n",
      "  {\n",
      "    \"word\": \"Dr\",\n",
      "    \"definition\": \"Dr\",\n",
      "    \"pronunciation\": \"Tr\"\n",
      "  }\n",
      "]\n"
     ]
    }
   ],
   "source": [
    "import requests\n",
    "\n",
    "url = \"https://random-words-with-pronunciation.p.rapidapi.com/word/dutch\"\n",
    "\n",
    "headers = {\n",
    "\t\"X-RapidAPI-Key\": \"2d79bbde22mshed34d34c65d8472p1365cejsn7594c6e54840\",\n",
    "\t\"X-RapidAPI-Host\": \"random-words-with-pronunciation.p.rapidapi.com\"\n",
    "}\n",
    "\n",
    "response = requests.request(\"GET\", url, headers=headers)\n",
    "\n",
    "print(response.text)"
   ]
  }
 ],
 "metadata": {
  "kernelspec": {
   "display_name": "Python 3.8.10 64-bit",
   "language": "python",
   "name": "python3"
  },
  "language_info": {
   "codemirror_mode": {
    "name": "ipython",
    "version": 3
   },
   "file_extension": ".py",
   "mimetype": "text/x-python",
   "name": "python",
   "nbconvert_exporter": "python",
   "pygments_lexer": "ipython3",
   "version": "3.8.10"
  },
  "orig_nbformat": 4,
  "vscode": {
   "interpreter": {
    "hash": "916dbcbb3f70747c44a77c7bcd40155683ae19c65e1c03b4aa3499c5328201f1"
   }
  }
 },
 "nbformat": 4,
 "nbformat_minor": 2
}
