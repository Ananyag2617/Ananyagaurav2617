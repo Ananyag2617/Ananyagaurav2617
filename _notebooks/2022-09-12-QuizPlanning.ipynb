{
 "cells": [
  {
   "cell_type": "markdown",
   "metadata": {},
   "source": [
    "# Code.org App Lab Quiz\n",
    "> All the steps and planning I did for the Code.org app quiz!\n"
   ]
  },
  {
   "cell_type": "markdown",
   "metadata": {},
   "source": [
    "\n",
    "Here is a link to my quiz : [Click Here](https://studio.code.org/projects/applab/-peUPlrwjVHR-rgW5aU0VYVA5D8e5jaySz2QT1-ePps)\n",
    "\n",
    "### Quiz Ideas\n",
    "- guess the celebrity\n",
    "- guess the next lyrics\n",
    "- guess the fruit\n",
    "- guess what the album is"
   ]
  },
  {
   "cell_type": "markdown",
   "metadata": {},
   "source": [
    "# Guess the next lyrics quiz\n",
    "Concept of my quiz:\n",
    "\n",
    "For my quiz I added 4 questions for each level. There are 2 levels, Easy and Hard, the player gets to choose which level they would like to be quizzed on. As they first start the quiz, the song that they are being questioned on will play along, and when they move on to the next question, the song will change accordingly.\n"
   ]
  },
  {
   "cell_type": "markdown",
   "metadata": {},
   "source": [
    "# Ideas of what I could add\n",
    "## Welcome screen\n",
    "- play music\n",
    "- ask if they have played a similar type of quiz\n",
    "- how was their day question\n",
    "-easy or hard mode\n",
    "\n",
    "## Instrcutions Page\n",
    "- explain the instrcutions and the game through texting style\n",
    "- just type the instrcutions\n",
    "- have them click to make the instrcutions pop up\n",
    "\n",
    "## Easy and Hard Mode\n",
    "- put a background\n",
    "- make a theme\n",
    "- Button: EASY\n",
    "- Button: HARD\n",
    "\n",
    "## Easy Mode:\n",
    " -  4 questions\n",
    " - play music as they answer questions\n",
    " - make points???\n",
    " - put a good job slide\n",
    "\n",
    "## Hard Mode:\n",
    "- 4 questions\n",
    "- play music as they answer the questions\n",
    "- put a good job slide\n",
    "- wrong slide\n",
    "- make them type the lyrics for hard mode\n",
    "\n",
    "## Ending slide\n",
    "- put a gif\n",
    "- congrats pic\n",
    "\n",
    "\n"
   ]
  },
  {
   "cell_type": "markdown",
   "metadata": {},
   "source": [
    "# Problems Encountered and Making the Quiz\n",
    "There were many problems I had while making this quiz. I had trouble downloading the songs into code.org, because it would take a long time and sometimes would even fail. My quiz would fail because I didnt add the correct name of the button or slide. Sometimes I had missing code in between several, so I would have to go back and find what was wrong. Making the quiz was a little hard because I had trouble choosing what topic to do and organizing all the questions and code.\n",
    "\n",
    "\n",
    "\n",
    "\n",
    "\n",
    "\n",
    "\n",
    "\n",
    "\n",
    "\n",
    "\n",
    "\n",
    "\n",
    "\n",
    "\n",
    "\n",
    "\n",
    "\n",
    "\n",
    "\n",
    "\n",
    "\n",
    "\n",
    "\n",
    "\n",
    "\n",
    "\n",
    "\n",
    "\n",
    "\n",
    "\n",
    "\n",
    "\n",
    "\n",
    "\n",
    "\n",
    "\n",
    "\n",
    "\n",
    "\n",
    "\n",
    "\n",
    "\n",
    "\n",
    "\n",
    "\n",
    "\n",
    "\n",
    "\n",
    "\n",
    "\n"
   ]
  }
 ],
 "metadata": {
  "kernelspec": {
   "display_name": "Python 3.8.10 64-bit",
   "language": "python",
   "name": "python3"
  },
  "language_info": {
   "name": "python",
   "version": "3.8.10"
  },
  "orig_nbformat": 4,
  "vscode": {
   "interpreter": {
    "hash": "916dbcbb3f70747c44a77c7bcd40155683ae19c65e1c03b4aa3499c5328201f1"
   }
  }
 },
 "nbformat": 4,
 "nbformat_minor": 2
}
