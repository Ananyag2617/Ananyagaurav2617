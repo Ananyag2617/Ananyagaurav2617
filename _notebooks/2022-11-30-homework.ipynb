{
 "cells": [
  {
   "cell_type": "markdown",
   "metadata": {},
   "source": [
    "# Homework \n",
    "\n",
    "- toc: true\n",
    "- badges: true\n",
    "- comments: true\n",
    "- categories: [Week 13]"
   ]
  },
  {
   "cell_type": "markdown",
   "metadata": {},
   "source": [
    "## Homework/Hacks\n",
    "\n",
    " our homework we have decided for a decimal number to binary converter. You must use conditional statements within your code and have a input box for where the decimal number will go. This will give you a 2.7 out of 3 and you may add anything else to the code to get above a 2.7\n",
    "\n"
   ]
  },
  {
   "cell_type": "markdown",
   "metadata": {},
   "source": [
    "Below is an example of decimal number to binary converter which you can use as a starting template."
   ]
  },
  {
   "cell_type": "code",
   "execution_count": 2,
   "metadata": {},
   "outputs": [
    {
     "name": "stdout",
     "output_type": "stream",
     "text": [
      "1010"
     ]
    }
   ],
   "source": [
    "# So the first thing im going to do is make a function using if and else statemnts\n",
    "def find(dec_num): #dec_num is the decimal number\n",
    "    if(dec_num==0):# we want the number to be an integer so we will add \"int\" before\n",
    "        # this will check if the number inuputed  has a remainder or not\n",
    "        return\n",
    "    else:\n",
    "        find(int(dec_num/2))# this is for if the remainder is not 0, so it will divide by 2\n",
    "        print(dec_num % 2, end=\"\") #The % is to calulcate what the remainder is\n",
    "        # We need to make sure to include the end=\"\", because if we dont do this, the numbers will be printed in different lines, but we want them in one single line.\n",
    "\n",
    "#now we need to call the function dec_num\n",
    "find(10)"
   ]
  },
  {
   "cell_type": "markdown",
   "metadata": {},
   "source": [
    "# EXTRA"
   ]
  },
  {
   "cell_type": "markdown",
   "metadata": {},
   "source": [
    "# Using the bin method"
   ]
  },
  {
   "cell_type": "code",
   "execution_count": 7,
   "metadata": {},
   "outputs": [
    {
     "name": "stdout",
     "output_type": "stream",
     "text": [
      "10111\n"
     ]
    }
   ],
   "source": [
    "# The easiest way to do this is to use the bin function\n",
    "num = 23\n",
    "# print(bin(num)) now if we just print this we will get something like this as an answer: 0b10111\n",
    "#So if we want to remove the Ob, we want to add [2:]\n",
    "print(bin(num)[2:])"
   ]
  },
  {
   "cell_type": "markdown",
   "metadata": {},
   "source": [
    "# Bin with user input"
   ]
  },
  {
   "cell_type": "code",
   "execution_count": 8,
   "metadata": {},
   "outputs": [
    {
     "name": "stdout",
     "output_type": "stream",
     "text": [
      "1100100\n"
     ]
    }
   ],
   "source": [
    "# We can do the same trick with user input!\n",
    "num  = int(input(\"Please enter a number!\"))\n",
    "print(bin(num)[2:])"
   ]
  },
  {
   "cell_type": "markdown",
   "metadata": {},
   "source": [
    "# Converting text into binary"
   ]
  },
  {
   "cell_type": "code",
   "execution_count": 21,
   "metadata": {},
   "outputs": [
    {
     "name": "stdout",
     "output_type": "stream",
     "text": [
      "65\n",
      "1000001\n",
      "1001000 1101001 100000 1001001 100000 1100001 1101101 100000 1100111 1101111 1101001 1101110 1100111 100000 1110100 1101111 100000 1100011 1101111 1101110 1110110 1100101 1110010 1110100 100000 1110100 1101000 1101001 1110011 100000 1110100 1100101 1111000 1110100 100000 1101001 1101110 1110100 1101111 100000 1100010 1101001 1101110 1100001 1110010 1111001\n"
     ]
    }
   ],
   "source": [
    "# Since we can convert number into binary, I watched a few videos and even learned that we can convert text into binary \n",
    "print(ord(\"A\"))\n",
    "# The ord function converts any character(letter) into an integer, this is case sensative\n",
    "# we are going to build off of this\n",
    "\n",
    "# Now if I want this in bianry form, I am going to use the format function\n",
    "print(format(ord(\"A\"), \"b\")) # \"b\" stands for binary \n",
    "# I am still a little unsure of why the string is needed, but I do know is that if we dont include it, it will not convert it into a binary number\n",
    "\n",
    "text = \"Hi I am going to convert this text into binary\"\n",
    "# So in the following code what I did was first use ord to convert each and every character in the string to an integer, then i used the format function to format it into a binary number\n",
    "# the \" \" is the whitespace also the connector\n",
    "# everything in the collection(whitespace) that we pass to the join() function will be joined together using the string\n",
    "binary = \" \".join(format(ord(c), \"b\") for c in text) # the for c will go through each and every character in the string and convert it into a binary\n",
    "print(binary)\n",
    "\n",
    "\n",
    "\n",
    "\n",
    "\n"
   ]
  }
 ],
 "metadata": {
  "kernelspec": {
   "display_name": "Python 3.9.6 64-bit",
   "language": "python",
   "name": "python3"
  },
  "language_info": {
   "codemirror_mode": {
    "name": "ipython",
    "version": 3
   },
   "file_extension": ".py",
   "mimetype": "text/x-python",
   "name": "python",
   "nbconvert_exporter": "python",
   "pygments_lexer": "ipython3",
   "version": "3.8.10"
  },
  "orig_nbformat": 4,
  "vscode": {
   "interpreter": {
    "hash": "31f2aee4e71d21fbe5cf8b01ff0e069b9275f58929596ceb00d14d90e3e16cd6"
   }
  }
 },
 "nbformat": 4,
 "nbformat_minor": 2
}
